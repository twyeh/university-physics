{
  "nbformat": 4,
  "nbformat_minor": 0,
  "metadata": {
    "colab": {
      "provenance": [],
      "authorship_tag": "ABX9TyOYayaA1+t5k/OLSi3I2M7W",
      "include_colab_link": true
    },
    "kernelspec": {
      "name": "python3",
      "display_name": "Python 3"
    },
    "language_info": {
      "name": "python"
    }
  },
  "cells": [
    {
      "cell_type": "markdown",
      "metadata": {
        "id": "view-in-github",
        "colab_type": "text"
      },
      "source": [
        "<a href=\"https://colab.research.google.com/github/twyeh/university-physics/blob/main/Electrical_fields_from_a_plan.ipynb\" target=\"_parent\"><img src=\"https://colab.research.google.com/assets/colab-badge.svg\" alt=\"Open In Colab\"/></a>"
      ]
    },
    {
      "cell_type": "markdown",
      "source": [
        "Use python and sympy to write a code to calculate the electrical fileds from one thin plan with sides of a and b in and x and y directions. The plan has charge uniform distribution. The electrical fields are in three dimensions."
      ],
      "metadata": {
        "id": "bTZW_66CjbYV"
      }
    },
    {
      "source": [
        "import sympy as sp\n",
        "\n",
        "# Define symbolic variables\n",
        "x, y, z, xp, yp, zp, Q, a, b, k = sp.symbols('x y z xp yp zp Q a b k' , real=True, real_roots=True)\n",
        "\n",
        "# Define the charge density\n",
        "rho = Q / (a * b)\n",
        "\n",
        "# Define the electric field integrand\n",
        "Ex_integrand = k*rho * (x - xp) * sp.Pow(sp.Pow(x - xp,2) + sp.Pow(y - yp,2) + sp.Pow(z,2), -3/2)\n",
        "Ey_integrand = k*rho * (y - yp) * sp.Pow(sp.Pow(x - xp,2) + sp.Pow(y - yp,2) + sp.Pow(z,2), -3/2)\n",
        "Ez_integrand = k*rho * z * sp.Pow(sp.Pow(xp,2) + sp.Pow(yp,2) + sp.Pow(z,2), -3/2)\n",
        "\n",
        "\n",
        "# Integrate to find the electric field components\n",
        "Exx = sp.integrate(Ex_integrand, (xp, -a/2, a/2), meijerg=False)\n",
        "Eyy = sp.integrate(Ey_integrand, (yp, -b/2, b/2), meijerg=False)\n",
        "Ezx = sp.integrate(Ez_integrand, (xp, x-a/2, x+a/2), meijerg=False)\n",
        "\n",
        "# Display the results\n",
        "display(\"Exx =\", Exx)\n",
        "display(\"Eyx =\", Eyy)\n",
        "display(\"Ezx =\", Ezx)\n",
        "\n",
        "Ex = sp.integrate(Exx, (yp, -b/2, b/2), meijerg=False)\n",
        "Ey = sp.integrate(Eyy, (xp, -a/2, a/2), meijerg=False)\n",
        "Ez = sp.integrate(Ezx, (yp, y-b/2, y+b/2), meijerg=False)\n",
        "\n",
        "# Display the results\n",
        "display(\"Ex =\", Ex)\n",
        "display(\"Ey =\", Ey)\n",
        "display(\"Ez =\", Ez)"
      ],
      "cell_type": "code",
      "metadata": {
        "colab": {
          "base_uri": "https://localhost:8080/",
          "height": 699
        },
        "id": "LdsgEuMdjerw",
        "outputId": "fbb12a9d-7210-41d1-9f03-3e2707d081d4"
      },
      "execution_count": 22,
      "outputs": [
        {
          "output_type": "display_data",
          "data": {
            "text/plain": [
              "'Exx ='"
            ],
            "application/vnd.google.colaboratory.intrinsic+json": {
              "type": "string"
            }
          },
          "metadata": {}
        },
        {
          "output_type": "display_data",
          "data": {
            "text/plain": [
              "1.0*Q*k/(a*b*(z**2 + (-a/2 + x)**2 + (y - yp)**2)**0.5) - 1.0*Q*k/(a*b*(z**2 + (a/2 + x)**2 + (y - yp)**2)**0.5)"
            ],
            "text/latex": "$\\displaystyle \\frac{1.0 Q k}{a b \\left(z^{2} + \\left(- \\frac{a}{2} + x\\right)^{2} + \\left(y - yp\\right)^{2}\\right)^{0.5}} - \\frac{1.0 Q k}{a b \\left(z^{2} + \\left(\\frac{a}{2} + x\\right)^{2} + \\left(y - yp\\right)^{2}\\right)^{0.5}}$"
          },
          "metadata": {}
        },
        {
          "output_type": "display_data",
          "data": {
            "text/plain": [
              "'Eyx ='"
            ],
            "application/vnd.google.colaboratory.intrinsic+json": {
              "type": "string"
            }
          },
          "metadata": {}
        },
        {
          "output_type": "display_data",
          "data": {
            "text/plain": [
              "1.0*Q*k/(a*b*(z**2 + (-b/2 + y)**2 + (x - xp)**2)**0.5) - 1.0*Q*k/(a*b*(z**2 + (b/2 + y)**2 + (x - xp)**2)**0.5)"
            ],
            "text/latex": "$\\displaystyle \\frac{1.0 Q k}{a b \\left(z^{2} + \\left(- \\frac{b}{2} + y\\right)^{2} + \\left(x - xp\\right)^{2}\\right)^{0.5}} - \\frac{1.0 Q k}{a b \\left(z^{2} + \\left(\\frac{b}{2} + y\\right)^{2} + \\left(x - xp\\right)^{2}\\right)^{0.5}}$"
          },
          "metadata": {}
        },
        {
          "output_type": "display_data",
          "data": {
            "text/plain": [
              "'Ezx ='"
            ],
            "application/vnd.google.colaboratory.intrinsic+json": {
              "type": "string"
            }
          },
          "metadata": {}
        },
        {
          "output_type": "display_data",
          "data": {
            "text/plain": [
              "Q*k*z*Integral((xp**2 + yp**2 + z**2)**(-1.5), (xp, -a/2 + x, a/2 + x))/(a*b)"
            ],
            "text/latex": "$\\displaystyle \\frac{Q k z \\int\\limits_{- \\frac{a}{2} + x}^{\\frac{a}{2} + x} \\left(xp^{2} + yp^{2} + z^{2}\\right)^{-1.5}\\, dxp}{a b}$"
          },
          "metadata": {}
        },
        {
          "output_type": "display_data",
          "data": {
            "text/plain": [
              "'Ex ='"
            ],
            "application/vnd.google.colaboratory.intrinsic+json": {
              "type": "string"
            }
          },
          "metadata": {}
        },
        {
          "output_type": "display_data",
          "data": {
            "text/plain": [
              "Piecewise((-1.0*Q*k*asinh(2*(-b/2 - y)*sqrt(1/(a**2 - 4*a*x + 4*x**2 + 4*z**2)))/(a*b) + 1.0*Q*k*asinh(2*(-b/2 - y)*sqrt(1/(a**2 + 4*a*x + 4*x**2 + 4*z**2)))/(a*b) + 1.0*Q*k*asinh(2*(b/2 - y)*sqrt(1/(a**2 - 4*a*x + 4*x**2 + 4*z**2)))/(a*b) - 1.0*Q*k*asinh(2*(b/2 - y)*sqrt(1/(a**2 + 4*a*x + 4*x**2 + 4*z**2)))/(a*b), (a**2 - 4*a*x + 4*x**2 + 4*z**2 > 0) & (a**2 + 4*a*x + 4*x**2 + 4*z**2 > 0)), (1.0*Q*k*log(-4*b - 8*y + 4*sqrt(a**2 + 4*a*x + b**2 + 4*b*y + 4*x**2 + 4*y**2 + 4*z**2))/(a*b) - 1.0*Q*k*log(4*b - 8*y + 4*sqrt(a**2 + 4*a*x + b**2 - 4*b*y + 4*x**2 + 4*y**2 + 4*z**2))/(a*b) - 1.0*Q*k*asinh(2*(-b/2 - y)*sqrt(1/(a**2 - 4*a*x + 4*x**2 + 4*z**2)))/(a*b) + 1.0*Q*k*asinh(2*(b/2 - y)*sqrt(1/(a**2 - 4*a*x + 4*x**2 + 4*z**2)))/(a*b), a**2 - 4*a*x + 4*x**2 + 4*z**2 > 0), (-1.0*Q*k*log(-4*b - 8*y + 4*sqrt(a**2 - 4*a*x + b**2 + 4*b*y + 4*x**2 + 4*y**2 + 4*z**2))/(a*b) + 1.0*Q*k*log(4*b - 8*y + 4*sqrt(a**2 - 4*a*x + b**2 - 4*b*y + 4*x**2 + 4*y**2 + 4*z**2))/(a*b) + 1.0*Q*k*asinh(2*(-b/2 - y)*sqrt(1/(a**2 + 4*a*x + 4*x**2 + 4*z**2)))/(a*b) - 1.0*Q*k*asinh(2*(b/2 - y)*sqrt(1/(a**2 + 4*a*x + 4*x**2 + 4*z**2)))/(a*b), a**2 + 4*a*x + 4*x**2 + 4*z**2 > 0), (-1.0*Q*k*log(-4*b - 8*y + 4*sqrt(a**2 - 4*a*x + b**2 + 4*b*y + 4*x**2 + 4*y**2 + 4*z**2))/(a*b) + 1.0*Q*k*log(-4*b - 8*y + 4*sqrt(a**2 + 4*a*x + b**2 + 4*b*y + 4*x**2 + 4*y**2 + 4*z**2))/(a*b) + 1.0*Q*k*log(4*b - 8*y + 4*sqrt(a**2 - 4*a*x + b**2 - 4*b*y + 4*x**2 + 4*y**2 + 4*z**2))/(a*b) - 1.0*Q*k*log(4*b - 8*y + 4*sqrt(a**2 + 4*a*x + b**2 - 4*b*y + 4*x**2 + 4*y**2 + 4*z**2))/(a*b), True))"
            ],
            "text/latex": "$\\displaystyle \\begin{cases} - \\frac{1.0 Q k \\operatorname{asinh}{\\left(2 \\left(- \\frac{b}{2} - y\\right) \\sqrt{\\frac{1}{a^{2} - 4 a x + 4 x^{2} + 4 z^{2}}} \\right)}}{a b} + \\frac{1.0 Q k \\operatorname{asinh}{\\left(2 \\left(- \\frac{b}{2} - y\\right) \\sqrt{\\frac{1}{a^{2} + 4 a x + 4 x^{2} + 4 z^{2}}} \\right)}}{a b} + \\frac{1.0 Q k \\operatorname{asinh}{\\left(2 \\left(\\frac{b}{2} - y\\right) \\sqrt{\\frac{1}{a^{2} - 4 a x + 4 x^{2} + 4 z^{2}}} \\right)}}{a b} - \\frac{1.0 Q k \\operatorname{asinh}{\\left(2 \\left(\\frac{b}{2} - y\\right) \\sqrt{\\frac{1}{a^{2} + 4 a x + 4 x^{2} + 4 z^{2}}} \\right)}}{a b} & \\text{for}\\: a^{2} - 4 a x + 4 x^{2} + 4 z^{2} > 0 \\wedge a^{2} + 4 a x + 4 x^{2} + 4 z^{2} > 0 \\\\\\frac{1.0 Q k \\log{\\left(- 4 b - 8 y + 4 \\sqrt{a^{2} + 4 a x + b^{2} + 4 b y + 4 x^{2} + 4 y^{2} + 4 z^{2}} \\right)}}{a b} - \\frac{1.0 Q k \\log{\\left(4 b - 8 y + 4 \\sqrt{a^{2} + 4 a x + b^{2} - 4 b y + 4 x^{2} + 4 y^{2} + 4 z^{2}} \\right)}}{a b} - \\frac{1.0 Q k \\operatorname{asinh}{\\left(2 \\left(- \\frac{b}{2} - y\\right) \\sqrt{\\frac{1}{a^{2} - 4 a x + 4 x^{2} + 4 z^{2}}} \\right)}}{a b} + \\frac{1.0 Q k \\operatorname{asinh}{\\left(2 \\left(\\frac{b}{2} - y\\right) \\sqrt{\\frac{1}{a^{2} - 4 a x + 4 x^{2} + 4 z^{2}}} \\right)}}{a b} & \\text{for}\\: a^{2} - 4 a x + 4 x^{2} + 4 z^{2} > 0 \\\\- \\frac{1.0 Q k \\log{\\left(- 4 b - 8 y + 4 \\sqrt{a^{2} - 4 a x + b^{2} + 4 b y + 4 x^{2} + 4 y^{2} + 4 z^{2}} \\right)}}{a b} + \\frac{1.0 Q k \\log{\\left(4 b - 8 y + 4 \\sqrt{a^{2} - 4 a x + b^{2} - 4 b y + 4 x^{2} + 4 y^{2} + 4 z^{2}} \\right)}}{a b} + \\frac{1.0 Q k \\operatorname{asinh}{\\left(2 \\left(- \\frac{b}{2} - y\\right) \\sqrt{\\frac{1}{a^{2} + 4 a x + 4 x^{2} + 4 z^{2}}} \\right)}}{a b} - \\frac{1.0 Q k \\operatorname{asinh}{\\left(2 \\left(\\frac{b}{2} - y\\right) \\sqrt{\\frac{1}{a^{2} + 4 a x + 4 x^{2} + 4 z^{2}}} \\right)}}{a b} & \\text{for}\\: a^{2} + 4 a x + 4 x^{2} + 4 z^{2} > 0 \\\\- \\frac{1.0 Q k \\log{\\left(- 4 b - 8 y + 4 \\sqrt{a^{2} - 4 a x + b^{2} + 4 b y + 4 x^{2} + 4 y^{2} + 4 z^{2}} \\right)}}{a b} + \\frac{1.0 Q k \\log{\\left(- 4 b - 8 y + 4 \\sqrt{a^{2} + 4 a x + b^{2} + 4 b y + 4 x^{2} + 4 y^{2} + 4 z^{2}} \\right)}}{a b} + \\frac{1.0 Q k \\log{\\left(4 b - 8 y + 4 \\sqrt{a^{2} - 4 a x + b^{2} - 4 b y + 4 x^{2} + 4 y^{2} + 4 z^{2}} \\right)}}{a b} - \\frac{1.0 Q k \\log{\\left(4 b - 8 y + 4 \\sqrt{a^{2} + 4 a x + b^{2} - 4 b y + 4 x^{2} + 4 y^{2} + 4 z^{2}} \\right)}}{a b} & \\text{otherwise} \\end{cases}$"
          },
          "metadata": {}
        },
        {
          "output_type": "display_data",
          "data": {
            "text/plain": [
              "'Ey ='"
            ],
            "application/vnd.google.colaboratory.intrinsic+json": {
              "type": "string"
            }
          },
          "metadata": {}
        },
        {
          "output_type": "display_data",
          "data": {
            "text/plain": [
              "Piecewise((-1.0*Q*k*asinh(2*(-a/2 - x)*sqrt(1/(b**2 - 4*b*y + 4*y**2 + 4*z**2)))/(a*b) + 1.0*Q*k*asinh(2*(-a/2 - x)*sqrt(1/(b**2 + 4*b*y + 4*y**2 + 4*z**2)))/(a*b) + 1.0*Q*k*asinh(2*(a/2 - x)*sqrt(1/(b**2 - 4*b*y + 4*y**2 + 4*z**2)))/(a*b) - 1.0*Q*k*asinh(2*(a/2 - x)*sqrt(1/(b**2 + 4*b*y + 4*y**2 + 4*z**2)))/(a*b), (b**2 - 4*b*y + 4*y**2 + 4*z**2 > 0) & (b**2 + 4*b*y + 4*y**2 + 4*z**2 > 0)), (1.0*Q*k*log(-4*a - 8*x + 4*sqrt(a**2 + 4*a*x + b**2 + 4*b*y + 4*x**2 + 4*y**2 + 4*z**2))/(a*b) - 1.0*Q*k*log(4*a - 8*x + 4*sqrt(a**2 - 4*a*x + b**2 + 4*b*y + 4*x**2 + 4*y**2 + 4*z**2))/(a*b) - 1.0*Q*k*asinh(2*(-a/2 - x)*sqrt(1/(b**2 - 4*b*y + 4*y**2 + 4*z**2)))/(a*b) + 1.0*Q*k*asinh(2*(a/2 - x)*sqrt(1/(b**2 - 4*b*y + 4*y**2 + 4*z**2)))/(a*b), b**2 - 4*b*y + 4*y**2 + 4*z**2 > 0), (-1.0*Q*k*log(-4*a - 8*x + 4*sqrt(a**2 + 4*a*x + b**2 - 4*b*y + 4*x**2 + 4*y**2 + 4*z**2))/(a*b) + 1.0*Q*k*log(4*a - 8*x + 4*sqrt(a**2 - 4*a*x + b**2 - 4*b*y + 4*x**2 + 4*y**2 + 4*z**2))/(a*b) + 1.0*Q*k*asinh(2*(-a/2 - x)*sqrt(1/(b**2 + 4*b*y + 4*y**2 + 4*z**2)))/(a*b) - 1.0*Q*k*asinh(2*(a/2 - x)*sqrt(1/(b**2 + 4*b*y + 4*y**2 + 4*z**2)))/(a*b), b**2 + 4*b*y + 4*y**2 + 4*z**2 > 0), (-1.0*Q*k*log(-4*a - 8*x + 4*sqrt(a**2 + 4*a*x + b**2 - 4*b*y + 4*x**2 + 4*y**2 + 4*z**2))/(a*b) + 1.0*Q*k*log(-4*a - 8*x + 4*sqrt(a**2 + 4*a*x + b**2 + 4*b*y + 4*x**2 + 4*y**2 + 4*z**2))/(a*b) + 1.0*Q*k*log(4*a - 8*x + 4*sqrt(a**2 - 4*a*x + b**2 - 4*b*y + 4*x**2 + 4*y**2 + 4*z**2))/(a*b) - 1.0*Q*k*log(4*a - 8*x + 4*sqrt(a**2 - 4*a*x + b**2 + 4*b*y + 4*x**2 + 4*y**2 + 4*z**2))/(a*b), True))"
            ],
            "text/latex": "$\\displaystyle \\begin{cases} - \\frac{1.0 Q k \\operatorname{asinh}{\\left(2 \\left(- \\frac{a}{2} - x\\right) \\sqrt{\\frac{1}{b^{2} - 4 b y + 4 y^{2} + 4 z^{2}}} \\right)}}{a b} + \\frac{1.0 Q k \\operatorname{asinh}{\\left(2 \\left(- \\frac{a}{2} - x\\right) \\sqrt{\\frac{1}{b^{2} + 4 b y + 4 y^{2} + 4 z^{2}}} \\right)}}{a b} + \\frac{1.0 Q k \\operatorname{asinh}{\\left(2 \\left(\\frac{a}{2} - x\\right) \\sqrt{\\frac{1}{b^{2} - 4 b y + 4 y^{2} + 4 z^{2}}} \\right)}}{a b} - \\frac{1.0 Q k \\operatorname{asinh}{\\left(2 \\left(\\frac{a}{2} - x\\right) \\sqrt{\\frac{1}{b^{2} + 4 b y + 4 y^{2} + 4 z^{2}}} \\right)}}{a b} & \\text{for}\\: b^{2} - 4 b y + 4 y^{2} + 4 z^{2} > 0 \\wedge b^{2} + 4 b y + 4 y^{2} + 4 z^{2} > 0 \\\\\\frac{1.0 Q k \\log{\\left(- 4 a - 8 x + 4 \\sqrt{a^{2} + 4 a x + b^{2} + 4 b y + 4 x^{2} + 4 y^{2} + 4 z^{2}} \\right)}}{a b} - \\frac{1.0 Q k \\log{\\left(4 a - 8 x + 4 \\sqrt{a^{2} - 4 a x + b^{2} + 4 b y + 4 x^{2} + 4 y^{2} + 4 z^{2}} \\right)}}{a b} - \\frac{1.0 Q k \\operatorname{asinh}{\\left(2 \\left(- \\frac{a}{2} - x\\right) \\sqrt{\\frac{1}{b^{2} - 4 b y + 4 y^{2} + 4 z^{2}}} \\right)}}{a b} + \\frac{1.0 Q k \\operatorname{asinh}{\\left(2 \\left(\\frac{a}{2} - x\\right) \\sqrt{\\frac{1}{b^{2} - 4 b y + 4 y^{2} + 4 z^{2}}} \\right)}}{a b} & \\text{for}\\: b^{2} - 4 b y + 4 y^{2} + 4 z^{2} > 0 \\\\- \\frac{1.0 Q k \\log{\\left(- 4 a - 8 x + 4 \\sqrt{a^{2} + 4 a x + b^{2} - 4 b y + 4 x^{2} + 4 y^{2} + 4 z^{2}} \\right)}}{a b} + \\frac{1.0 Q k \\log{\\left(4 a - 8 x + 4 \\sqrt{a^{2} - 4 a x + b^{2} - 4 b y + 4 x^{2} + 4 y^{2} + 4 z^{2}} \\right)}}{a b} + \\frac{1.0 Q k \\operatorname{asinh}{\\left(2 \\left(- \\frac{a}{2} - x\\right) \\sqrt{\\frac{1}{b^{2} + 4 b y + 4 y^{2} + 4 z^{2}}} \\right)}}{a b} - \\frac{1.0 Q k \\operatorname{asinh}{\\left(2 \\left(\\frac{a}{2} - x\\right) \\sqrt{\\frac{1}{b^{2} + 4 b y + 4 y^{2} + 4 z^{2}}} \\right)}}{a b} & \\text{for}\\: b^{2} + 4 b y + 4 y^{2} + 4 z^{2} > 0 \\\\- \\frac{1.0 Q k \\log{\\left(- 4 a - 8 x + 4 \\sqrt{a^{2} + 4 a x + b^{2} - 4 b y + 4 x^{2} + 4 y^{2} + 4 z^{2}} \\right)}}{a b} + \\frac{1.0 Q k \\log{\\left(- 4 a - 8 x + 4 \\sqrt{a^{2} + 4 a x + b^{2} + 4 b y + 4 x^{2} + 4 y^{2} + 4 z^{2}} \\right)}}{a b} + \\frac{1.0 Q k \\log{\\left(4 a - 8 x + 4 \\sqrt{a^{2} - 4 a x + b^{2} - 4 b y + 4 x^{2} + 4 y^{2} + 4 z^{2}} \\right)}}{a b} - \\frac{1.0 Q k \\log{\\left(4 a - 8 x + 4 \\sqrt{a^{2} - 4 a x + b^{2} + 4 b y + 4 x^{2} + 4 y^{2} + 4 z^{2}} \\right)}}{a b} & \\text{otherwise} \\end{cases}$"
          },
          "metadata": {}
        },
        {
          "output_type": "display_data",
          "data": {
            "text/plain": [
              "'Ez ='"
            ],
            "application/vnd.google.colaboratory.intrinsic+json": {
              "type": "string"
            }
          },
          "metadata": {}
        },
        {
          "output_type": "display_data",
          "data": {
            "text/plain": [
              "Q*k*z*Integral((xp**2 + yp**2 + z**2)**(-1.5), (xp, -a/2 + x, a/2 + x), (yp, -b/2 + y, b/2 + y))/(a*b)"
            ],
            "text/latex": "$\\displaystyle \\frac{Q k z \\int\\limits_{- \\frac{b}{2} + y}^{\\frac{b}{2} + y}\\int\\limits_{- \\frac{a}{2} + x}^{\\frac{a}{2} + x} \\left(xp^{2} + yp^{2} + z^{2}\\right)^{-1.5}\\, dxp\\, dyp}{a b}$"
          },
          "metadata": {}
        }
      ]
    },
    {
      "source": [
        "import sympy as sp\n",
        "\n",
        "# Define the symbolic variables\n",
        "x, a, c = sp.symbols('x a c', real=True)\n",
        "\n",
        "# Define the integrand\n",
        "integrand = (x**2 + c**2)**(-1.5)\n",
        "\n",
        "# Integrate the integrand with respect to x\n",
        "result = sp.integrate(integrand, (x, -a/2, a/2))\n",
        "\n",
        "# Display the result\n",
        "display(result)"
      ],
      "cell_type": "code",
      "metadata": {
        "colab": {
          "base_uri": "https://localhost:8080/",
          "height": 71
        },
        "id": "quH0NkjKxK32",
        "outputId": "056c9b55-2c03-44cf-b71d-a7c73509ee89"
      },
      "execution_count": 4,
      "outputs": [
        {
          "output_type": "display_data",
          "data": {
            "text/plain": [
              "0.564189583547756*sqrt(pi)*a/(c**3.0*sqrt(a**2/(4*c**2) + 1))"
            ],
            "text/latex": "$\\displaystyle \\frac{0.564189583547756 \\sqrt{\\pi} a}{c^{3.0} \\sqrt{\\frac{a^{2}}{4 c^{2}} + 1}}$"
          },
          "metadata": {}
        }
      ]
    },
    {
      "source": [
        "import sympy as sp\n",
        "\n",
        "# Define the symbolic variables\n",
        "x, a, c = sp.symbols('x a c', real=True)\n",
        "\n",
        "# Define the integrand\n",
        "integrand = x**(-2)*(x**2 + c**2)**(-0.5)\n",
        "\n",
        "# Integrate the integrand with respect to x\n",
        "result = sp.integrate(integrand, (x, -a/2, a/2))\n",
        "\n",
        "# Display the result\n",
        "display(result)"
      ],
      "cell_type": "code",
      "metadata": {
        "colab": {
          "base_uri": "https://localhost:8080/",
          "height": 66
        },
        "outputId": "f2bb7e14-66ff-4eb5-b726-d7c557c25abe",
        "id": "B6-Ms6b6yrtz"
      },
      "execution_count": 7,
      "outputs": [
        {
          "output_type": "display_data",
          "data": {
            "text/plain": [
              "-2.25675833419103*sqrt(pi)*sqrt(a**2/(4*c**2) + 1)/(a*c**1.0)"
            ],
            "text/latex": "$\\displaystyle - \\frac{2.25675833419103 \\sqrt{\\pi} \\sqrt{\\frac{a^{2}}{4 c^{2}} + 1}}{a c^{1.0}}$"
          },
          "metadata": {}
        }
      ]
    },
    {
      "cell_type": "code",
      "source": [
        "import sympy as sp\n",
        "\n",
        "# Define symbolic variables\n",
        "x, y, z, xp, yp, zp, Q, a, b, k = sp.symbols('x y z xp yp zp Q a b k' , real=True, real_roots=True)\n",
        "\n",
        "# Define the charge density\n",
        "rho = Q / (a * b)\n",
        "\n",
        "# Define the electric field integrand\n",
        "\n",
        "Ez_integrand = k*rho*z* sp.Pow(sp.Pow(xp,2) + sp.Pow(yp,2) + sp.Pow(z,2), -1.5)\n",
        "\n",
        "\n",
        "# Integrate to find the electric field components\n",
        "\n",
        "Ezx = sp.integrate(Ez_integrand, (xp, x-a/2, x+a/2), meijerg=False)\n",
        "\n",
        "# Display the results\n",
        "\n",
        "display(\"Ezx =\", Ezx)\n",
        "\n",
        "\n",
        "Ez = sp.integrate(Ezx, (yp, y-b/2, y+b/2), meijerg=False)\n",
        "\n",
        "# Display the results\n",
        "\n",
        "display(\"Ez =\", Ez)"
      ],
      "metadata": {
        "colab": {
          "base_uri": "https://localhost:8080/",
          "height": 198
        },
        "id": "I8ncpfyD2R6n",
        "outputId": "fb0b7314-bccc-4b2a-bf94-f98e312c1f25"
      },
      "execution_count": 12,
      "outputs": [
        {
          "output_type": "display_data",
          "data": {
            "text/plain": [
              "'Ezx ='"
            ],
            "application/vnd.google.colaboratory.intrinsic+json": {
              "type": "string"
            }
          },
          "metadata": {}
        },
        {
          "output_type": "display_data",
          "data": {
            "text/plain": [
              "Q*k*z*Integral((xp**2 + yp**2 + z**2)**(-1.5), (xp, -a/2 + x, a/2 + x))/(a*b)"
            ],
            "text/latex": "$\\displaystyle \\frac{Q k z \\int\\limits_{- \\frac{a}{2} + x}^{\\frac{a}{2} + x} \\left(xp^{2} + yp^{2} + z^{2}\\right)^{-1.5}\\, dxp}{a b}$"
          },
          "metadata": {}
        },
        {
          "output_type": "display_data",
          "data": {
            "text/plain": [
              "'Ez ='"
            ],
            "application/vnd.google.colaboratory.intrinsic+json": {
              "type": "string"
            }
          },
          "metadata": {}
        },
        {
          "output_type": "display_data",
          "data": {
            "text/plain": [
              "Q*k*z*Integral((xp**2 + yp**2 + z**2)**(-1.5), (xp, -a/2 + x, a/2 + x), (yp, -b/2 + y, b/2 + y))/(a*b)"
            ],
            "text/latex": "$\\displaystyle \\frac{Q k z \\int\\limits_{- \\frac{b}{2} + y}^{\\frac{b}{2} + y}\\int\\limits_{- \\frac{a}{2} + x}^{\\frac{a}{2} + x} \\left(xp^{2} + yp^{2} + z^{2}\\right)^{-1.5}\\, dxp\\, dyp}{a b}$"
          },
          "metadata": {}
        }
      ]
    }
  ]
}