{
  "nbformat": 4,
  "nbformat_minor": 0,
  "metadata": {
    "colab": {
      "provenance": [],
      "authorship_tag": "ABX9TyPB14Roptl823jlEveaNMh9",
      "include_colab_link": true
    },
    "kernelspec": {
      "name": "python3",
      "display_name": "Python 3"
    },
    "language_info": {
      "name": "python"
    }
  },
  "cells": [
    {
      "cell_type": "markdown",
      "metadata": {
        "id": "view-in-github",
        "colab_type": "text"
      },
      "source": [
        "<a href=\"https://colab.research.google.com/github/twyeh/university-physics/blob/main/%E7%B7%9A%E5%B8%B6%E9%9B%BB%E9%AB%94%E9%9B%BB%E5%A0%B4%E8%A8%88%E7%AE%97%E7%AF%84%E4%BE%8B.ipynb\" target=\"_parent\"><img src=\"https://colab.research.google.com/assets/colab-badge.svg\" alt=\"Open In Colab\"/></a>"
      ]
    },
    {
      "cell_type": "code",
      "execution_count": null,
      "metadata": {
        "id": "17oE4rvEHs2o"
      },
      "outputs": [],
      "source": [
        "import sympy as smp"
      ]
    },
    {
      "cell_type": "markdown",
      "source": [
        "安裝 sympy 程式庫"
      ],
      "metadata": {
        "id": "kKEhifBM8BpM"
      }
    },
    {
      "cell_type": "markdown",
      "source": [
        "##學習目標\n",
        "學習利用 sympy 計算線帶電體的電場的空間分布函數。\n",
        "###物理假設\n",
        "若有一長度為 $L$ 的均勻線帶電體，其總帶電量為 $Q$，則其電荷密度為 $\\lambda= Q/L$。\n",
        "\n",
        "將此帶電棒放置於 Z 軸上，觀測點為 $(x_p,y_p,z_p)$，該點的電場為\n",
        "$$\\vec{E}(x_p,y_p,z_p)=k\\lambda\\int_{-L/2}^{L/2} dz\\frac{(x_p,y_p,(z_p-z))}{(x^2_p+y^2_p+(z_p-z)^2)^{3/2}}=E_x \\hat{i}+E_y \\hat{j}+E_z \\hat{k}$$\n",
        "分別計算$E_x, E_y, E_z$。"
      ],
      "metadata": {
        "id": "JsZkUStcH0dK"
      }
    },
    {
      "cell_type": "markdown",
      "source": [
        "[參考範例](https://youtu.be/2I44Y9hfQ4Q)"
      ],
      "metadata": {
        "id": "uU9HSbpk6wCM"
      }
    },
    {
      "cell_type": "code",
      "source": [
        "xp,yp,zp,z,L=smp.symbols('xp yp zp z L', real=True, positive=True, polar=True)\n",
        "Exfun = xp*smp.root(smp.Pow(xp,2)+smp.Pow(yp,2)+smp.Pow((zp-z),2),-smp.Rational(2,3))\n",
        "Ezfun = (zp-z)*smp.root(smp.Pow(xp,2)+smp.Pow(yp,2)+smp.Pow((zp-z),2),-smp.Rational(2,3))"
      ],
      "metadata": {
        "id": "5_HncqFf-Eop"
      },
      "execution_count": null,
      "outputs": []
    },
    {
      "cell_type": "markdown",
      "source": [
        "計算積分時，表達變數的次方，使用標準的 sympy 內建函數表達，可以增進 sympy進行計算的效率及正確性。\n",
        "Pow(x, n) 次方 $x^n$，root(x, n)=  $x^{1/n}$, Rational(m,n)=$\\frac{n}{m}$。\n"
      ],
      "metadata": {
        "id": "Mhu1RYup-THk"
      }
    },
    {
      "cell_type": "code",
      "source": [
        "smp.integrate(Exfun,(z,-L/2,L/2))"
      ],
      "metadata": {
        "colab": {
          "base_uri": "https://localhost:8080/",
          "height": 74
        },
        "id": "JEhaBV_ZOegq",
        "outputId": "bae54691-7f59-463e-a23a-d04ae37dd670"
      },
      "execution_count": null,
      "outputs": [
        {
          "output_type": "execute_result",
          "data": {
            "text/plain": [
              "-xp*(-L/2 - zp)/(xp**2*sqrt(xp**2 + yp**2 + (-L/2 - zp)**2) + yp**2*sqrt(xp**2 + yp**2 + (-L/2 - zp)**2)) + xp*(L/2 - zp)/(xp**2*sqrt(xp**2 + yp**2 + (L/2 - zp)**2) + yp**2*sqrt(xp**2 + yp**2 + (L/2 - zp)**2))"
            ],
            "text/latex": "$\\displaystyle - \\frac{xp \\left(- \\frac{L}{2} - zp\\right)}{xp^{2} \\sqrt{xp^{2} + yp^{2} + \\left(- \\frac{L}{2} - zp\\right)^{2}} + yp^{2} \\sqrt{xp^{2} + yp^{2} + \\left(- \\frac{L}{2} - zp\\right)^{2}}} + \\frac{xp \\left(\\frac{L}{2} - zp\\right)}{xp^{2} \\sqrt{xp^{2} + yp^{2} + \\left(\\frac{L}{2} - zp\\right)^{2}} + yp^{2} \\sqrt{xp^{2} + yp^{2} + \\left(\\frac{L}{2} - zp\\right)^{2}}}$"
          },
          "metadata": {},
          "execution_count": 3
        }
      ]
    },
    {
      "cell_type": "code",
      "source": [
        "smp.integrate(Ezfun,(z,-L/2,L/2))"
      ],
      "metadata": {
        "colab": {
          "base_uri": "https://localhost:8080/",
          "height": 69
        },
        "id": "A2BLCjWPVVz4",
        "outputId": "ad6c011b-0fe3-4675-e9c6-d84e75c30bce"
      },
      "execution_count": null,
      "outputs": [
        {
          "output_type": "execute_result",
          "data": {
            "text/plain": [
              "-1/sqrt(L**2/4 + L*zp + xp**2 + yp**2 + zp**2) + 1/sqrt(L**2/4 - L*zp + xp**2 + yp**2 + zp**2)"
            ],
            "text/latex": "$\\displaystyle - \\frac{1}{\\sqrt{\\frac{L^{2}}{4} + L zp + xp^{2} + yp^{2} + zp^{2}}} + \\frac{1}{\\sqrt{\\frac{L^{2}}{4} - L zp + xp^{2} + yp^{2} + zp^{2}}}$"
          },
          "metadata": {},
          "execution_count": 4
        }
      ]
    },
    {
      "cell_type": "markdown",
      "source": [
        "根據上面計算，得到\n",
        "$$E_x=k\\lambda\n",
        "\\begin{pmatrix}\n",
        " \\frac{x_p(z-z_p)}{(x_p^2 + y_p^2)\\sqrt{x_p^2+y_p^2+(z_p-z)^2}}\n",
        "\\end{pmatrix}_{z=-L/2}^{z=+L/2}$$\n",
        "\n",
        "$$E_y=k\\lambda\n",
        "\\begin{pmatrix}\n",
        "\\frac{y_p(z-z_p)}{(x_p^2 + y_p^2)\\sqrt{x_p^2+y_p^2+(z_p-z)^2}}\n",
        "\\end{pmatrix}_{z=-L/2}^{z=+L/2}\n",
        "$$\n",
        "\n",
        "$$E_z=k\\lambda\n",
        "\\begin{pmatrix}\n",
        "\\frac{1}{\\sqrt{x_p^2+y_p^2+(z_p-z)^2}}\n",
        "\\end{pmatrix}_{z=-L/2}^{z=+L/2}\n",
        "$$\n"
      ],
      "metadata": {
        "id": "Sm6GCs5qYAKO"
      }
    },
    {
      "cell_type": "markdown",
      "source": [
        "小結:利用符號計算程式可以協助我們簡化分析物理問題，讓我們能專注於思考物理概念的發展，並把數學計算工作交給程式來完成。"
      ],
      "metadata": {
        "id": "RVpoogYI86v5"
      }
    }
  ]
}