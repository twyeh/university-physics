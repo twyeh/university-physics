{
  "nbformat": 4,
  "nbformat_minor": 0,
  "metadata": {
    "colab": {
      "private_outputs": true,
      "provenance": [],
      "authorship_tag": "ABX9TyOH3FMfZ6AckTujLXlJ88+3",
      "include_colab_link": true
    },
    "kernelspec": {
      "name": "python3",
      "display_name": "Python 3"
    },
    "language_info": {
      "name": "python"
    }
  },
  "cells": [
    {
      "cell_type": "markdown",
      "metadata": {
        "id": "view-in-github",
        "colab_type": "text"
      },
      "source": [
        "<a href=\"https://colab.research.google.com/github/twyeh/university-physics/blob/main/lattpy_example001_share.ipynb\" target=\"_parent\"><img src=\"https://colab.research.google.com/assets/colab-badge.svg\" alt=\"Open In Colab\"/></a>"
      ]
    },
    {
      "cell_type": "markdown",
      "source": [
        "安裝 lattpy 程式庫"
      ],
      "metadata": {
        "id": "6czSr8S2GGfi"
      }
    },
    {
      "cell_type": "code",
      "execution_count": null,
      "metadata": {
        "id": "2Lsvjzx5Fr_0"
      },
      "outputs": [],
      "source": [
        " pip install lattpy"
      ]
    },
    {
      "cell_type": "code",
      "source": [
        "pip install numpy"
      ],
      "metadata": {
        "id": "kFAKx5LhHSIJ"
      },
      "execution_count": null,
      "outputs": []
    },
    {
      "cell_type": "markdown",
      "source": [
        "範例 1.\n",
        "定義一個 $2 \\times 2$ 晶格"
      ],
      "metadata": {
        "id": "LAJtF6CNGTzp"
      }
    },
    {
      "cell_type": "code",
      "source": [
        "import numpy as np\n",
        "from lattpy import Lattice\n",
        "\n",
        "latt = Lattice(np.eye(2)) # Construct a Bravais lattice with square unit-vectors\n",
        "latt.add_atom(pos=[0.0, 0.0]) # Add an Atom to the unit cell of the lattice\n",
        "latt.add_connections(1)  # Set the maximum number of distances between all atoms\n",
        "\n",
        "latt = Lattice(np.eye(2))  # Construct a Bravais lattice with square unit-vectors\n",
        "latt.add_atom(pos=[0.0, 0.0], atom=\"A\") # Add an Atom to the unit cell of the lattice\n",
        "latt.add_atom(pos=[0.5, 0.5], atom=\"B\")   # Add an Atom to the unit cell of the lattice\n",
        "latt.add_connection(\"A\", \"A\", 1)  # Set the max number of distances between A and A\n",
        "latt.add_connection(\"A\", \"B\", 1)  # Set the max number of distances between A and B\n",
        "latt.add_connection(\"B\", \"B\", 1)  # Set the max number of distances between B and B\n",
        "latt.analyze()"
      ],
      "metadata": {
        "id": "XlYIkvubG2R6"
      },
      "execution_count": null,
      "outputs": []
    },
    {
      "cell_type": "markdown",
      "source": [
        "定義的晶格，利用方法 latt.build()將晶格建構一個$5\\times 5$的晶格上"
      ],
      "metadata": {
        "id": "CIDEdokmHvKk"
      }
    },
    {
      "cell_type": "code",
      "source": [
        "import matplotlib.pyplot as plt\n",
        "latt.build(shape=(5, 5))\n",
        "latt.plot()\n",
        "plt.show()"
      ],
      "metadata": {
        "id": "gRZYAUVyIPsi"
      },
      "execution_count": null,
      "outputs": []
    },
    {
      "cell_type": "code",
      "source": [],
      "metadata": {
        "id": "Iyi0XqaRIlLh"
      },
      "execution_count": null,
      "outputs": []
    }
  ]
}