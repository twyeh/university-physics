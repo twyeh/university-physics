{
  "nbformat": 4,
  "nbformat_minor": 0,
  "metadata": {
    "colab": {
      "private_outputs": true,
      "provenance": [],
      "authorship_tag": "ABX9TyMPBTryVe1xATthfzDRRv46",
      "include_colab_link": true
    },
    "kernelspec": {
      "name": "python3",
      "display_name": "Python 3"
    },
    "language_info": {
      "name": "python"
    }
  },
  "cells": [
    {
      "cell_type": "markdown",
      "metadata": {
        "id": "view-in-github",
        "colab_type": "text"
      },
      "source": [
        "<a href=\"https://colab.research.google.com/github/twyeh/university-physics/blob/main/copilot_for_electric_field_from_a_charged_bar.ipynb\" target=\"_parent\"><img src=\"https://colab.research.google.com/assets/colab-badge.svg\" alt=\"Open In Colab\"/></a>"
      ]
    },
    {
      "cell_type": "markdown",
      "source": [
        "使用 Copilot得到的答案"
      ],
      "metadata": {
        "id": "dhY16CuBUzSS"
      }
    },
    {
      "cell_type": "markdown",
      "source": [
        "\n",
        "假設有一沒有半徑的帶電棒，帶電量為Q，長度為L，垂直立於z軸上，使用人工智慧嘗試計算在空間中任意點的電場分布的數學表達式\n",
        "要計算這種情況下的電場分布，我們可以使用高斯定律和微分形式的庫倫定律來推導出來。假設帶電棒沿著z軸方向，帶電量為Q，長度為L，我們在空間中任意點 (x, y, z) 計算電場分布。\n",
        "\n",
        "我們把帶電棒分成無數個無窮小的帶電段，每個段長為 $dz$，在位置 $z'$ 上。帶電量 $dq$ 可以表示為： $$ dq = \\frac{Q}{L}dz $$\n",
        "\n",
        "根據庫倫定律，這段帶電量產生的電場 $dE$ 在點 $(x, y, z)$ 的分量為：\n",
        "\n",
        "𝑑\n",
        "𝐸\n",
        "=\n",
        "𝑘\n",
        "𝑒\n",
        "\n",
        "𝑑\n",
        "𝑞\n",
        "𝑟\n",
        "2\n",
        "其中 $k_e$ 是庫倫常數，$r$ 是帶電段到觀察點的距離。 $$ r = \\sqrt{x^2 + y^2 + (z - z')^2} $$\n",
        "\n",
        "我們需要計算合力場，因此必須對 $z'$ 從 0 到 L 進行積分：\n",
        "\n",
        "$$ E(x, y, z) = \\int_{0}^{L} \\frac{k_e \\, \\frac{Q}{L} \\, dz'}{(x^2 + y^2 + (z - z')2){3/2}} $$\n",
        "\n",
        "可以看到這是一個較複雜的積分問題，通常需要數值計算工具來解決，特別是涉及人工智慧時，可以利用數值積分方法來求解。\n",
        "*   清單項目\n",
        "*   清單項目\n",
        "\n"
      ],
      "metadata": {
        "id": "g89qUVZDUqi3"
      }
    },
    {
      "cell_type": "code",
      "execution_count": null,
      "metadata": {
        "id": "q8qe-vAEUaZz"
      },
      "outputs": [],
      "source": [
        "import numpy as np\n",
        "\n",
        "# 定義常數\n",
        "k_e = 8.99e9  # 庫倫常數，N·m²/C²\n",
        "\n",
        "def electric_field(x, y, z, Q, L):\n",
        "    dz = 1e-3  # 積分步長\n",
        "    E_x, E_y, E_z = 0, 0, 0  # 電場分量初始化\n",
        "\n",
        "    for z_prime in np.arange(0, L, dz):\n",
        "        dq = Q / L * dz  # 無窮小帶電量\n",
        "        r = np.sqrt(x**2 + y**2 + (z - z_prime)**2)\n",
        "        dE = k_e * dq / r**2\n",
        "\n",
        "        # 電場分量\n",
        "        E_x += dE * (x / r)\n",
        "        E_y += dE * (y / r)\n",
        "        E_z += dE * (z - z_prime) / r\n",
        "\n",
        "    return E_x, E_y, E_z\n",
        "\n",
        "# 示範計算在點 (x, y, z) = (1, 1, 1) 的電場分量\n",
        "Q = 1e-6  # 帶電量，庫侖\n",
        "L = 1.0   # 長度，米\n",
        "x, y, z = 1.0, 1.0, 1.0  # 要計算電場的點坐標\n",
        "\n",
        "E_x, E_y, E_z = electric_field(x, y, z, Q, L)\n",
        "print(f\"Electric field at point ({x}, {y}, {z}): E_x = {E_x} N/C, E_y = {E_y} N/C, E_z = {E_z} N/C\")\n"
      ]
    },
    {
      "cell_type": "code",
      "source": [
        "import numpy as np\n",
        "import matplotlib.pyplot as plt\n",
        "from mpl_toolkits.mplot3d import Axes3D\n",
        "\n",
        "# 定義常數\n",
        "k_e = 8.99e9  # 庫倫常數，N·m²/C²\n",
        "\n",
        "def electric_field(x, y, z, Q, L):\n",
        "    dz = 1e-3  # 積分步長\n",
        "    E_x, E_y, E_z = 0, 0, 0  # 電場分量初始化\n",
        "\n",
        "    for z_prime in np.arange(0, L, dz):\n",
        "        dq = Q / L * dz  # 無窮小帶電量\n",
        "        r = np.sqrt(x**2 + y**2 + (z - z_prime)**2)\n",
        "        dE = k_e * dq / r**2\n",
        "\n",
        "        # 電場分量\n",
        "        E_x += dE * (x / r)\n",
        "        E_y += dE * (y / r)\n",
        "        E_z += dE * (z - z_prime) / r\n",
        "\n",
        "    return E_x, E_y, E_z\n",
        "\n",
        "# 繪製3D電場分布\n",
        "Q = 1e-6  # 帶電量，庫侖\n",
        "L = 1.0   # 長度，米\n",
        "\n",
        "x = np.linspace(-2, 2, 10)\n",
        "y = np.linspace(-2, 2, 10)\n",
        "z = np.linspace(-2, 2, 10)\n",
        "X, Y, Z = np.meshgrid(x, y, z)\n",
        "\n",
        "E_x, E_y, E_z = np.vectorize(electric_field)(X, Y, Z, Q, L)\n",
        "\n",
        "fig = plt.figure()\n",
        "ax = fig.add_subplot(111, projection='3d')\n",
        "\n",
        "# 繪製電場向量\n",
        "ax.quiver(X, Y, Z, E_x, E_y, E_z, length=0.1, normalize=True)\n",
        "\n",
        "ax.set_xlabel('X')\n",
        "ax.set_ylabel('Y')\n",
        "ax.set_zlabel('Z')\n",
        "ax.set_title('Electric Field Distribution of Charged Rod')\n",
        "\n",
        "plt.show()\n"
      ],
      "metadata": {
        "id": "mlGiRh-DVj-A"
      },
      "execution_count": null,
      "outputs": []
    },
    {
      "cell_type": "markdown",
      "source": [
        "修正圖形表達方式，使用jpynb模式，可以互動式轉動電場分布圖\n",
        "你可以使用Jupyter Notebook來運行這段程式碼，並使用ipywidgets庫來實現互動式3D電場分布圖。以下是更新過的程式碼："
      ],
      "metadata": {
        "id": "8IPBF7aaWbGj"
      }
    },
    {
      "cell_type": "code",
      "source": [
        "import numpy as np\n",
        "import matplotlib.pyplot as plt\n",
        "from mpl_toolkits.mplot3d import Axes3D\n",
        "import ipywidgets as widgets\n",
        "from IPython.display import display\n",
        "\n",
        "# 定義常數\n",
        "k_e = 8.99e9  # 庫倫常數，N·m²/C²\n",
        "\n",
        "def electric_field(x, y, z, Q, L):\n",
        "    dz = 1e-3  # 積分步長\n",
        "    E_x, E_y, E_z = 0, 0, 0  # 電場分量初始化\n",
        "\n",
        "    for z_prime in np.arange(0, L, dz):\n",
        "        dq = Q / L * dz  # 無窮小帶電量\n",
        "        r = np.sqrt(x**2 + y**2 + (z - z_prime)**2)\n",
        "        dE = k_e * dq / r**2\n",
        "\n",
        "        # 電場分量\n",
        "        E_x += dE * (x / r)\n",
        "        E_y += dE * (y / r)\n",
        "        E_z += dE * (z - z_prime) / r\n",
        "\n",
        "    return E_x, E_y, E_z\n",
        "\n",
        "# 繪製3D電場分布\n",
        "Q = 1e-6  # 帶電量，庫侖\n",
        "L = 1.0   # 長度，米\n",
        "\n",
        "x = np.linspace(-2, 2, 10)\n",
        "y = np.linspace(-2, 2, 10)\n",
        "z = np.linspace(-2, 2, 10)\n",
        "X, Y, Z = np.meshgrid(x, y, z)\n",
        "\n",
        "E_x, E_y, E_z = np.vectorize(electric_field)(X, Y, Z, Q, L)\n",
        "\n",
        "fig = plt.figure()\n",
        "ax = fig.add_subplot(111, projection='3d')\n",
        "\n",
        "# 繪製電場向量\n",
        "quiver = ax.quiver(X, Y, Z, E_x, E_y, E_z, length=0.1, normalize=True)\n",
        "\n",
        "ax.set_xlabel('X')\n",
        "ax.set_ylabel('Y')\n",
        "ax.set_zlabel('Z')\n",
        "ax.set_title('Electric Field Distribution of Charged Rod')\n",
        "\n",
        "# 使用ipywidgets建立互動介面\n",
        "def update_view(angle1, angle2):\n",
        "    ax.view_init(angle1, angle2)\n",
        "    fig.canvas.draw()\n",
        "\n",
        "angle1 = widgets.FloatSlider(value=30, min=0, max=360, step=1, description='Angle 1')\n",
        "angle2 = widgets.FloatSlider(value=30, min=0, max=360, step=1, description='Angle 2')\n",
        "\n",
        "widgets.interactive(update_view, angle1=angle1, angle2=angle2)\n",
        "display(angle1, angle2)\n",
        "plt.show()\n"
      ],
      "metadata": {
        "id": "_DjZlk7FWhXG"
      },
      "execution_count": null,
      "outputs": []
    }
  ]
}