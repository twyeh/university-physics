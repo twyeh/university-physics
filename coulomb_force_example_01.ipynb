{
  "cells": [
    {
      "cell_type": "markdown",
      "metadata": {
        "id": "view-in-github",
        "colab_type": "text"
      },
      "source": [
        "<a href=\"https://colab.research.google.com/github/twyeh/university-physics/blob/main/coulomb_force_example_01.ipynb\" target=\"_parent\"><img src=\"https://colab.research.google.com/assets/colab-badge.svg\" alt=\"Open In Colab\"/></a>"
      ]
    },
    {
      "cell_type": "code",
      "execution_count": 5,
      "metadata": {
        "colab": {
          "base_uri": "https://localhost:8080/"
        },
        "id": "lIYdn1woOS1n",
        "outputId": "3dda7457-15f6-4ca4-9a1b-ad7f1fb1a642"
      },
      "outputs": [
        {
          "output_type": "stream",
          "name": "stdout",
          "text": [
            "庫倫作用力: k*q1*q2/r**2\n",
            "數值結果：-1.7975103584599992 牛頓\n"
          ]
        }
      ],
      "source": [
        "# prompt: 使用python語言及sympy設計一個 計算兩個點電荷之間的庫倫作用力\n",
        "\n",
        "import sympy\n",
        "\n",
        "def coulomb_force(k, q1, q2, r):\n",
        "  \"\"\"\n",
        "  計算兩個點電荷之間的庫倫作用力。\n",
        "\n",
        "  Args:\n",
        "    k:電力常數\n",
        "    q1: 第一個點電荷的電荷量 (庫侖).\n",
        "    q2: 第二個點電荷的電荷量 (庫侖).\n",
        "    r: 兩個點電荷之間的距離 (公尺).\n",
        "\n",
        "  Returns:\n",
        "    兩個點電荷之間的庫倫作用力 (牛頓), 使用 sympy 表示式返回。\n",
        "  \"\"\"\n",
        "  force = k * q1 * q2 / r**2\n",
        "  return force\n",
        "\n",
        "# 使用範例\n",
        "k = sympy.Symbol('k', positive=True)  # 庫侖常數\n",
        "q1 = sympy.Symbol('q1')\n",
        "q2 = sympy.Symbol('q2')\n",
        "r = sympy.Symbol('r', positive=True)\n",
        "\n",
        "# 計算庫倫力\n",
        "force = coulomb_force(k, q1, q2, r)\n",
        "print(f\"庫倫作用力: {force}\")\n",
        "\n",
        "# 將庫侖常數 k 代入數值，並給定 q1, q2 和 r 的數值\n",
        "k_value = 8.9875517923 * 1e9  # N⋅m²/C²\n",
        "q1_value = 1e-6  # 1微庫侖\n",
        "q2_value = -2e-6 # -2微庫侖\n",
        "r_value = 1e-1 # 0.1公尺\n",
        "\n",
        "# force_numeric = force.subs({sympy.Symbol('k'): k_value, sympy.Symbol('q1'): q1_value, sympy.Symbol('q2'): q2_value, sympy.Symbol('r'): r_value})\n",
        "\n",
        "force_numeric = coulomb_force(k_value, q1_value, q2_value, r_value)\n",
        "print(f\"數值結果：{force_numeric} 牛頓\")\n",
        "\n",
        "\n"
      ]
    }
  ],
  "metadata": {
    "colab": {
      "provenance": [],
      "include_colab_link": true
    },
    "kernelspec": {
      "display_name": "Python 3",
      "name": "python3"
    }
  },
  "nbformat": 4,
  "nbformat_minor": 0
}