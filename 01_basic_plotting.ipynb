{
  "nbformat": 4,
  "nbformat_minor": 0,
  "metadata": {
    "colab": {
      "provenance": [],
      "include_colab_link": true
    }
  },
  "cells": [
    {
      "cell_type": "markdown",
      "metadata": {
        "id": "view-in-github",
        "colab_type": "text"
      },
      "source": [
        "<a href=\"https://colab.research.google.com/github/twyeh/university-physics/blob/main/01_basic_plotting.ipynb\" target=\"_parent\"><img src=\"https://colab.research.google.com/assets/colab-badge.svg\" alt=\"Open In Colab\"/></a>"
      ]
    },
    {
      "cell_type": "markdown",
      "source": [
        "#Matplotlib Tutorial: 1. Basic Plot Interface"
      ],
      "metadata": {
        "id": "9pLXIWH3FAwI"
      }
    },
    {
      "cell_type": "markdown",
      "source": [
        "In this notebook, we will explore the basic plot interface using ``pylab.plot`` and ``pylab.scatter``.  We will also discuss the difference between the `pylab interface`, which offers plotting with the feel of Matlab.  In the following sections, we will introduce the `object-oriented interface`, which offers more flexibility and will be used throughout the remainter of the tutorial."
      ],
      "metadata": {
        "id": "_-JT8jprFAwK"
      }
    },
    {
      "cell_type": "markdown",
      "source": [
        "##Setting up IPython"
      ],
      "metadata": {
        "id": "mufkSTD-FAwL"
      }
    },
    {
      "cell_type": "markdown",
      "source": [
        "IPython has a built-in mode to work cleanly with matplotlib figures.  There are a few ways to invoke it:\n",
        "\n",
        "1. On startup, you can add a command line argument:\n",
        "   \n",
        "        ipython [notebook] --pylab\n",
        "   \n",
        "   or:\n",
        "     \n",
        "        ipython notebook --pylab inline\n",
        "\n",
        "   The first can be used with the notebook or with the normal IPython interpreter.  The second specifies\n",
        "   that figures should be shown `inline`, directly in the notebook.  This is not available with the standard\n",
        "   IPython interpreter.\n",
        "\n",
        "2. After starting IPython, the same can be accomplished through the ``%pylab`` `magic command`:\n",
        "   \n",
        "        %pylab\n",
        "\n",
        "   or:\n",
        "\n",
        "        %pylab inline\n",
        "\n",
        "   The first works in either the interpreter or the notebook; the second should be used in the notebook.\n",
        "   This is useful if an IPython session has already started.\n",
        "\n",
        "We'll take the second route here, and tell IPython we want figures plotted inline:"
      ],
      "metadata": {
        "id": "9bfXB71vFAwL"
      }
    },
    {
      "cell_type": "code",
      "source": [
        "%pylab inline"
      ],
      "outputs": [
        {
          "output_type": "stream",
          "text": [
            "\n",
            "Welcome to pylab, a matplotlib-based Python environment [backend: module://IPython.zmq.pylab.backend_inline].\n",
            "For more information, type 'help(pylab)'.\n"
          ],
          "name": "stdout"
        }
      ],
      "metadata": {
        "id": "rLPtmv_AFAwM",
        "outputId": "8f48f6c6-e785-40d5-8dd3-3c2ab493041e"
      },
      "execution_count": null
    },
    {
      "cell_type": "markdown",
      "source": [
        "##A first plot: the Pylab interface"
      ],
      "metadata": {
        "id": "e0wP7oWJFAwO"
      }
    },
    {
      "cell_type": "markdown",
      "source": [
        "Now we're ready for a plot.  The ``%pylab`` mode we entered above does a few things, among which is the\n",
        "import of ``pylab`` into the current namespace.  For clarity, we'll do this directly here.  We'll also\n",
        "import ``numpy`` in order to easily manipulate the arrays we'll plot:"
      ],
      "metadata": {
        "id": "0lVaDfyKFAwO"
      }
    },
    {
      "cell_type": "code",
      "source": [
        "import pylab\n",
        "import numpy as np"
      ],
      "outputs": [],
      "metadata": {
        "id": "nNzLpJmnFAwP"
      },
      "execution_count": null
    },
    {
      "cell_type": "markdown",
      "source": [
        "Let's make some simple data to plot: a sinusoid"
      ],
      "metadata": {
        "id": "Z1vZWRtwFAwQ"
      }
    },
    {
      "cell_type": "code",
      "source": [
        "x = np.linspace(0, 20, 1000)  # 100 evenly-spaced values from 0 to 50\n",
        "y = np.sin(x)\n",
        "\n",
        "pylab.plot(x, y)"
      ],
      "outputs": [
        {
          "output_type": "execute_result",
          "data": {},
          "execution_count": 3
        },
        {
          "output_type": "display_data",
          "data": {}
        }
      ],
      "metadata": {
        "id": "t2B0yQVIFAwR",
        "outputId": "de172a73-9cdf-42f8-cd52-e43ea65e5ee8"
      },
      "execution_count": null
    },
    {
      "cell_type": "markdown",
      "source": [
        "###Customizing the plot: Axes Limits"
      ],
      "metadata": {
        "id": "nNyGHWuDFAwS"
      }
    },
    {
      "cell_type": "markdown",
      "source": [
        "Let's play around with this a bit: first we can change the axis limits using ``xlim()`` and ``ylim()``"
      ],
      "metadata": {
        "id": "qCUTxco3FAwT"
      }
    },
    {
      "cell_type": "code",
      "source": [
        "pylab.plot(x, y)\n",
        "pylab.xlim(5, 15)\n",
        "pylab.ylim(-1.2, 1.2)"
      ],
      "outputs": [
        {
          "output_type": "execute_result",
          "data": {},
          "execution_count": 4
        },
        {
          "output_type": "display_data",
          "data": {}
        }
      ],
      "metadata": {
        "id": "CYlKfHQTFAwT",
        "outputId": "f984edcd-48bf-49c4-8ec9-493da82c70ea"
      },
      "execution_count": null
    },
    {
      "cell_type": "markdown",
      "source": [
        "###Customizing the plot: Axes Labels and Titles"
      ],
      "metadata": {
        "id": "RBAIY4rLFAwU"
      }
    },
    {
      "cell_type": "markdown",
      "source": [
        "We can label the axes and add a title:"
      ],
      "metadata": {
        "id": "8hhyFPWnFAwY"
      }
    },
    {
      "cell_type": "code",
      "source": [
        "pylab.plot(x, y)\n",
        "\n",
        "pylab.xlabel('this is x!')\n",
        "pylab.ylabel('this is y!')\n",
        "pylab.title('My First Plot')"
      ],
      "outputs": [
        {
          "output_type": "execute_result",
          "data": {},
          "execution_count": 5
        },
        {
          "output_type": "display_data",
          "data": {}
        }
      ],
      "metadata": {
        "id": "qTQp-t6XFAwY",
        "outputId": "f285aa00-60b9-4f0a-e7a1-5d48ad26f534"
      },
      "execution_count": null
    },
    {
      "cell_type": "markdown",
      "source": [
        "Labels can also be rendered using LaTeX symbols:"
      ],
      "metadata": {
        "id": "PfYf6JywFAwZ"
      }
    },
    {
      "cell_type": "code",
      "source": [
        "y = np.sin(2 * np.pi * x)\n",
        "pylab.plot(x, y)\n",
        "pylab.title(r'$\\sin(2 \\pi x)$')  # the `r` before the string indicates a \"raw string\""
      ],
      "outputs": [
        {
          "output_type": "execute_result",
          "data": {},
          "execution_count": 6
        },
        {
          "output_type": "display_data",
          "data": {}
        }
      ],
      "metadata": {
        "id": "16dmYnLoFAwa",
        "outputId": "32949b8f-b54b-4a48-f01f-36f093a4afcc"
      },
      "execution_count": null
    },
    {
      "cell_type": "markdown",
      "source": [
        "###Customizing the plot: Line Styles"
      ],
      "metadata": {
        "id": "tnlVXz19FAwb"
      }
    },
    {
      "cell_type": "markdown",
      "source": [
        "We can vary the line color or the line symbol:"
      ],
      "metadata": {
        "id": "xA_EfhxjFAwb"
      }
    },
    {
      "cell_type": "code",
      "source": [
        "pylab.plot(x, y, '-r')  # solid red line ('r' comes from RGB color scheme)\n",
        "pylab.xlim(0, 10)\n",
        "pylab.ylim(-1.2, 1.2)\n",
        "\n",
        "pylab.xlabel('this is x!')\n",
        "pylab.ylabel('this is y!')\n",
        "pylab.title('My First Plot')"
      ],
      "outputs": [
        {
          "output_type": "execute_result",
          "data": {},
          "execution_count": 7
        },
        {
          "output_type": "display_data",
          "data": {}
        }
      ],
      "metadata": {
        "id": "NrbKPfJ1FAwc",
        "outputId": "1ee5e5f9-6883-4304-bd41-2f6138b92eca"
      },
      "execution_count": null
    },
    {
      "cell_type": "markdown",
      "source": [
        "Other options for the color characters are:\n",
        "\n",
        "     'r' = red\n",
        "     'g' = green\n",
        "     'b' = blue\n",
        "     'c' = cyan\n",
        "     'm' = magenta\n",
        "     'y' = yellow\n",
        "     'k' = black\n",
        "     'w' = white\n",
        "\n",
        "Options for line styles are\n",
        "\n",
        "     '-' = solid\n",
        "     '--' = dashed\n",
        "     ':' = dotted\n",
        "     '-.' = dot-dashed\n",
        "     '.' = points\n",
        "     'o' = filled circles\n",
        "     '^' = filled triangles\n",
        "\n",
        "and many, many more.\n",
        "\n",
        "For more information, view the documentation of the plot function.  In IPython, this can be\n",
        "accomplished using the ``?`` functionality:\n"
      ],
      "metadata": {
        "id": "_D4BWv_YFAwd"
      }
    },
    {
      "cell_type": "code",
      "source": [
        "pylab.plot?"
      ],
      "outputs": [],
      "metadata": {
        "id": "9DhRbkCgFAwd"
      },
      "execution_count": null
    },
    {
      "cell_type": "markdown",
      "source": [
        "Also see the online version of this help: http://matplotlib.org/api/pyplot_api.html#matplotlib.pyplot.plot"
      ],
      "metadata": {
        "id": "6yRhe4peFAwd"
      }
    },
    {
      "cell_type": "markdown",
      "source": [
        "###Cusomizing the Plot: Legends"
      ],
      "metadata": {
        "id": "1LuFT2IgFAwe"
      }
    },
    {
      "cell_type": "markdown",
      "source": [
        "Multiple lines can be shown on the same plot.  In this case, you can use a legend\n",
        "to label the two lines:"
      ],
      "metadata": {
        "id": "SHbEhJwHFAwe"
      }
    },
    {
      "cell_type": "code",
      "source": [
        "x = np.linspace(0, 20, 1000)\n",
        "y1 = np.sin(x)\n",
        "y2 = np.cos(x)\n",
        "\n",
        "pylab.plot(x, y1, '-b', label='sine')\n",
        "pylab.plot(x, y2, '-r', label='cosine')\n",
        "pylab.legend(loc='upper right')\n",
        "pylab.ylim(-1.5, 2.0)"
      ],
      "outputs": [
        {
          "output_type": "execute_result",
          "data": {},
          "execution_count": 9
        },
        {
          "output_type": "display_data",
          "data": {}
        }
      ],
      "metadata": {
        "id": "RZQIK4ZLFAwe",
        "outputId": "074cefe9-b157-43c6-8b8f-6ad1177378d8"
      },
      "execution_count": null
    },
    {
      "cell_type": "markdown",
      "source": [
        "###Exercise: Linestyles & Plot Customization"
      ],
      "metadata": {
        "id": "z2m09vLDFAwf"
      }
    },
    {
      "cell_type": "markdown",
      "source": [
        "Below are two sets of arrays ``x1, y1``, and ``x2, y2``.  Create a plot where\n",
        "``x1`` and ``y1`` are represented by blue circles, and ``x2`` and ``y2`` are\n",
        "represented by a dotted black line.  Label the symbols \"sampled\" and\n",
        "\"continuous\", and add a legend.  Adjust the y limits to suit your taste."
      ],
      "metadata": {
        "id": "VhHYvBg7FAwf"
      }
    },
    {
      "cell_type": "code",
      "source": [
        "x1 = np.linspace(0, 10, 20)\n",
        "y1 = np.sin(x1)\n",
        "\n",
        "x2 = np.linspace(0, 10, 1000)\n",
        "y2 = np.sin(x2)"
      ],
      "outputs": [],
      "metadata": {
        "id": "8P1e4hj8FAwf"
      },
      "execution_count": null
    },
    {
      "cell_type": "code",
      "source": [
        "pylab.plot(x1, y1, 'bo', label='sampled')\n",
        "pylab.plot(x2, y2, ':k', label='continuous')\n",
        "pylab.legend()\n",
        "\n",
        "pylab.ylim(-1.5, 2.0)"
      ],
      "outputs": [
        {
          "output_type": "execute_result",
          "data": {},
          "execution_count": 11
        },
        {
          "output_type": "display_data",
          "data": {}
        }
      ],
      "metadata": {
        "id": "7zE1EruDFAwg",
        "outputId": "7b67a7c0-1d16-4350-f17e-8cf5469c32aa"
      },
      "execution_count": null
    }
  ]
}