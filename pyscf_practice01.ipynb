{
  "nbformat": 4,
  "nbformat_minor": 0,
  "metadata": {
    "colab": {
      "private_outputs": true,
      "provenance": [],
      "authorship_tag": "ABX9TyMDkwHfnZ1bZYb2h0xi5zUi",
      "include_colab_link": true
    },
    "kernelspec": {
      "name": "python3",
      "display_name": "Python 3"
    },
    "language_info": {
      "name": "python"
    }
  },
  "cells": [
    {
      "cell_type": "markdown",
      "metadata": {
        "id": "view-in-github",
        "colab_type": "text"
      },
      "source": [
        "<a href=\"https://colab.research.google.com/github/twyeh/university-physics/blob/main/pyscf_practice01.ipynb\" target=\"_parent\"><img src=\"https://colab.research.google.com/assets/colab-badge.svg\" alt=\"Open In Colab\"/></a>"
      ]
    },
    {
      "cell_type": "code",
      "execution_count": null,
      "metadata": {
        "id": "QE9g3ONUGd1U"
      },
      "outputs": [],
      "source": [
        "pip install --prefer-binary pyscf"
      ]
    },
    {
      "cell_type": "code",
      "source": [
        "import numpy as np\n",
        "import matplotlib.pyplot as plt"
      ],
      "metadata": {
        "id": "qVzNa6ijH9Ip"
      },
      "execution_count": null,
      "outputs": []
    },
    {
      "cell_type": "code",
      "source": [
        "from pyscf.pbc import gto, scf, tools"
      ],
      "metadata": {
        "id": "MeaOzgzmHgFP"
      },
      "execution_count": null,
      "outputs": []
    },
    {
      "cell_type": "code",
      "source": [
        "cell = gto.Cell(\n",
        "    atom='Si 0 0 0; Si 0.25 0.25 0.25',\n",
        "    basis='gth-szv',\n",
        "    pseudo='gth-pade',\n",
        "    a=np.eye(3)*5.431020511,\n",
        "    unit='Angstrom'\n",
        ")"
      ],
      "metadata": {
        "id": "7XeXb7ToHmW_"
      },
      "execution_count": null,
      "outputs": []
    },
    {
      "cell_type": "code",
      "source": [
        "cell.build()\n",
        "cell.exp_to_discard=0.1\n",
        "kpts = cell.make_kpts([2,2,2])\n",
        "mf = scf.KRHF(cell, kpts)\n",
        "mf.run()"
      ],
      "metadata": {
        "id": "fnNyqTBQIFIm"
      },
      "execution_count": null,
      "outputs": []
    }
  ]
}