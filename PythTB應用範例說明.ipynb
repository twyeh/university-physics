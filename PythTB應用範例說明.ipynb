{
  "nbformat": 4,
  "nbformat_minor": 0,
  "metadata": {
    "colab": {
      "private_outputs": true,
      "provenance": [],
      "authorship_tag": "ABX9TyMAQuDo4GfaMxLmSmukkn6q",
      "include_colab_link": true
    },
    "kernelspec": {
      "name": "python3",
      "display_name": "Python 3"
    },
    "language_info": {
      "name": "python"
    }
  },
  "cells": [
    {
      "cell_type": "markdown",
      "metadata": {
        "id": "view-in-github",
        "colab_type": "text"
      },
      "source": [
        "<a href=\"https://colab.research.google.com/github/twyeh/university-physics/blob/main/PythTB%E6%87%89%E7%94%A8%E7%AF%84%E4%BE%8B%E8%AA%AA%E6%98%8E.ipynb\" target=\"_parent\"><img src=\"https://colab.research.google.com/assets/colab-badge.svg\" alt=\"Open In Colab\"/></a>"
      ]
    },
    {
      "cell_type": "markdown",
      "source": [
        "安裝 pythtb 程式庫"
      ],
      "metadata": {
        "id": "ITHuYj7CEfwk"
      }
    },
    {
      "cell_type": "code",
      "execution_count": null,
      "metadata": {
        "id": "eXKipwU-Kklh"
      },
      "outputs": [],
      "source": [
        "pip install pythtb --upgrade"
      ]
    },
    {
      "cell_type": "markdown",
      "source": [
        "載入 pythtb 所有的 TB 模型類"
      ],
      "metadata": {
        "id": "sRScBleXFGP2"
      }
    },
    {
      "cell_type": "code",
      "source": [
        "from pythtb import * # import TB model class"
      ],
      "metadata": {
        "id": "FkLOyXlKLi6G"
      },
      "execution_count": null,
      "outputs": []
    },
    {
      "cell_type": "code",
      "source": [
        "import matplotlib.pyplot as plt"
      ],
      "metadata": {
        "id": "N2DTGOy7Lk1n"
      },
      "execution_count": null,
      "outputs": []
    },
    {
      "cell_type": "code",
      "source": [
        "# specify model\n",
        "lat=[[1.0]]\n",
        "orb=[[0.0]]\n",
        "my_model=tb_model(1,1,lat,orb)\n",
        "my_model.set_hop(-1., 0, 0, [1])"
      ],
      "metadata": {
        "id": "Bjghf-R_Lo6I"
      },
      "execution_count": null,
      "outputs": []
    },
    {
      "cell_type": "code",
      "source": [
        "# define a path in k-space\n",
        "(k_vec,k_dist,k_node)=my_model.k_path('full',100)\n",
        "k_label=[r\"$0$\",r\"$\\pi$\", r\"$2\\pi$\"]"
      ],
      "metadata": {
        "id": "3QTLAmuELuBr"
      },
      "execution_count": null,
      "outputs": []
    },
    {
      "cell_type": "code",
      "source": [
        "# solve model\n",
        "evals=my_model.solve_all(k_vec)"
      ],
      "metadata": {
        "id": "zd8323ZjL0m6"
      },
      "execution_count": null,
      "outputs": []
    },
    {
      "cell_type": "code",
      "source": [
        "# plot band structure\n",
        "fig, ax = plt.subplots()\n",
        "ax.plot(k_dist,evals[0])\n",
        "ax.set_title(\"1D chain band structure\")\n",
        "ax.set_xlabel(\"Path in k-space\")\n",
        "ax.set_ylabel(\"Band energy\")\n",
        "ax.set_xticks(k_node)\n",
        "ax.set_xticklabels(k_label)\n",
        "ax.set_xlim(k_node[0],k_node[-1])\n",
        "for n in range(len(k_node)):\n",
        "  ax.axvline(x=k_node[n], linewidth=0.5, color='k')\n",
        "fig.tight_layout()\n",
        "fig.savefig(\"simple_band.pdf\")"
      ],
      "metadata": {
        "id": "pIjMikvIL4P7"
      },
      "execution_count": null,
      "outputs": []
    }
  ]
}