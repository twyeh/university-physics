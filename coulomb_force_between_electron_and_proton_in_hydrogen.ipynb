{
  "nbformat": 4,
  "nbformat_minor": 0,
  "metadata": {
    "colab": {
      "private_outputs": true,
      "provenance": [],
      "authorship_tag": "ABX9TyO6yT1qrI1xdd9kr3J7VemT",
      "include_colab_link": true
    },
    "kernelspec": {
      "name": "python3",
      "display_name": "Python 3"
    },
    "language_info": {
      "name": "python"
    }
  },
  "cells": [
    {
      "cell_type": "markdown",
      "metadata": {
        "id": "view-in-github",
        "colab_type": "text"
      },
      "source": [
        "<a href=\"https://colab.research.google.com/github/twyeh/university-physics/blob/main/coulomb_force_between_electron_and_proton_in_hydrogen.ipynb\" target=\"_parent\"><img src=\"https://colab.research.google.com/assets/colab-badge.svg\" alt=\"Open In Colab\"/></a>"
      ]
    },
    {
      "cell_type": "markdown",
      "source": [
        "## 題示：\n",
        "\n",
        "使用python及sympy撰寫能夠計算氫原子中電子和質子之間的庫倫作用力的程式碼"
      ],
      "metadata": {
        "id": "Jle6rdCHlPtS"
      }
    },
    {
      "source": [
        "import sympy as sp\n",
        "\n",
        "# 定義符號\n",
        "k, e, r = sp.symbols('k e r')\n",
        "\n",
        "# 定義庫侖力公式\n",
        "F = k * e**2 / r**2\n",
        "\n",
        "# 顯示庫侖力公式\n",
        "display(F)\n",
        "\n",
        "# 設置常數的值\n",
        "k_val = 8.98755e9  # 庫侖常數，單位為 N m^2/C^2\n",
        "e_val = 1.602e-19  # 基本電荷，單位為 C\n",
        "\n",
        "# 設置 r 的值，例如，氫原子中電子的玻爾半徑\n",
        "r_val = 5.29e-11  # 單位為 m\n",
        "\n",
        "# 將常數和 r 的值代入庫侖力公式\n",
        "F_val = F.subs({k: k_val, e: e_val, r: r_val})\n",
        "\n",
        "# 將庫侖力的值轉換為數值\n",
        "F_val_num = F_val.evalf()\n",
        "\n",
        "# 顯示庫侖力的數值\n",
        "print(f\"庫倫力={F_val_num} 牛頓\")"
      ],
      "cell_type": "code",
      "metadata": {
        "id": "8gJq2wonjcIx"
      },
      "execution_count": null,
      "outputs": []
    },
    {
      "cell_type": "markdown",
      "source": [
        "代碼說明：\n",
        "\n",
        "* 導入 sympy 庫並定義符號。\n",
        "* 定義庫侖力公式。\n",
        "* 顯示庫侖力公式。\n",
        "* 設置常數的值。\n",
        "* 設置 r 的值。\n",
        "* 將常數和 r 的值代入庫侖力公式。\n",
        "* 顯示庫侖力的值。\n",
        "* 將庫侖力的值轉換為數值。\n",
        "* 顯示庫侖力的數值。\n",
        "\n",
        "注意事項：\n",
        "\n",
        "* 庫侖力是一個向量，但此代碼僅計算其大小。\n",
        "* 此代碼假設電子和質子是點電荷。\n",
        "* 此代碼忽略了其他效應，例如電子和質子之間的磁力。"
      ],
      "metadata": {
        "id": "guoA8Q23jggp"
      }
    },
    {
      "cell_type": "markdown",
      "source": [
        "## 提示\n",
        "使用python及sympy撰寫能夠計算氫原子中電子和質子之間的重力的程式碼"
      ],
      "metadata": {
        "id": "cBPTbInzmmAR"
      }
    },
    {
      "source": [
        "import sympy as sp\n",
        "\n",
        "# 定義符號\n",
        "G, m_e, m_p, r = sp.symbols('G m_e m_p r')\n",
        "\n",
        "# 定義重力公式\n",
        "F = G * m_e * m_p / r**2\n",
        "\n",
        "# 顯示重力公式\n",
        "display(F)\n",
        "\n",
        "# 設置常數的值\n",
        "G_val = 6.674e-11  # 重力常數，單位為 N m^2/kg^2\n",
        "m_e_val = 9.109e-31  # 電子質量，單位為 kg\n",
        "m_p_val = 1.673e-27  # 質子質量，單位為 kg\n",
        "\n",
        "# 設置 r 的值，例如，氫原子中電子的玻爾半徑\n",
        "r_val = 5.29e-11  # 單位為 m\n",
        "\n",
        "# 將常數和 r 的值代入重力公式\n",
        "F_val = F.subs({G: G_val, m_e: m_e_val, m_p: m_p_val, r: r_val})\n",
        "\n",
        "# 將重力的值轉換為數值\n",
        "F_val_num = F_val.evalf()\n",
        "\n",
        "# 顯示重力的數值\n",
        "print(f\"重力={F_val_num} 牛頓\")"
      ],
      "cell_type": "code",
      "metadata": {
        "id": "DChWa5QWmeE5"
      },
      "execution_count": null,
      "outputs": []
    },
    {
      "cell_type": "markdown",
      "source": [
        "程式碼說明：\n",
        "\n",
        "* 導入 sympy 庫並定義符號，包括重力常數 (G)、電子質量 (m_e)、質子質量 (m_p) 和距離 (r)。\n",
        "* 定義重力公式：F = G * m_e * m_p / r**2。\n",
        "* 顯示重力公式。\n",
        "* 設置常數的值，包括 G、m_e 和 m_p。\n",
        "* 設置 r 的值，這裡使用氫原子中電子的玻爾半徑。\n",
        "* 將常數和 r 的值代入重力公式，計算重力。\n",
        "*　將重力的值轉換為數值。\n",
        "* 顯示重力的數值，單位為牛頓。\n",
        "\n",
        "注意事項：\n",
        "\n",
        "* 重力是一個向量，但此代碼僅計算其大小。\n",
        "* 此代碼假設電子和質子是點質量。\n",
        "* 此代碼忽略了其他效應，例如電子和質子之間的電磁力。"
      ],
      "metadata": {
        "id": "I5RmQiuqm2KA"
      }
    }
  ]
}