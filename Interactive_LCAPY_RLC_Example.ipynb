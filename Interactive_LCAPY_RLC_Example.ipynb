{
  "nbformat": 4,
  "nbformat_minor": 0,
  "metadata": {
    "colab": {
      "private_outputs": true,
      "provenance": [],
      "authorship_tag": "ABX9TyP2vPrEcvHB/G+gsTCfiYmM",
      "include_colab_link": true
    },
    "kernelspec": {
      "name": "python3",
      "display_name": "Python 3"
    },
    "language_info": {
      "name": "python"
    }
  },
  "cells": [
    {
      "cell_type": "markdown",
      "metadata": {
        "id": "view-in-github",
        "colab_type": "text"
      },
      "source": [
        "<a href=\"https://colab.research.google.com/github/twyeh/university-physics/blob/main/Interactive_LCAPY_RLC_Example.ipynb\" target=\"_parent\"><img src=\"https://colab.research.google.com/assets/colab-badge.svg\" alt=\"Open In Colab\"/></a>"
      ]
    },
    {
      "cell_type": "code",
      "execution_count": null,
      "metadata": {
        "id": "c42n957AmIqk"
      },
      "outputs": [],
      "source": [
        "!pip install pdflatex\n",
        "!sudo apt-get install texlive-latex-recommended\n",
        "!sudo apt install texlive-latex-extra\n",
        "!sudo apt install dvipng\n",
        "!pip install lcapy\n",
        "from lcapy import *"
      ]
    },
    {
      "cell_type": "code",
      "source": [
        "import numpy as np\n",
        "from matplotlib.pyplot import figure, savefig\n",
        "from lcapy import Circuit,V,R,C,L\n",
        "from ipywidgets import interactive\n",
        "\n",
        "def f(R=1, L=10.0, C=0.1):\n",
        "    cct = Circuit()\n",
        "\n",
        "    cct.add('V 0_1 0 step 10;down=2')\n",
        "    cct.add('L 0_1 0_2 {L};right'.format(L=L))\n",
        "    cct.add('C 0_2 1 {C};right'.format(C=C))\n",
        "    cct.add('R 1 0_4 {R};down'.format(R=R))\n",
        "    cct.add('W 0_4 0; left')\n",
        "\n",
        "    t = np.linspace(0, 20, 1000)\n",
        "    vr = cct.R.v.evaluate(t)\n",
        "\n",
        "    fig = figure()\n",
        "    #Note that we can add Greek symbols from LaTex into the figure text\n",
        "    ax = fig.add_subplot(111, title='(R={}$\\Omega$)'.format(R)+'(L={}$H$)'.format(L)+'(C={}$F$)'.format(C))\n",
        "    ax.plot(t, vr, linewidth=2)\n",
        "    ax.set_xlabel('Time (s)')\n",
        "    ax.set_ylabel('Resistor voltage (V)')\n",
        "    ax.grid(True)\n",
        "\n",
        "    cct.draw()\n",
        "interactive_plot = interactive(f, R=(1, 10,1), L=(0.01,10.1,0.1), C=(0.01,10.1,0.1))\n",
        "output = interactive_plot.children[-1]\n",
        "output.layout.height = '350px'\n",
        "interactive_plot"
      ],
      "metadata": {
        "id": "WRZpVlPjmaE1"
      },
      "execution_count": null,
      "outputs": []
    }
  ]
}