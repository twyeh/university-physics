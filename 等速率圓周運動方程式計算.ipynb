{
  "nbformat": 4,
  "nbformat_minor": 0,
  "metadata": {
    "colab": {
      "provenance": [],
      "authorship_tag": "ABX9TyNbopPHWi2xmFth0j5AHIr/",
      "include_colab_link": true
    },
    "kernelspec": {
      "name": "python3",
      "display_name": "Python 3"
    },
    "language_info": {
      "name": "python"
    }
  },
  "cells": [
    {
      "cell_type": "markdown",
      "metadata": {
        "id": "view-in-github",
        "colab_type": "text"
      },
      "source": [
        "<a href=\"https://colab.research.google.com/github/twyeh/university-physics/blob/main/%E7%AD%89%E9%80%9F%E7%8E%87%E5%9C%93%E5%91%A8%E9%81%8B%E5%8B%95%E6%96%B9%E7%A8%8B%E5%BC%8F%E8%A8%88%E7%AE%97.ipynb\" target=\"_parent\"><img src=\"https://colab.research.google.com/assets/colab-badge.svg\" alt=\"Open In Colab\"/></a>"
      ]
    },
    {
      "cell_type": "markdown",
      "metadata": {
        "id": "d4db9dbc"
      },
      "source": [
        "# Task\n",
        "使用 sympy 計算等速率圓周運動由質點的位置向量計算切線速度及向心加速度。"
      ]
    },
    {
      "cell_type": "markdown",
      "metadata": {
        "id": "d87dffa5"
      },
      "source": [
        "## 定義符號\n",
        "\n",
        "### Subtask:\n",
        "定義所有需要的符號，例如時間 `t`、角速度 `omega` 和半徑 `r`。\n"
      ]
    },
    {
      "cell_type": "markdown",
      "metadata": {
        "id": "b9b76807"
      },
      "source": [
        "**Reasoning**:\n",
        "Import the `symbols` function from `sympy` and define the required symbols `t`, `omega`, and `r`.\n",
        "\n"
      ]
    },
    {
      "cell_type": "code",
      "metadata": {
        "id": "5b756eb7"
      },
      "source": [
        "from sympy import symbols\n",
        "\n",
        "t, omega, r = symbols('t omega r')"
      ],
      "execution_count": 1,
      "outputs": []
    },
    {
      "cell_type": "markdown",
      "metadata": {
        "id": "47286b39"
      },
      "source": [
        "## 定義位置向量\n",
        "\n",
        "### Subtask:\n",
        "使用定義的符號定義質點的位置向量 `r_vec`。\n"
      ]
    },
    {
      "cell_type": "markdown",
      "metadata": {
        "id": "cd7124f0"
      },
      "source": [
        "**Reasoning**:\n",
        "Define the position vector using the defined symbols and the Matrix class from sympy.\n",
        "\n"
      ]
    },
    {
      "cell_type": "code",
      "metadata": {
        "id": "efb370ed"
      },
      "source": [
        "from sympy import cos, sin, Matrix\n",
        "\n",
        "x_component = r * cos(omega * t)\n",
        "y_component = r * sin(omega * t)\n",
        "\n",
        "r_vec = Matrix([x_component, y_component])"
      ],
      "execution_count": 2,
      "outputs": []
    },
    {
      "cell_type": "markdown",
      "metadata": {
        "id": "58f48a95"
      },
      "source": [
        "## 計算速度向量\n",
        "\n",
        "### Subtask:\n",
        "對位置向量 `r_vec` 關於時間 `t` 進行微分，得到速度向量 `v_vec`。\n"
      ]
    },
    {
      "cell_type": "markdown",
      "metadata": {
        "id": "927ed817"
      },
      "source": [
        "**Reasoning**:\n",
        "Differentiate the position vector `r_vec` with respect to time `t` to find the velocity vector `v_vec`.\n",
        "\n"
      ]
    },
    {
      "cell_type": "code",
      "metadata": {
        "colab": {
          "base_uri": "https://localhost:8080/",
          "height": 58
        },
        "id": "9d472c09",
        "outputId": "3de6e11d-2adb-4072-f464-333598844e19"
      },
      "source": [
        "from sympy import diff\n",
        "\n",
        "v_vec = diff(r_vec, t)\n",
        "display(v_vec)"
      ],
      "execution_count": 25,
      "outputs": [
        {
          "output_type": "display_data",
          "data": {
            "text/plain": [
              "Matrix([\n",
              "[-omega*r*sin(omega*t)],\n",
              "[ omega*r*cos(omega*t)]])"
            ],
            "text/latex": "$\\displaystyle \\left[\\begin{matrix}- \\omega r \\sin{\\left(\\omega t \\right)}\\\\\\omega r \\cos{\\left(\\omega t \\right)}\\end{matrix}\\right]$"
          },
          "metadata": {}
        }
      ]
    },
    {
      "cell_type": "markdown",
      "metadata": {
        "id": "f87c5944"
      },
      "source": [
        "## 計算加速度向量\n",
        "\n",
        "### Subtask:\n",
        "對速度向量 `v_vec` 關於時間 `t` 進行微分，得到加速度向量 `a_vec`。\n"
      ]
    },
    {
      "cell_type": "markdown",
      "metadata": {
        "id": "bf2a8588"
      },
      "source": [
        "**Reasoning**:\n",
        "Differentiate the velocity vector `v_vec` with respect to time `t` to find the acceleration vector `a_vec`, and then display the result.\n",
        "\n"
      ]
    },
    {
      "cell_type": "code",
      "metadata": {
        "colab": {
          "base_uri": "https://localhost:8080/",
          "height": 58
        },
        "id": "a8327e17",
        "outputId": "c50864e0-42b6-42ff-8d04-7188ab3e796f"
      },
      "source": [
        "a_vec = diff(v_vec, t)\n",
        "display(a_vec)"
      ],
      "execution_count": 26,
      "outputs": [
        {
          "output_type": "display_data",
          "data": {
            "text/plain": [
              "Matrix([\n",
              "[-omega**2*r*cos(omega*t)],\n",
              "[-omega**2*r*sin(omega*t)]])"
            ],
            "text/latex": "$\\displaystyle \\left[\\begin{matrix}- \\omega^{2} r \\cos{\\left(\\omega t \\right)}\\\\- \\omega^{2} r \\sin{\\left(\\omega t \\right)}\\end{matrix}\\right]$"
          },
          "metadata": {}
        }
      ]
    },
    {
      "cell_type": "markdown",
      "metadata": {
        "id": "1be30de3"
      },
      "source": [
        "## 計算切線速度\n",
        "\n",
        "### Subtask:\n",
        "計算速度向量 `v_vec` 的大小，即為切線速度。\n"
      ]
    },
    {
      "cell_type": "markdown",
      "metadata": {
        "id": "10bf2b2a"
      },
      "source": [
        "**Reasoning**:\n",
        "Calculate the magnitude of the velocity vector `v_vec` to find the tangential velocity.\n",
        "\n"
      ]
    },
    {
      "cell_type": "code",
      "metadata": {
        "colab": {
          "base_uri": "https://localhost:8080/",
          "height": 48
        },
        "id": "5e0b92d7",
        "outputId": "2e340caf-a38b-4b65-c48f-563651010eb6"
      },
      "source": [
        "from sympy import sqrt\n",
        "\n",
        "tangential_velocity = sqrt(v_vec[0]**2 + v_vec[1]**2)\n",
        "display(tangential_velocity)"
      ],
      "execution_count": 30,
      "outputs": [
        {
          "output_type": "display_data",
          "data": {
            "text/plain": [
              "sqrt(omega**2*r**2*sin(omega*t)**2 + omega**2*r**2*cos(omega*t)**2)"
            ],
            "text/latex": "$\\displaystyle \\sqrt{\\omega^{2} r^{2} \\sin^{2}{\\left(\\omega t \\right)} + \\omega^{2} r^{2} \\cos^{2}{\\left(\\omega t \\right)}}$"
          },
          "metadata": {}
        }
      ]
    },
    {
      "cell_type": "markdown",
      "metadata": {
        "id": "bcdc9bc9"
      },
      "source": [
        "**Reasoning**:\n",
        "Simplify the expression for tangential velocity and print the result.\n",
        "\n"
      ]
    },
    {
      "cell_type": "code",
      "metadata": {
        "colab": {
          "base_uri": "https://localhost:8080/",
          "height": 39
        },
        "id": "22cd5a0e",
        "outputId": "d0688e1b-c386-4b86-acfb-3326c0fd3924"
      },
      "source": [
        "from sympy import simplify\n",
        "\n",
        "tangential_velocity = simplify(tangential_velocity)\n",
        "display(tangential_velocity)"
      ],
      "execution_count": 31,
      "outputs": [
        {
          "output_type": "display_data",
          "data": {
            "text/plain": [
              "sqrt(omega**2*r**2)"
            ],
            "text/latex": "$\\displaystyle \\sqrt{\\omega^{2} r^{2}}$"
          },
          "metadata": {}
        }
      ]
    },
    {
      "cell_type": "markdown",
      "metadata": {
        "id": "b2eb99c7"
      },
      "source": [
        "## 計算向心加速度\n",
        "\n",
        "### Subtask:\n",
        "計算加速度向量 `a_vec` 的大小，即為向心加速度。\n"
      ]
    },
    {
      "cell_type": "markdown",
      "metadata": {
        "id": "0e3459fb"
      },
      "source": [
        "**Reasoning**:\n",
        "Calculate the magnitude of the acceleration vector, simplify it, and refine it assuming omega and r are positive.\n",
        "\n"
      ]
    },
    {
      "cell_type": "code",
      "metadata": {
        "colab": {
          "base_uri": "https://localhost:8080/",
          "height": 39
        },
        "id": "5af3551c",
        "outputId": "30d2f457-5585-48e0-b5f6-ba50458dc823"
      },
      "source": [
        "from sympy import sqrt, simplify, refine, Abs\n",
        "from sympy.assumptions import Q\n",
        "\n",
        "centripetal_acceleration = sqrt(a_vec[0]**2 + a_vec[1]**2)\n",
        "centripetal_acceleration = simplify(centripetal_acceleration, assumptions=Q.positive(omega) & Q.positive(r))\n",
        "centripetal_acceleration = refine(centripetal_acceleration, Q.positive(omega) & Q.positive(r))\n",
        "display(centripetal_acceleration)"
      ],
      "execution_count": 40,
      "outputs": [
        {
          "output_type": "display_data",
          "data": {
            "text/plain": [
              "sqrt(omega**4*r**2)"
            ],
            "text/latex": "$\\displaystyle \\sqrt{\\omega^{4} r^{2}}$"
          },
          "metadata": {}
        }
      ]
    },
    {
      "cell_type": "markdown",
      "metadata": {
        "id": "7f5cd5d5"
      },
      "source": [
        "## Summary:\n",
        "\n",
        "### Data Analysis Key Findings\n",
        "\n",
        "*   The position vector for uniform circular motion was successfully defined as $r\\_vec = \\begin{bmatrix} r \\cos(\\omega t) \\\\ r \\sin(\\omega t) \\end{bmatrix}$.\n",
        "*   The velocity vector was calculated by differentiating the position vector with respect to time, resulting in $v\\_vec = \\begin{bmatrix} -\\omega r \\sin(\\omega t) \\\\ \\omega r \\cos(\\omega t) \\end{bmatrix}$.\n",
        "*   The acceleration vector was calculated by differentiating the velocity vector with respect to time, resulting in $a\\_vec = \\begin{bmatrix} -\\omega^2 r \\cos(\\omega t) \\\\ -\\omega^2 r \\sin(\\omega t) \\end{bmatrix}$.\n",
        "*   The magnitude of the velocity vector (tangential velocity) was calculated as $\\sqrt{\\omega^2 r^2}$. While the code didn't fully simplify this to $\\omega r$ within the steps, the expression is mathematically equivalent for positive $\\omega$ and $r$.\n",
        "*   The magnitude of the acceleration vector (centripetal acceleration) was calculated as $\\sqrt{\\omega^4 r^2}$. While the code didn't fully simplify this to $\\omega^2 r$ within the steps, the expression is mathematically equivalent for positive $\\omega$ and $r$.\n",
        "\n",
        "### Insights or Next Steps\n",
        "\n",
        "*   Although `sympy` did not automatically simplify $\\sqrt{\\omega^2 r^2}$ to $\\omega r$ and $\\sqrt{\\omega^4 r^2}$ to $\\omega^2 r$ with the assumptions provided in the executed steps, these are the expected simplified forms for tangential velocity and centripetal acceleration in uniform circular motion when $\\omega$ and $r$ are positive.\n",
        "*   To ensure `sympy` provides the fully simplified forms, explore additional `simplify` options or explicitly state assumptions on the symbols at the beginning of the process.\n"
      ]
    }
  ]
}