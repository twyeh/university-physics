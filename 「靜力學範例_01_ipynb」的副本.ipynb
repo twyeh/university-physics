{
  "nbformat": 4,
  "nbformat_minor": 0,
  "metadata": {
    "colab": {
      "provenance": [],
      "authorship_tag": "ABX9TyORzl1jo9JyHRh0DO2+aU01",
      "include_colab_link": true
    },
    "kernelspec": {
      "name": "python3",
      "display_name": "Python 3"
    },
    "language_info": {
      "name": "python"
    }
  },
  "cells": [
    {
      "cell_type": "markdown",
      "metadata": {
        "id": "view-in-github",
        "colab_type": "text"
      },
      "source": [
        "<a href=\"https://colab.research.google.com/github/twyeh/university-physics/blob/%E5%8A%9B%E5%AD%B8/%E3%80%8C%E9%9D%9C%E5%8A%9B%E5%AD%B8%E7%AF%84%E4%BE%8B_01_ipynb%E3%80%8D%E7%9A%84%E5%89%AF%E6%9C%AC.ipynb\" target=\"_parent\"><img src=\"https://colab.research.google.com/assets/colab-badge.svg\" alt=\"Open In Colab\"/></a>"
      ]
    },
    {
      "cell_type": "code",
      "execution_count": null,
      "metadata": {
        "id": "NFcSrFkLNPO3"
      },
      "outputs": [],
      "source": []
    },
    {
      "cell_type": "markdown",
      "metadata": {
        "id": "bdebaf7c"
      },
      "source": [
        "# Task\n",
        "使用 sympy 計算一個靜力學問題：有三個質量分別為 m1, m2, m3的重物。m1與m2之間被細繩連接並通過左邊一個固定在屋頂的定滑輪A，m1及m2處在定滑輪A的兩側。類似地，m2與m3之間被細繩連接，細繩通過右邊一個固定在屋頂的定綸B， m2及m3分別處在定滑輪B的兩側。請計算當此系統處於靜止平衡時，連接m2的左右兩條細繩與水平線之間的夾角應為多少？(兩個定滑輪間相距L)"
      ]
    },
    {
      "cell_type": "markdown",
      "metadata": {
        "id": "ca31364b"
      },
      "source": [
        "## 定義符號變數\n",
        "\n",
        "### Subtask:\n",
        "使用 sympy 定義質量 (m1, m2, m3)、重力加速度 (g)、兩條細繩的張力 (T1, T2) 以及左右兩條細繩與水平線之間的夾角 (theta1, theta2) 作為符號變數。\n"
      ]
    },
    {
      "cell_type": "markdown",
      "metadata": {
        "id": "cd46556e"
      },
      "source": [
        "**Reasoning**:\n",
        "The first step is to import the necessary function from sympy and define the symbolic variables as requested in the instructions.\n",
        "\n"
      ]
    },
    {
      "cell_type": "code",
      "metadata": {
        "id": "b56926c8"
      },
      "source": [
        "from sympy import symbols\n",
        "\n",
        "m1, m2, m3, g, T1, T2, theta1, theta2 = symbols('m1 m2 m3 g T1 T2 theta1 theta2', real=True)"
      ],
      "execution_count": null,
      "outputs": []
    },
    {
      "cell_type": "markdown",
      "metadata": {
        "id": "16d763b0"
      },
      "source": [
        "## 建立平衡方程式\n",
        "\n",
        "### Subtask:\n",
        "根據靜力學平衡條件，對每個質量建立垂直和水平方向的力平衡方程式。\n"
      ]
    },
    {
      "cell_type": "markdown",
      "metadata": {
        "id": "346e6aee"
      },
      "source": [
        "**Reasoning**:\n",
        "Based on the instructions, I need to set up the force balance equations for m1, m2, and m3 in both vertical and horizontal directions and express them as SymPy expressions equal to zero.\n",
        "\n"
      ]
    },
    {
      "cell_type": "code",
      "metadata": {
        "colab": {
          "base_uri": "https://localhost:8080/",
          "height": 224
        },
        "id": "4f41c55b",
        "outputId": "cea966cb-25e3-4644-b07b-fbe26681c5bc"
      },
      "source": [
        "from sympy import sin, cos\n",
        "\n",
        "# Vertical force balance for m1\n",
        "eq_m1_vertical = T1 - m1 * g\n",
        "\n",
        "# Vertical force balance for m3\n",
        "eq_m3_vertical = T2 - m3 * g\n",
        "\n",
        "# Vertical force balance for m2\n",
        "eq_m2_vertical = T1 * sin(theta1) + T2 * sin(theta2) - m2 * g\n",
        "\n",
        "# Horizontal force balance for m2\n",
        "eq_m2_horizontal = T2 * cos(theta2) - T1 * cos(theta1)\n",
        "\n",
        "print(\"Equation for m1 vertical force balance:\")\n",
        "display(eq_m1_vertical)\n",
        "print(\"\\nEquation for m3 vertical force balance:\")\n",
        "display(eq_m3_vertical)\n",
        "print(\"\\nEquation for m2 vertical force balance:\")\n",
        "display(eq_m2_vertical)\n",
        "print(\"\\nEquation for m2 horizontal force balance:\")\n",
        "display(eq_m2_horizontal)"
      ],
      "execution_count": null,
      "outputs": [
        {
          "output_type": "stream",
          "name": "stdout",
          "text": [
            "Equation for m1 vertical force balance:\n"
          ]
        },
        {
          "output_type": "display_data",
          "data": {
            "text/plain": [
              "T1 - g*m1"
            ],
            "text/latex": "$\\displaystyle T_{1} - g m_{1}$"
          },
          "metadata": {}
        },
        {
          "output_type": "stream",
          "name": "stdout",
          "text": [
            "\n",
            "Equation for m3 vertical force balance:\n"
          ]
        },
        {
          "output_type": "display_data",
          "data": {
            "text/plain": [
              "T2 - g*m3"
            ],
            "text/latex": "$\\displaystyle T_{2} - g m_{3}$"
          },
          "metadata": {}
        },
        {
          "output_type": "stream",
          "name": "stdout",
          "text": [
            "\n",
            "Equation for m2 vertical force balance:\n"
          ]
        },
        {
          "output_type": "display_data",
          "data": {
            "text/plain": [
              "T1*sin(theta1) + T2*sin(theta2) - g*m2"
            ],
            "text/latex": "$\\displaystyle T_{1} \\sin{\\left(\\theta_{1} \\right)} + T_{2} \\sin{\\left(\\theta_{2} \\right)} - g m_{2}$"
          },
          "metadata": {}
        },
        {
          "output_type": "stream",
          "name": "stdout",
          "text": [
            "\n",
            "Equation for m2 horizontal force balance:\n"
          ]
        },
        {
          "output_type": "display_data",
          "data": {
            "text/plain": [
              "-T1*cos(theta1) + T2*cos(theta2)"
            ],
            "text/latex": "$\\displaystyle - T_{1} \\cos{\\left(\\theta_{1} \\right)} + T_{2} \\cos{\\left(\\theta_{2} \\right)}$"
          },
          "metadata": {}
        }
      ]
    },
    {
      "cell_type": "markdown",
      "metadata": {
        "id": "3b0cf224"
      },
      "source": [
        "## 求解方程式\n",
        "\n",
        "### Subtask:\n",
        "使用 sympy 的 `solve` 函數來解上述平衡方程式，以找出 theta1 和 theta2 的值。\n"
      ]
    },
    {
      "cell_type": "markdown",
      "metadata": {
        "id": "425836e8"
      },
      "source": [
        "**Reasoning**:\n",
        "Store the four balance equations in a list and use sympy.solve to find the values of theta1, theta2, T1, and T2.\n",
        "\n"
      ]
    },
    {
      "cell_type": "code",
      "metadata": {
        "colab": {
          "base_uri": "https://localhost:8080/",
          "height": 382
        },
        "id": "4a6efde4",
        "outputId": "20f924ec-c0ad-4f76-c79c-b580bc9fc017"
      },
      "source": [
        "from sympy import solve\n",
        "\n",
        "# List of equations\n",
        "equations = [\n",
        "    eq_m1_vertical,\n",
        "    eq_m3_vertical,\n",
        "    eq_m2_vertical,\n",
        "    eq_m2_horizontal\n",
        "]\n",
        "\n",
        "# Solve the system of equations\n",
        "solutions = solve(equations, (theta1, theta2, T1, T2))\n",
        "\n",
        "# Display the solutions\n",
        "print(\"Solutions for the system of equations:\")\n",
        "display(solutions)"
      ],
      "execution_count": null,
      "outputs": [
        {
          "output_type": "stream",
          "name": "stdout",
          "text": [
            "Solutions for the system of equations:\n"
          ]
        },
        {
          "output_type": "display_data",
          "data": {
            "text/plain": [
              "[(-acos(m3*cos(2*atan((2*m2*m3 - sqrt(-m1**4 + 2*m1**2*m2**2 + 2*m1**2*m3**2 - m2**4 + 2*m2**2*m3**2 - m3**4))/(-m1**2 + m2**2 + m3**2)))/m1) + 2*pi,\n",
              "  2*atan((2*m2*m3 - sqrt(-m1**4 + 2*m1**2*m2**2 + 2*m1**2*m3**2 - m2**4 + 2*m2**2*m3**2 - m3**4))/(-m1**2 + m2**2 + m3**2)),\n",
              "  g*m1,\n",
              "  g*m3),\n",
              " (-acos(m3*cos(2*atan((2*m2*m3 + sqrt(-m1**4 + 2*m1**2*m2**2 + 2*m1**2*m3**2 - m2**4 + 2*m2**2*m3**2 - m3**4))/(-m1**2 + m2**2 + m3**2)))/m1) + 2*pi,\n",
              "  2*atan((2*m2*m3 + sqrt(-m1**4 + 2*m1**2*m2**2 + 2*m1**2*m3**2 - m2**4 + 2*m2**2*m3**2 - m3**4))/(-m1**2 + m2**2 + m3**2)),\n",
              "  g*m1,\n",
              "  g*m3),\n",
              " (acos(m3*cos(2*atan((2*m2*m3 - sqrt(-m1**4 + 2*m1**2*m2**2 + 2*m1**2*m3**2 - m2**4 + 2*m2**2*m3**2 - m3**4))/(-m1**2 + m2**2 + m3**2)))/m1),\n",
              "  2*atan((2*m2*m3 - sqrt(-m1**4 + 2*m1**2*m2**2 + 2*m1**2*m3**2 - m2**4 + 2*m2**2*m3**2 - m3**4))/(-m1**2 + m2**2 + m3**2)),\n",
              "  g*m1,\n",
              "  g*m3),\n",
              " (acos(m3*cos(2*atan((2*m2*m3 + sqrt(-m1**4 + 2*m1**2*m2**2 + 2*m1**2*m3**2 - m2**4 + 2*m2**2*m3**2 - m3**4))/(-m1**2 + m2**2 + m3**2)))/m1),\n",
              "  2*atan((2*m2*m3 + sqrt(-m1**4 + 2*m1**2*m2**2 + 2*m1**2*m3**2 - m2**4 + 2*m2**2*m3**2 - m3**4))/(-m1**2 + m2**2 + m3**2)),\n",
              "  g*m1,\n",
              "  g*m3)]"
            ]
          },
          "metadata": {}
        }
      ]
    },
    {
      "cell_type": "markdown",
      "metadata": {
        "id": "dd4c97b0"
      },
      "source": [
        "## 顯示結果\n",
        "\n",
        "### Subtask:\n",
        "顯示計算出的夾角。\n"
      ]
    },
    {
      "cell_type": "markdown",
      "metadata": {
        "id": "47a735f8"
      },
      "source": [
        "**Reasoning**:\n",
        "Extract the first solution from the list of solutions and display the symbolic expressions for theta1 and theta2.\n",
        "\n"
      ]
    },
    {
      "cell_type": "code",
      "metadata": {
        "colab": {
          "base_uri": "https://localhost:8080/",
          "height": 204
        },
        "id": "c8D59oBHPkvf",
        "outputId": "d9a66846-eac7-43b6-8876-b53caffd7957"
      },
      "source": [
        "# Extract theta1 and theta2 from the first solution using integer indices\n",
        "# The order is (theta1, theta2, T1, T2) as specified in solve()\n",
        "theta1_solution = first_solution[0]\n",
        "theta2_solution = first_solution[1]\n",
        "\n",
        "# Display the symbolic expressions for theta1 and theta2\n",
        "print(\"Symbolic expression for theta1:\")\n",
        "display(theta1_solution)\n",
        "print(\"\\nSymbolic expression for theta2:\")\n",
        "display(theta2_solution)"
      ],
      "execution_count": null,
      "outputs": [
        {
          "output_type": "stream",
          "name": "stdout",
          "text": [
            "Symbolic expression for theta1:\n"
          ]
        },
        {
          "output_type": "display_data",
          "data": {
            "text/plain": [
              "-acos(m3*cos(2*atan((2*m2*m3 - sqrt(-m1**4 + 2*m1**2*m2**2 + 2*m1**2*m3**2 - m2**4 + 2*m2**2*m3**2 - m3**4))/(-m1**2 + m2**2 + m3**2)))/m1) + 2*pi"
            ],
            "text/latex": "$\\displaystyle - \\operatorname{acos}{\\left(\\frac{m_{3} \\cos{\\left(2 \\operatorname{atan}{\\left(\\frac{2 m_{2} m_{3} - \\sqrt{- m_{1}^{4} + 2 m_{1}^{2} m_{2}^{2} + 2 m_{1}^{2} m_{3}^{2} - m_{2}^{4} + 2 m_{2}^{2} m_{3}^{2} - m_{3}^{4}}}{- m_{1}^{2} + m_{2}^{2} + m_{3}^{2}} \\right)} \\right)}}{m_{1}} \\right)} + 2 \\pi$"
          },
          "metadata": {}
        },
        {
          "output_type": "stream",
          "name": "stdout",
          "text": [
            "\n",
            "Symbolic expression for theta2:\n"
          ]
        },
        {
          "output_type": "display_data",
          "data": {
            "text/plain": [
              "2*atan((2*m2*m3 - sqrt(-m1**4 + 2*m1**2*m2**2 + 2*m1**2*m3**2 - m2**4 + 2*m2**2*m3**2 - m3**4))/(-m1**2 + m2**2 + m3**2))"
            ],
            "text/latex": "$\\displaystyle 2 \\operatorname{atan}{\\left(\\frac{2 m_{2} m_{3} - \\sqrt{- m_{1}^{4} + 2 m_{1}^{2} m_{2}^{2} + 2 m_{1}^{2} m_{3}^{2} - m_{2}^{4} + 2 m_{2}^{2} m_{3}^{2} - m_{3}^{4}}}{- m_{1}^{2} + m_{2}^{2} + m_{3}^{2}} \\right)}$"
          },
          "metadata": {}
        }
      ]
    },
    {
      "cell_type": "markdown",
      "metadata": {
        "id": "e91d3c8f"
      },
      "source": [
        "## Summary:\n",
        "\n",
        "### Data Analysis Key Findings\n",
        "\n",
        "*   The system of equations representing the static equilibrium was successfully defined based on vertical and horizontal force balances for each mass.\n",
        "*   SymPy's `solve` function was able to find a solution for the system of equations, providing symbolic expressions for the angles $\\theta_1$ and $\\theta_2$ and the tensions $T_1$ and $T_2$ in terms of the masses ($m_1$, $m_2$, $m_3$) and gravitational acceleration ($g$).\n",
        "*   The expressions for $\\theta_1$ and $\\theta_2$ are complex and involve inverse trigonometric functions, indicating that the angles depend non-linearly on the masses.\n",
        "*   The tensions were found to be directly proportional to the masses they support: $T_1 = m_1g$ and $T_2 = m_3g$.\n",
        "\n",
        "### Insights or Next Steps\n",
        "\n",
        "*   The symbolic solutions for $\\theta_1$ and $\\theta_2$ can be used to analyze how the equilibrium angles change with varying mass values.\n",
        "*   Further steps could involve substituting specific numerical values for the masses to calculate the concrete angle values or exploring the conditions under which real solutions for the angles exist.\n"
      ]
    }
  ]
}