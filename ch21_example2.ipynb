{
  "nbformat": 4,
  "nbformat_minor": 0,
  "metadata": {
    "colab": {
      "private_outputs": true,
      "provenance": [],
      "authorship_tag": "ABX9TyPFGNE9CzEviiAKMy/hH4MQ",
      "include_colab_link": true
    },
    "kernelspec": {
      "name": "python3",
      "display_name": "Python 3"
    },
    "language_info": {
      "name": "python"
    }
  },
  "cells": [
    {
      "cell_type": "markdown",
      "metadata": {
        "id": "view-in-github",
        "colab_type": "text"
      },
      "source": [
        "<a href=\"https://colab.research.google.com/github/twyeh/university-physics/blob/main/ch21_example2.ipynb\" target=\"_parent\"><img src=\"https://colab.research.google.com/assets/colab-badge.svg\" alt=\"Open In Colab\"/></a>"
      ]
    },
    {
      "cell_type": "markdown",
      "source": [
        "兩顆相距 2a 的電正電的粒子，皆帶電 +Q。求至兩粒子的距離皆為$\\sqrt{2}a$的點之電場。"
      ],
      "metadata": {
        "id": "KX6o0vVGg4Bh"
      }
    },
    {
      "source": [
        "import numpy as np\n",
        "\n",
        "# 定义常数\n",
        "Q = 1  # 电荷量 (可以使用任意单位，因为题目没有给出)\n",
        "a = 1  # 距离 a (可以使用任意单位)\n",
        "k = 8.98755e9  # 真空介电常数 (可以使用任意单位)\n",
        "\n",
        "# 定义电荷的位置\n",
        "charge1_pos = np.array([-a, 0, 0])  # 第一个电荷在 (-a, 0, 0)\n",
        "charge2_pos = np.array([a, 0, 0])   # 第二个电荷在 (a, 0, 0)\n",
        "\n",
        "# 定义我们要求电场的点的位置\n",
        "field_point = np.array([0, a, 0]) # 在 (0, a, 0)的点，距离两个电荷均为 sqrt(2)a\n",
        "\n",
        "# 计算电场\n",
        "def calculate_electric_field(charge_pos, field_point, charge_value):\n",
        "    r = field_point - charge_pos\n",
        "    r_mag = np.linalg.norm(r)\n",
        "    r_unit = r / r_mag\n",
        "    E_mag = k * charge_value / r_mag**2\n",
        "    E_vec = E_mag * r_unit\n",
        "    return E_vec\n",
        "\n",
        "E1 = calculate_electric_field(charge1_pos, field_point, Q)\n",
        "E2 = calculate_electric_field(charge2_pos, field_point, Q)\n",
        "\n",
        "# 总电场\n",
        "total_E = E1 + E2\n",
        "\n",
        "# 输出结果\n",
        "print(\"電場向量:\", total_E)\n",
        "print(\"電場強度:\", np.linalg.norm(total_E))"
      ],
      "cell_type": "code",
      "metadata": {
        "id": "iP7zqrySgxrg"
      },
      "execution_count": null,
      "outputs": []
    },
    {
      "cell_type": "markdown",
      "source": [],
      "metadata": {
        "id": "r1SzwuechnaQ"
      }
    },
    {
      "source": [
        "import numpy as np\n",
        "import matplotlib.pyplot as plt\n",
        "from mpl_toolkits.mplot3d import Axes3D"
      ],
      "cell_type": "code",
      "metadata": {
        "id": "cCyIl85ehpto"
      },
      "execution_count": null,
      "outputs": []
    },
    {
      "source": [
        "Q = 1\n",
        "a = 1\n",
        "k = 8.98755e9\n",
        "charge1_pos = np.array([-a, 0, 0])\n",
        "charge2_pos = np.array([a, 0, 0])"
      ],
      "cell_type": "code",
      "metadata": {
        "id": "VHBgyjJChqXf"
      },
      "execution_count": null,
      "outputs": []
    },
    {
      "source": [
        "x = np.linspace(-3*a, 3*a, 20)\n",
        "y = np.linspace(-3*a, 3*a, 20)\n",
        "z = np.linspace(-3*a, 3*a, 20)\n",
        "x, y, z = np.meshgrid(x, y, z)"
      ],
      "cell_type": "code",
      "metadata": {
        "id": "OPp-nNkchrAn"
      },
      "execution_count": null,
      "outputs": []
    },
    {
      "source": [
        "def calculate_electric_field(charge_pos, field_point, charge_value):\n",
        "        r = field_point - charge_pos\n",
        "        r_mag = np.linalg.norm(r)\n",
        "        r_unit = r / r_mag\n",
        "        E_mag = k * charge_value / r_mag**2\n",
        "        E_vec = E_mag * r_unit\n",
        "        return E_vec"
      ],
      "cell_type": "code",
      "metadata": {
        "id": "OqNm-S6xhryo"
      },
      "execution_count": null,
      "outputs": []
    },
    {
      "source": [
        "Ex, Ey, Ez = np.zeros_like(x), np.zeros_like(y), np.zeros_like(z)\n",
        "for i in range(x.shape[0]):\n",
        "  for j in range(x.shape[1]):\n",
        "    for k_ in range(x.shape[2]):\n",
        "      field_point = np.array([x[i,j,k_], y[i,j,k_], z[i,j,k_]])\n",
        "      E1 = calculate_electric_field(charge1_pos, field_point, Q)\n",
        "      E2 = calculate_electric_field(charge2_pos, field_point, Q)\n",
        "      total_E = E1 + E2\n",
        "      Ex[i,j,k_] = total_E[0]\n",
        "      Ey[i,j,k_] = total_E[1]\n",
        "      Ez[i,j,k_] = total_E[2]"
      ],
      "cell_type": "code",
      "metadata": {
        "id": "ieuGgahshspn"
      },
      "execution_count": null,
      "outputs": []
    },
    {
      "source": [
        "fig = plt.figure(figsize=(10,10))\n",
        "ax = fig.add_subplot(111, projection='3d')\n",
        "ax.quiver(x, y, z, Ex, Ey, Ez, length=0.2, normalize=True)\n",
        "ax.set_xlabel('x')\n",
        "ax.set_ylabel('y')\n",
        "ax.set_zlabel('z')\n",
        "ax.set_title('3D Electric Field Distribution')\n",
        "plt.show()"
      ],
      "cell_type": "code",
      "metadata": {
        "id": "QKcWbi4shtip"
      },
      "execution_count": null,
      "outputs": []
    }
  ]
}