{
  "nbformat": 4,
  "nbformat_minor": 0,
  "metadata": {
    "colab": {
      "provenance": [],
      "authorship_tag": "ABX9TyN1S8xtOoJ8DQd91c8LfA4Y",
      "include_colab_link": true
    },
    "kernelspec": {
      "name": "python3",
      "display_name": "Python 3"
    },
    "language_info": {
      "name": "python"
    }
  },
  "cells": [
    {
      "cell_type": "markdown",
      "metadata": {
        "id": "view-in-github",
        "colab_type": "text"
      },
      "source": [
        "<a href=\"https://colab.research.google.com/github/twyeh/university-physics/blob/main/Free_Fall_in_Air.ipynb\" target=\"_parent\"><img src=\"https://colab.research.google.com/assets/colab-badge.svg\" alt=\"Open In Colab\"/></a>"
      ]
    },
    {
      "cell_type": "markdown",
      "source": [
        "讓物體在空氣中進行自由落體時，物體將受到重力及空氣阻力。根據重力模型 $$\\vec{F}_W=-mg\\hat{j}$$ 及空氣阻力模型 $$\\vec{F}_{air}=+\\frac{1}{2}{\\rho}CA v^2 \\hat{j}$$ 則物體的淨外作用力的合力為(當取$\\hat{j}$為參考方向及以y軸為座標。) $$\\vec{F}=ma\\hat{j}=-mg\\hat{j}+\\frac{1}{2}{\\rho}CAv^2 \\hat{j}$$\n",
        "\n",
        "可推論運動方程式為\n",
        "\n",
        "$$\\frac{dv}{dt}=\\frac{{\\rho}CA}{2m}{v^2}-g{\\equiv}bv^2-g$$\n",
        "上述稱為$v$的一次微分方程式:$$\\frac{dv}{bv^2-g}=dt$$\n",
        "\n",
        "當 速度不再變化時，\n",
        "$$\\frac{dv}{dt}=0$$\n",
        "我們稱這時的速度為終端速度 $v=v_T$\n",
        "$$\n",
        "\\frac{dv_T}{dt}=bv_T^2-g=0\n",
        "$$\n",
        "可以推論得到\n",
        "$$\n",
        "v_T=\\sqrt{\\frac{g}{b}}\n",
        "$$\n",
        "上述微分方程式可改寫成:\n",
        "$$\\frac{dv}{v^2-v^2_T}=dt$$\n",
        "利用\n",
        "$$\n",
        "\\frac{1}{v^2-v_T^2}=-\\frac{1}{2v_T}(\\frac{1}{v+v_T}-\\frac{1}{v-v_T})\n",
        "$$\n",
        "微分方程式可以改寫成\n",
        "$$\\frac{dv}{v+v_T}-\\frac{dv}{v-v_T}= - 2v_T dt$$\n",
        "將兩邊進行積分\n",
        "$$\n",
        "\\int_0^v\\frac{dv}{v+v_T}-\\int_0^v\\frac{dv}{v - v_T}=-2v_T\\int_0^t dt\n",
        "$$\n",
        "參考積分公式\n",
        "$$\n",
        "\\ln(\\frac{v+v_T}{v_T})-\\ln(\\frac{v+v_T}{-v_T})=-2v_T t\n",
        "$$\n",
        "整理公式\n",
        "$$\n",
        "\\ln(\\frac{(v+v_T)/v_T}{(v-v_T)/(-v_T)})=-2v_T t\n",
        "$$\n",
        "\n",
        "$$\n",
        "\\ln(\\frac{v+v_T}{v_T-v})=-2v_T t\n",
        "$$\n",
        "利用函數 $\\ln$ 的反函數 $\\exp$，將兩邊各作用 $\\exp$\n",
        "\n",
        "$$\n",
        "\\exp (\\ln(\\frac{v+v_T}{v_T-v}))=\\frac{v+v_T}{v_T-v}=\\exp(-2vT t)\n",
        "$$\n",
        "\n",
        "$$\n",
        "(v+v_T)=(v_T-v)\\exp(-2v_T t)\n",
        "$$\n",
        "$$\n",
        "v(t)=v_T\\frac{\\exp(-2v_T t)-1}{1+\\exp(-2v_T t)}\n",
        "$$"
      ],
      "metadata": {
        "id": "xEOm_Wg_qHmB"
      }
    },
    {
      "cell_type": "markdown",
      "source": [
        "以下我們展示如何利用 sympy 幫我們解微分方程式，"
      ],
      "metadata": {
        "id": "P2Ir-GoCLF2e"
      }
    },
    {
      "cell_type": "markdown",
      "source": [],
      "metadata": {
        "id": "ebSoRQFQJN0O"
      }
    },
    {
      "cell_type": "markdown",
      "source": [
        "參考資料\n",
        "[sympy ode solver](https://docs.sympy.org/latest/modules/solvers/ode.html/)"
      ],
      "metadata": {
        "id": "wJl1BJ0NqJ7o"
      }
    },
    {
      "cell_type": "code",
      "execution_count": null,
      "metadata": {
        "id": "vIOpArs8qB3M"
      },
      "outputs": [],
      "source": [
        "import sympy as smp"
      ]
    },
    {
      "cell_type": "code",
      "source": [
        "b,v,g,t=smp.symbols('b v g t')"
      ],
      "metadata": {
        "id": "RHgQ_6PUwYnh"
      },
      "execution_count": null,
      "outputs": []
    },
    {
      "cell_type": "code",
      "source": [
        "v= smp.Function(\"v\")(t)"
      ],
      "metadata": {
        "id": "8rZjjiFThbfT"
      },
      "execution_count": null,
      "outputs": []
    },
    {
      "cell_type": "markdown",
      "source": [
        "參考 [sympy.solvers.ode.dsolve](https://docs.sympy.org/latest/modules/solvers/ode.html)"
      ],
      "metadata": {
        "id": "JN1BaV_meHbp"
      }
    },
    {
      "cell_type": "code",
      "source": [
        "eq = smp.Eq(smp.Derivative(v, t), (b * v**2 - g))"
      ],
      "metadata": {
        "id": "9bMbYDbsevcp"
      },
      "execution_count": null,
      "outputs": []
    },
    {
      "cell_type": "code",
      "source": [
        "sol=smp.solvers.ode.dsolve(eq, ics={v.subs(t, 0): 0})"
      ],
      "metadata": {
        "id": "FLUDqVHqxTjZ"
      },
      "execution_count": null,
      "outputs": []
    },
    {
      "cell_type": "code",
      "source": [
        "smp.simplify(sol)"
      ],
      "metadata": {
        "colab": {
          "base_uri": "https://localhost:8080/",
          "height": 66
        },
        "id": "hMKADKRDiBta",
        "outputId": "0fcefa06-52ca-4abb-9b9b-0470102f421f"
      },
      "execution_count": null,
      "outputs": [
        {
          "output_type": "execute_result",
          "data": {
            "text/plain": [
              "Eq(sqrt(1/(b*g))*(-log(-g*sqrt(1/(b*g))) + log(g*sqrt(1/(b*g))))/2, t - sqrt(1/(b*g))*log(-g*sqrt(1/(b*g)) + v(t))/2 + sqrt(1/(b*g))*log(g*sqrt(1/(b*g)) + v(t))/2)"
            ],
            "text/latex": "$\\displaystyle \\frac{\\sqrt{\\frac{1}{b g}} \\left(- \\log{\\left(- g \\sqrt{\\frac{1}{b g}} \\right)} + \\log{\\left(g \\sqrt{\\frac{1}{b g}} \\right)}\\right)}{2} = t - \\frac{\\sqrt{\\frac{1}{b g}} \\log{\\left(- g \\sqrt{\\frac{1}{b g}} + v{\\left(t \\right)} \\right)}}{2} + \\frac{\\sqrt{\\frac{1}{b g}} \\log{\\left(g \\sqrt{\\frac{1}{b g}} + v{\\left(t \\right)} \\right)}}{2}$"
          },
          "metadata": {},
          "execution_count": 19
        }
      ]
    }
  ]
}