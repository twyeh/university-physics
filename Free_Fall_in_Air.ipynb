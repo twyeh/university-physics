{
  "nbformat": 4,
  "nbformat_minor": 0,
  "metadata": {
    "colab": {
      "provenance": [],
      "authorship_tag": "ABX9TyPOF7p38H3VJAuQJCXdZBLI",
      "include_colab_link": true
    },
    "kernelspec": {
      "name": "python3",
      "display_name": "Python 3"
    },
    "language_info": {
      "name": "python"
    }
  },
  "cells": [
    {
      "cell_type": "markdown",
      "metadata": {
        "id": "view-in-github",
        "colab_type": "text"
      },
      "source": [
        "<a href=\"https://colab.research.google.com/github/twyeh/university-physics/blob/main/Free_Fall_in_Air.ipynb\" target=\"_parent\"><img src=\"https://colab.research.google.com/assets/colab-badge.svg\" alt=\"Open In Colab\"/></a>"
      ]
    },
    {
      "cell_type": "markdown",
      "source": [
        "讓物體在空氣中進行自由落體時，物體將受到重力及空氣阻力。根據重力模型 $$\\vec{F}_W=-mg\\hat{j}$$ 及空氣阻力模型 $$\\vec{F}_{air}=+\\frac{1}{2}{\\rho}CA v^2 \\hat{j}$$ 則物體的淨外作用力的合力為(當取$\\hat{j}$為參考方向及以y軸為座標。) $$\\vec{F}=ma\\hat{j}=-mg\\hat{j}+\\frac{1}{2}{\\rho}CAv^2 \\hat{j}$$\n",
        "\n",
        "可推論運動方程式為$$\\frac{dv}{dt}=\\frac{{\\rho}CA}{2m}{v^2}-g{\\equiv}bv^2-g$$\n",
        "上述稱為$v$的一次微分方程式:$$\\frac{dv}{bv^2-g}=dt$$\n"
      ],
      "metadata": {
        "id": "xEOm_Wg_qHmB"
      }
    },
    {
      "cell_type": "markdown",
      "source": [
        "參考資料\n",
        "[sympy ode solver](https://docs.sympy.org/latest/modules/solvers/ode.html/)"
      ],
      "metadata": {
        "id": "wJl1BJ0NqJ7o"
      }
    },
    {
      "cell_type": "code",
      "execution_count": 1,
      "metadata": {
        "id": "vIOpArs8qB3M"
      },
      "outputs": [],
      "source": [
        "import sympy as smp"
      ]
    },
    {
      "cell_type": "code",
      "source": [
        "b,v,g,t=smp.symbols('b v g t')"
      ],
      "metadata": {
        "id": "RHgQ_6PUwYnh"
      },
      "execution_count": 2,
      "outputs": []
    },
    {
      "cell_type": "code",
      "source": [
        "v= smp.Function(\"v\")(t)"
      ],
      "metadata": {
        "id": "8rZjjiFThbfT"
      },
      "execution_count": 14,
      "outputs": []
    },
    {
      "cell_type": "markdown",
      "source": [
        "參考 [sympy.solvers.ode.dsolve](https://docs.sympy.org/latest/modules/solvers/ode.html)"
      ],
      "metadata": {
        "id": "JN1BaV_meHbp"
      }
    },
    {
      "cell_type": "code",
      "source": [
        "eq = smp.Eq(smp.Derivative(v, t), (b * v**2 - g))"
      ],
      "metadata": {
        "id": "9bMbYDbsevcp"
      },
      "execution_count": 15,
      "outputs": []
    },
    {
      "cell_type": "code",
      "source": [
        "sol=smp.solvers.ode.dsolve(eq, ics={v.subs(t, 0): 0})"
      ],
      "metadata": {
        "id": "FLUDqVHqxTjZ"
      },
      "execution_count": 18,
      "outputs": []
    },
    {
      "cell_type": "code",
      "source": [
        "smp.simplify(sol)"
      ],
      "metadata": {
        "colab": {
          "base_uri": "https://localhost:8080/",
          "height": 66
        },
        "id": "hMKADKRDiBta",
        "outputId": "0fcefa06-52ca-4abb-9b9b-0470102f421f"
      },
      "execution_count": 19,
      "outputs": [
        {
          "output_type": "execute_result",
          "data": {
            "text/plain": [
              "Eq(sqrt(1/(b*g))*(-log(-g*sqrt(1/(b*g))) + log(g*sqrt(1/(b*g))))/2, t - sqrt(1/(b*g))*log(-g*sqrt(1/(b*g)) + v(t))/2 + sqrt(1/(b*g))*log(g*sqrt(1/(b*g)) + v(t))/2)"
            ],
            "text/latex": "$\\displaystyle \\frac{\\sqrt{\\frac{1}{b g}} \\left(- \\log{\\left(- g \\sqrt{\\frac{1}{b g}} \\right)} + \\log{\\left(g \\sqrt{\\frac{1}{b g}} \\right)}\\right)}{2} = t - \\frac{\\sqrt{\\frac{1}{b g}} \\log{\\left(- g \\sqrt{\\frac{1}{b g}} + v{\\left(t \\right)} \\right)}}{2} + \\frac{\\sqrt{\\frac{1}{b g}} \\log{\\left(g \\sqrt{\\frac{1}{b g}} + v{\\left(t \\right)} \\right)}}{2}$"
          },
          "metadata": {},
          "execution_count": 19
        }
      ]
    }
  ]
}