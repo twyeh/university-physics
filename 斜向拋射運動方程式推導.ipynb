{
  "nbformat": 4,
  "nbformat_minor": 0,
  "metadata": {
    "colab": {
      "provenance": [],
      "authorship_tag": "ABX9TyN4fSIikbY2/TyOXGLhXC8v",
      "include_colab_link": true
    },
    "kernelspec": {
      "name": "python3",
      "display_name": "Python 3"
    },
    "language_info": {
      "name": "python"
    }
  },
  "cells": [
    {
      "cell_type": "markdown",
      "metadata": {
        "id": "view-in-github",
        "colab_type": "text"
      },
      "source": [
        "<a href=\"https://colab.research.google.com/github/twyeh/university-physics/blob/main/%E6%96%9C%E5%90%91%E6%8B%8B%E5%B0%84%E9%81%8B%E5%8B%95%E6%96%B9%E7%A8%8B%E5%BC%8F%E6%8E%A8%E5%B0%8E.ipynb\" target=\"_parent\"><img src=\"https://colab.research.google.com/assets/colab-badge.svg\" alt=\"Open In Colab\"/></a>"
      ]
    },
    {
      "cell_type": "code",
      "execution_count": null,
      "metadata": {
        "id": "4gWIo-4Wp-G5"
      },
      "outputs": [],
      "source": []
    },
    {
      "cell_type": "markdown",
      "metadata": {
        "id": "d28f153a"
      },
      "source": [
        "## 代入初始條件\n",
        "\n",
        "### Subtask:\n",
        "將初始條件（例如 $t=0$ 時的速度和位置）代入速度向量和位置向量的表達式中，解出積分常數。"
      ]
    },
    {
      "cell_type": "markdown",
      "metadata": {
        "id": "9d59b224"
      },
      "source": [
        "## 整理結果\n",
        "\n",
        "### Subtask:\n",
        "將解出的積分常數代回速度向量和位置向量的表達式中，得到最終的速度向量和位置向量的符號表達式。"
      ]
    },
    {
      "cell_type": "markdown",
      "metadata": {
        "id": "3a61fae1"
      },
      "source": [
        "**Reasoning**:\n",
        "The previous subtask confirmed that the integration constants have already been incorporated into the expressions for the velocity vector `v` and the position vector `r_t`. Therefore, the current expressions for `v` and `r_t` are the final symbolic expressions. To verify this, I will display them again."
      ]
    },
    {
      "cell_type": "code",
      "metadata": {
        "colab": {
          "base_uri": "https://localhost:8080/",
          "height": 102
        },
        "id": "74dff5b9",
        "outputId": "389db5fb-87a3-474e-91e5-a5b0a807999d"
      },
      "source": [
        "display(v)\n",
        "display(r_t)"
      ],
      "execution_count": 12,
      "outputs": [
        {
          "output_type": "display_data",
          "data": {
            "text/plain": [
              "Matrix([\n",
              "[       v0*cos(theta)],\n",
              "[-g*t + v0*sin(theta)]])"
            ],
            "text/latex": "$\\displaystyle \\left[\\begin{matrix}v_{0} \\cos{\\left(\\theta \\right)}\\\\- g t + v_{0} \\sin{\\left(\\theta \\right)}\\end{matrix}\\right]$"
          },
          "metadata": {}
        },
        {
          "output_type": "display_data",
          "data": {
            "text/plain": [
              "Matrix([\n",
              "[            t*v0*cos(theta)],\n",
              "[-g*t**2/2 + t*v0*sin(theta)]])"
            ],
            "text/latex": "$\\displaystyle \\left[\\begin{matrix}t v_{0} \\cos{\\left(\\theta \\right)}\\\\- \\frac{g t^{2}}{2} + t v_{0} \\sin{\\left(\\theta \\right)}\\end{matrix}\\right]$"
          },
          "metadata": {}
        }
      ]
    },
    {
      "cell_type": "markdown",
      "metadata": {
        "id": "c499eaea"
      },
      "source": [
        "## Summary:\n",
        "\n",
        "### Data Analysis Key Findings\n",
        "\n",
        "* The acceleration vector for projectile motion (without air resistance) is defined as $\\begin{pmatrix} 0 \\\\ -g \\end{pmatrix}$.\n",
        "* Integrating the acceleration vector with respect to time and adding the initial velocity vector $\\begin{pmatrix} v_0 \\cos(\\theta) \\\\ v_0 \\sin(\\theta) \\end{pmatrix}$ results in the velocity vector $\\vec{v} = \\begin{pmatrix} v_0 \\cos(\\theta) \\\\ -gt + v_0 \\sin(\\theta) \\end{pmatrix}$.\n",
        "* Integrating the velocity vector with respect to time and assuming the initial position is the origin results in the position vector $\\vec{r}(t) = \\begin{pmatrix} t v_0 \\cos(\\theta) \\\\ -\\frac{1}{2} g t^2 + t v_0 \\sin(\\theta) \\end{pmatrix}$.\n",
        "* The integration constants were determined by the initial velocity and assuming the initial position is the origin.\n",
        "\n",
        "### Insights or Next Steps\n",
        "\n",
        "* These symbolic expressions for velocity and position can be used to derive other kinematic equations of projectile motion, such as the trajectory equation or time of flight.\n",
        "* Further analysis could involve substituting specific values for $g$, $v_0$, and $\\theta$ to calculate numerical values for velocity and position at different times."
      ]
    },
    {
      "cell_type": "markdown",
      "metadata": {
        "id": "0122822e"
      },
      "source": [
        "# Task\n",
        "使用 SymPy 推導斜向拋射運動的運動軌跡方程式。"
      ]
    },
    {
      "cell_type": "markdown",
      "metadata": {
        "id": "cc379fc2"
      },
      "source": [
        "## 提取位置向量的分量\n",
        "\n",
        "### Subtask:\n",
        "從位置向量 $\\vec{r}(t) = \\begin{pmatrix} x(t) \\\\ y(t) \\end{pmatrix}$ 中提取出水平方向的 $x(t)$ 和垂直方向的 $y(t)$ 表達式。\n"
      ]
    },
    {
      "cell_type": "markdown",
      "metadata": {
        "id": "ed68638f"
      },
      "source": [
        "**Reasoning**:\n",
        "Extract the horizontal and vertical components from the position vector `r_t`.\n",
        "\n"
      ]
    },
    {
      "cell_type": "code",
      "metadata": {
        "colab": {
          "base_uri": "https://localhost:8080/",
          "height": 75
        },
        "id": "3da66369",
        "outputId": "1fa917d1-0863-4d39-d4f8-c38828f0cb2a"
      },
      "source": [
        "x_t = r_t[0]\n",
        "y_t = r_t[1]\n",
        "display(x_t)\n",
        "display(y_t)"
      ],
      "execution_count": 13,
      "outputs": [
        {
          "output_type": "display_data",
          "data": {
            "text/plain": [
              "t*v0*cos(theta)"
            ],
            "text/latex": "$\\displaystyle t v_{0} \\cos{\\left(\\theta \\right)}$"
          },
          "metadata": {}
        },
        {
          "output_type": "display_data",
          "data": {
            "text/plain": [
              "-g*t**2/2 + t*v0*sin(theta)"
            ],
            "text/latex": "$\\displaystyle - \\frac{g t^{2}}{2} + t v_{0} \\sin{\\left(\\theta \\right)}$"
          },
          "metadata": {}
        }
      ]
    },
    {
      "cell_type": "markdown",
      "metadata": {
        "id": "8d11cc27"
      },
      "source": [
        "## 從 x(t) 中解出時間 t\n",
        "\n",
        "### Subtask:\n",
        "利用水平方向的運動方程式 $x(t)$，將時間 $t$ 以 $x$, $v_0$, 和 $\theta$ 表示出來。\n"
      ]
    },
    {
      "cell_type": "markdown",
      "metadata": {
        "id": "5d36151c"
      },
      "source": [
        "**Reasoning**:\n",
        "To express time $t$ in terms of $x$, $v_0$, and $\\theta$, I will use SymPy's `solve` function on the horizontal position equation `x_t`.\n",
        "\n"
      ]
    },
    {
      "cell_type": "code",
      "metadata": {
        "colab": {
          "base_uri": "https://localhost:8080/",
          "height": 52
        },
        "id": "A1yQ6_7Srz1T",
        "outputId": "abbb93a6-5ef3-45c7-ed7e-6338c17017d1"
      },
      "source": [
        "from sympy import symbols, solve\n",
        "\n",
        "x, t = symbols('x t')\n",
        "t_expr = solve(x_t - x, t)[0]\n",
        "display(t_expr)"
      ],
      "execution_count": 15,
      "outputs": [
        {
          "output_type": "display_data",
          "data": {
            "text/plain": [
              "x/(v0*cos(theta))"
            ],
            "text/latex": "$\\displaystyle \\frac{x}{v_{0} \\cos{\\left(\\theta \\right)}}$"
          },
          "metadata": {}
        }
      ]
    },
    {
      "cell_type": "markdown",
      "metadata": {
        "id": "8f21c48a"
      },
      "source": [
        "## 將 t 代入 y(t)\n",
        "\n",
        "### Subtask:\n",
        "將從 $x(t)$ 中解出的時間 $t$ 的表達式代入垂直方向的運動方程式 $y(t)$ 中。\n"
      ]
    },
    {
      "cell_type": "markdown",
      "metadata": {
        "id": "8220af2f"
      },
      "source": [
        "**Reasoning**:\n",
        "Substitute the expression for t into the expression for y_t and display the result.\n",
        "\n"
      ]
    },
    {
      "cell_type": "code",
      "metadata": {
        "colab": {
          "base_uri": "https://localhost:8080/",
          "height": 58
        },
        "id": "7409d1cd",
        "outputId": "de6040a9-b9f1-4309-bc7e-4dd890bcdd2a"
      },
      "source": [
        "y_x = y_t.subs(t, t_expr)\n",
        "display(y_x)"
      ],
      "execution_count": 16,
      "outputs": [
        {
          "output_type": "display_data",
          "data": {
            "text/plain": [
              "-g*x**2/(2*v0**2*cos(theta)**2) + x*sin(theta)/cos(theta)"
            ],
            "text/latex": "$\\displaystyle - \\frac{g x^{2}}{2 v_{0}^{2} \\cos^{2}{\\left(\\theta \\right)}} + \\frac{x \\sin{\\left(\\theta \\right)}}{\\cos{\\left(\\theta \\right)}}$"
          },
          "metadata": {}
        }
      ]
    },
    {
      "cell_type": "markdown",
      "metadata": {
        "id": "ae4ba750"
      },
      "source": [
        "## 整理方程式\n",
        "\n",
        "### Subtask:\n",
        "整理代入後的方程式，得到 $y$ 與 $x$ 的關係式，這就是運動軌跡方程式。\n"
      ]
    },
    {
      "cell_type": "markdown",
      "metadata": {
        "id": "7816cd15"
      },
      "source": [
        "**Reasoning**:\n",
        "Use the SymPy function `simplify` to simplify the expression `y_x` and display the result.\n",
        "\n"
      ]
    },
    {
      "cell_type": "code",
      "metadata": {
        "colab": {
          "base_uri": "https://localhost:8080/",
          "height": 58
        },
        "id": "f822eccd",
        "outputId": "3459272a-750f-48d4-af74-5935504ca169"
      },
      "source": [
        "from sympy import simplify\n",
        "y_x_simplified = simplify(y_x)\n",
        "display(y_x_simplified)"
      ],
      "execution_count": 17,
      "outputs": [
        {
          "output_type": "display_data",
          "data": {
            "text/plain": [
              "-g*x**2/(2*v0**2*cos(theta)**2) + x*tan(theta)"
            ],
            "text/latex": "$\\displaystyle - \\frac{g x^{2}}{2 v_{0}^{2} \\cos^{2}{\\left(\\theta \\right)}} + x \\tan{\\left(\\theta \\right)}$"
          },
          "metadata": {}
        }
      ]
    },
    {
      "cell_type": "markdown",
      "metadata": {
        "id": "07cb9f90"
      },
      "source": [
        "## Summary:\n",
        "\n",
        "### Data Analysis Key Findings\n",
        "\n",
        "*   The horizontal component of the position vector was found to be $x(t) = t \\cdot v_0 \\cdot \\cos(\\theta)$.\n",
        "*   The vertical component of the position vector was found to be $y(t) = -\\frac{1}{2}gt^2 + t \\cdot v_0 \\cdot \\sin(\\theta)$.\n",
        "*   By solving the horizontal motion equation for time $t$, the expression $t = \\frac{x}{v_0 \\cos(\\theta)}$ was obtained.\n",
        "*   Substituting the expression for $t$ into the vertical motion equation resulted in the trajectory equation $y(x) = -\\frac{g x^2}{2 v_0^2 \\cos^2(\\theta)} + x \\tan(\\theta)$, which represents a parabolic trajectory.\n",
        "\n",
        "### Insights or Next Steps\n",
        "\n",
        "*   The derived trajectory equation is a fundamental result in projectile motion, showing the parabolic path of the projectile.\n",
        "*   This derived equation can be used to analyze various aspects of projectile motion, such as maximum height, range, and time of flight, by setting appropriate conditions for $y(x)$ and $x$.\n"
      ]
    },
    {
      "cell_type": "markdown",
      "metadata": {
        "id": "c51ef0e8"
      },
      "source": [
        "# Task\n",
        "使用 SymPy 計算斜向拋射運動中質點的最大高度和水平射程。"
      ]
    },
    {
      "cell_type": "markdown",
      "metadata": {
        "id": "146ca02a"
      },
      "source": [
        "## 找到最大高度時的 x 座標\n",
        "\n",
        "### Subtask:\n",
        "運動軌跡是一個拋物線，最大高度發生在拋物線的頂點。可以通過對運動軌跡方程式 $y(x)$ 求導並令其等於零來找到頂點的 x 座標。\n"
      ]
    },
    {
      "cell_type": "markdown",
      "metadata": {
        "id": "9659ed7f"
      },
      "source": [
        "**Reasoning**:\n",
        "I will calculate the derivative of the trajectory equation with respect to x and solve for x when the derivative is equal to zero to find the x-coordinate at the maximum height.\n",
        "\n"
      ]
    },
    {
      "cell_type": "code",
      "metadata": {
        "colab": {
          "base_uri": "https://localhost:8080/",
          "height": 57
        },
        "id": "0e19989d",
        "outputId": "5d9bc47d-85b4-43dd-b402-2980d07b05ea"
      },
      "source": [
        "from sympy import diff, solve\n",
        "\n",
        "dy_dx = diff(y_x_simplified, x)\n",
        "x_at_max_height = solve(dy_dx, x)[0]\n",
        "display(x_at_max_height)"
      ],
      "execution_count": 18,
      "outputs": [
        {
          "output_type": "display_data",
          "data": {
            "text/plain": [
              "v0**2*sin(2*theta)/(2*g)"
            ],
            "text/latex": "$\\displaystyle \\frac{v_{0}^{2} \\sin{\\left(2 \\theta \\right)}}{2 g}$"
          },
          "metadata": {}
        }
      ]
    },
    {
      "cell_type": "markdown",
      "metadata": {
        "id": "0aa02733"
      },
      "source": [
        "## 將 x 座標代入 y(x)\n",
        "\n",
        "### Subtask:\n",
        "將求得的頂點 x 座標代入運動軌跡方程式 $y(x)$ 中，計算出最大高度。\n"
      ]
    },
    {
      "cell_type": "markdown",
      "metadata": {
        "id": "3ab36a75"
      },
      "source": [
        "**Reasoning**:\n",
        "Substitute the x-coordinate at maximum height into the trajectory equation to find the maximum height and display the result.\n",
        "\n"
      ]
    },
    {
      "cell_type": "code",
      "metadata": {
        "colab": {
          "base_uri": "https://localhost:8080/",
          "height": 59
        },
        "id": "4efd1c81",
        "outputId": "fbd3d841-c060-4ff4-f746-ae55aaae0a54"
      },
      "source": [
        "max_height = y_x_simplified.subs(x, x_at_max_height)\n",
        "display(max_height)"
      ],
      "execution_count": 19,
      "outputs": [
        {
          "output_type": "display_data",
          "data": {
            "text/plain": [
              "-v0**2*sin(2*theta)**2/(8*g*cos(theta)**2) + v0**2*sin(2*theta)*tan(theta)/(2*g)"
            ],
            "text/latex": "$\\displaystyle - \\frac{v_{0}^{2} \\sin^{2}{\\left(2 \\theta \\right)}}{8 g \\cos^{2}{\\left(\\theta \\right)}} + \\frac{v_{0}^{2} \\sin{\\left(2 \\theta \\right)} \\tan{\\left(\\theta \\right)}}{2 g}$"
          },
          "metadata": {}
        }
      ]
    },
    {
      "cell_type": "markdown",
      "metadata": {
        "id": "6315b183"
      },
      "source": [
        "**Reasoning**:\n",
        "Simplify the expression for maximum height and display the simplified result.\n",
        "\n"
      ]
    },
    {
      "cell_type": "code",
      "metadata": {
        "colab": {
          "base_uri": "https://localhost:8080/",
          "height": 58
        },
        "id": "befbcb08",
        "outputId": "c8dd0c4a-e74e-48b0-ab08-ab1908606229"
      },
      "source": [
        "max_height_simplified = simplify(max_height)\n",
        "display(max_height_simplified)"
      ],
      "execution_count": 20,
      "outputs": [
        {
          "output_type": "display_data",
          "data": {
            "text/plain": [
              "v0**2*sin(theta)**2/(2*g)"
            ],
            "text/latex": "$\\displaystyle \\frac{v_{0}^{2} \\sin^{2}{\\left(\\theta \\right)}}{2 g}$"
          },
          "metadata": {}
        }
      ]
    },
    {
      "cell_type": "markdown",
      "metadata": {
        "id": "ac50adc4"
      },
      "source": [
        "## 找到水平射程時的 x 座標\n",
        "\n",
        "### Subtask:\n",
        "找到水平射程時的 x 座標：水平射程是指質點從起始點落回與起始點相同高度的水平面時的水平距離。這發生在運動軌跡方程式 $y(x) = 0$ 的時候（除了起始點 x=0）。\n"
      ]
    },
    {
      "cell_type": "markdown",
      "metadata": {
        "id": "3cb6079f"
      },
      "source": [
        "**Reasoning**:\n",
        "To find the horizontal range, I need to solve the trajectory equation y(x) = 0 for x. SymPy's `solve` function can be used for this purpose. The horizontal range will be the non-zero solution for x.\n",
        "\n"
      ]
    },
    {
      "cell_type": "code",
      "metadata": {
        "colab": {
          "base_uri": "https://localhost:8080/",
          "height": 34
        },
        "id": "a0002188",
        "outputId": "9e45adc4-5dde-4437-9168-2776797b817d"
      },
      "source": [
        "range_solutions = solve(y_x_simplified, x)\n",
        "display(range_solutions)"
      ],
      "execution_count": 21,
      "outputs": [
        {
          "output_type": "display_data",
          "data": {
            "text/plain": [
              "[0, v0**2*sin(2*theta)/g]"
            ]
          },
          "metadata": {}
        }
      ]
    },
    {
      "cell_type": "markdown",
      "metadata": {
        "id": "1142f94d"
      },
      "source": [
        "**Reasoning**:\n",
        "The `solve` function returned two solutions for x when y(x) = 0: 0 and `v0**2*sin(2*theta)/g`. The horizontal range is the non-zero solution, which is the second element in the list. I will assign this value to a variable and display it.\n",
        "\n"
      ]
    },
    {
      "cell_type": "code",
      "metadata": {
        "colab": {
          "base_uri": "https://localhost:8080/",
          "height": 57
        },
        "id": "6532db71",
        "outputId": "42d83bee-fd19-4534-b55f-d715c7bf80e5"
      },
      "source": [
        "horizontal_range = range_solutions[1]\n",
        "display(horizontal_range)"
      ],
      "execution_count": 22,
      "outputs": [
        {
          "output_type": "display_data",
          "data": {
            "text/plain": [
              "v0**2*sin(2*theta)/g"
            ],
            "text/latex": "$\\displaystyle \\frac{v_{0}^{2} \\sin{\\left(2 \\theta \\right)}}{g}$"
          },
          "metadata": {}
        }
      ]
    },
    {
      "cell_type": "markdown",
      "metadata": {
        "id": "f84bbb93"
      },
      "source": [
        "## 整理結果\n",
        "\n",
        "### Subtask:\n",
        "將計算出的最大高度和水平射程以清晰易懂的方式呈現出來。\n"
      ]
    },
    {
      "cell_type": "markdown",
      "metadata": {
        "id": "9331e5a5"
      },
      "source": [
        "**Reasoning**:\n",
        "Create SymPy equations for maximum height and horizontal range and display them.\n",
        "\n"
      ]
    },
    {
      "cell_type": "code",
      "metadata": {
        "colab": {
          "base_uri": "https://localhost:8080/",
          "height": 98
        },
        "id": "c7e25f3d",
        "outputId": "61e2c3a0-996b-40f4-cdd5-2e533290c390"
      },
      "source": [
        "from sympy import Eq\n",
        "\n",
        "max_height_eq = Eq(symbols('H_max'), max_height_simplified)\n",
        "horizontal_range_eq = Eq(symbols('R'), horizontal_range)\n",
        "\n",
        "display(max_height_eq)\n",
        "display(horizontal_range_eq)"
      ],
      "execution_count": 23,
      "outputs": [
        {
          "output_type": "display_data",
          "data": {
            "text/plain": [
              "Eq(H_max, v0**2*sin(theta)**2/(2*g))"
            ],
            "text/latex": "$\\displaystyle H_{max} = \\frac{v_{0}^{2} \\sin^{2}{\\left(\\theta \\right)}}{2 g}$"
          },
          "metadata": {}
        },
        {
          "output_type": "display_data",
          "data": {
            "text/plain": [
              "Eq(R, v0**2*sin(2*theta)/g)"
            ],
            "text/latex": "$\\displaystyle R = \\frac{v_{0}^{2} \\sin{\\left(2 \\theta \\right)}}{g}$"
          },
          "metadata": {}
        }
      ]
    },
    {
      "cell_type": "markdown",
      "metadata": {
        "id": "a84c86cd"
      },
      "source": [
        "## Summary:\n",
        "\n",
        "### Data Analysis Key Findings\n",
        "\n",
        "*   The maximum height of the projectile was found to be $\\frac{v\\_0^2 \\sin^2(\\theta)}{2g}$.\n",
        "*   The horizontal range of the projectile, where it returns to the initial height, was found to be $\\frac{v\\_0^2 \\sin(2\\theta)}{g}$.\n",
        "\n",
        "### Insights or Next Steps\n",
        "\n",
        "*   The use of symbolic computation with SymPy allows for the derivation of general formulas for projectile motion parameters, rather than just numerical solutions for specific inputs.\n",
        "*   These derived formulas can be used to analyze the relationship between initial conditions (initial velocity and launch angle) and the resulting maximum height and horizontal range.\n"
      ]
    }
  ]
}