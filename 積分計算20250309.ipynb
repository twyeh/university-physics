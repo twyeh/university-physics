{
  "nbformat": 4,
  "nbformat_minor": 0,
  "metadata": {
    "colab": {
      "provenance": [],
      "authorship_tag": "ABX9TyMJWYE52E9Xc0f8IUgZu3Ve",
      "include_colab_link": true
    },
    "kernelspec": {
      "name": "python3",
      "display_name": "Python 3"
    },
    "language_info": {
      "name": "python"
    }
  },
  "cells": [
    {
      "cell_type": "markdown",
      "metadata": {
        "id": "view-in-github",
        "colab_type": "text"
      },
      "source": [
        "<a href=\"https://colab.research.google.com/github/twyeh/university-physics/blob/main/%E7%A9%8D%E5%88%86%E8%A8%88%E7%AE%9720250309.ipynb\" target=\"_parent\"><img src=\"https://colab.research.google.com/assets/colab-badge.svg\" alt=\"Open In Colab\"/></a>"
      ]
    },
    {
      "cell_type": "markdown",
      "source": [
        "計算\n",
        "$$\n",
        "\\int_{-1}^{1}\\frac{r-Ru}{(r^2+R^2-2rRu)^{3/2}}du\n",
        "$$\n",
        "令\n",
        "$$X=r^2+R^2-2rR u, $$\n",
        "$$dX=-2rR du,$$\n",
        "則原積分變成: $X_{\\pm}=(r\\pm R)^2$\n",
        "\\begin{eqnarray}\n",
        "&&\\int_{X_{+}}^{X_-}\\frac{r-(X-r^2-R^2)/(-2r)}{X^{3/2}}\\frac{dX}{(-2rR)}\\\\\n",
        "&=& \\frac{1}{4r^2R}\\int_{X_{+}}^{X_{-}}\\frac{-2r^2-(X-r^2-R^2)}{X^{3/2}}dX \\\\\n",
        "&=& -\\frac{1}{4r^2R}\\int_{X_{+}}^{X_-}(\\frac{XdX}{X^{3/2}}+\\frac{(r^2-R^2)dX}{X^{3/2}})\\\\\n",
        "&=& -\\frac{1}{4r^2R}\n",
        "  \\{\n",
        "  \\frac{X^{(-1/2+1)}}{-1/2+1}\n",
        "   +(r^2-R^2)\\frac{X^{-3/2+1}}{-3/2+1}\n",
        "  \\}_{X_{+}}^{X^{-}}\\\\\n",
        "&=& -\\frac{2}{4r^2R}\n",
        "  \\{\n",
        "  \\sqrt{X}\n",
        "   -(r^2-R^2)\\frac{1}{\\sqrt{X}}\n",
        "  \\}_{X_{+}}^{X^{-}}\\\\\n",
        "&=& - \\frac{2}{4r^2R}\n",
        "  \\{\n",
        "  \\frac{X-(r^2-R^2)}{\\sqrt{X}}\n",
        "  \\}_{X_{+}}^{X^{-}}\\\\    \n",
        "\\end{eqnarray}\n",
        "再將變數 $X$ 換成 $X=r^2+R^2-2rRu$:\n",
        "\\begin{eqnarray}\n",
        "&& -\\frac{2}{4r^2R}\n",
        "  \\{\n",
        "  \\frac{r^2+R^2-2rRu-(r^2-R^2)}{\\sqrt{r^2+R^2-2rRu}}\n",
        "  \\}_{u=-1}^{u=1}\\\\\n",
        "&=& -\\frac{2}{4r^2R}\n",
        "  \\{\n",
        "  \\frac{2R^2-2rRu}{\\sqrt{r^2+R^2-2rRu}}\n",
        "  \\}_{u=-1}^{u=1}\\\\\n",
        "&=& -\\frac{2\\times 2R}{4r^2R}\n",
        "  \\{\n",
        "  \\frac{R-ru}{\\sqrt{r^2+R^2-2rRu}}\n",
        "  \\}_{u=-1}^{u=1}\\\\\n",
        "&=& -\\frac{1}{r^2}\n",
        "  \\{\n",
        "  \\frac{R-r}{\\sqrt{r^2+R^2-2rR}}-\\frac{R+r}{\\sqrt{r^2+R^2+2rR}}\n",
        "  \\}\\\\\n",
        "&=& -\\frac{1}{r^2}\n",
        "  (\n",
        "  \\frac{R-r}{|R-r|}-1\n",
        "  )\n",
        "\\end{eqnarray}\n",
        "結果等於\n",
        "$$\n",
        " -\\frac{1}{r^2}\n",
        "\\times\n",
        "\\left\\{\n",
        "   \\begin{align*}\n",
        "  -2&  &r>R \\\\  \n",
        "  0&   &r<R\n",
        "   \\end{align*}\n",
        "\\right.\n",
        "$$\n"
      ],
      "metadata": {
        "id": "Olujyteq7l0P"
      }
    },
    {
      "cell_type": "markdown",
      "source": [
        "以下是使用 colab 的Gemini 參考上面計算給的答案"
      ],
      "metadata": {
        "id": "fKRRA2KNahIm"
      }
    },
    {
      "cell_type": "markdown",
      "source": [
        "## 提問\n",
        "計算被積分函數 (r-R u)/(r2+R2-2rRu)*(3/2) 相對於 變數 u 。u的上限=+1，u的下限=-1。\n",
        "\n",
        "## 回答\n",
        "\n",
        "好的，我可以幫你計算這個積分。\n",
        "\n",
        "我們要計算的積分是：\n",
        "\n",
        "$$ \\int_{-1}^{1}\\frac{r-Ru}{(r^2+R^2-2rRu)^{3/2}}du $$\n",
        "\n",
        "* 步驟 1：進行變數替換\n",
        "\n",
        "令 $X = r^2 + R^2 - 2rRu$，則 $dX = -2rRdu$。\n",
        "\n",
        "積分的上下限也需要進行相應的替換：\n",
        "\n",
        "\n",
        "當 $u = -1$ 時，$X = (r+R)^2 = X_+$\n",
        "\n",
        "當 $u = 1$ 時，$X = (r-R)^2 = X_-$\n",
        "\n",
        "因此，積分變為：\n",
        "\n",
        "$$ \\int_{X_+}^{X_-} \\frac{r - \\frac{X - r^2 - R^2}{-2r}}{X^{3/2}} \\frac{dX}{-2rR} $$\n",
        "\n",
        "* 步驟 2：簡化積分\n",
        "\n",
        "將積分進行簡化，得到：\n",
        "\n",
        "$$ \\frac{1}{4r^2R} \\int_{X_+}^{X_-} \\frac{-2r^2 - (X - r^2 - R^2)}{X^{3/2}} dX $$\n",
        "\n",
        "$$ = -\\frac{1}{4r^2R} \\int_{X_+}^{X_-} \\left( \\frac{X}{X^{3/2}} + \\frac{r^2 - R^2}{X^{3/2}} \\right) dX $$\n",
        "\n",
        "$$ = -\\frac{1}{4r^2R} \\left[ 2\\sqrt{X} - 2(r^2 - R^2) \\frac{1}{\\sqrt{X}} \\right]_{X_+}^{X_-} $$\n",
        "\n",
        "$$ = -\\frac{1}{2r^2R} \\left[ \\frac{X - (r^2 - R^2)}{\\sqrt{X}} \\right]_{X_+}^{X_-} $$\n",
        "\n",
        "步驟 3：將變數替換回 u\n",
        "\n",
        "將變數 $X$ 替換回 $u$，得到：\n",
        "\n",
        "$$ -\\frac{1}{2r^2R} \\left[ \\frac{r^2 + R^2 - 2rRu - (r^2 - R^2)}{\\sqrt{r^2 + R^2 - 2rRu}} \\right]_{u=-1}^{u=1} $$$\n",
        "\n",
        "$$ = -\\frac{1}{2r^2R} \\left[ \\frac{2R^2 - 2rRu}{\\sqrt{r^2 + R^2 - 2rRu}} \\right]_{u=-1}^{u=1} $$\n",
        "\n",
        "$$ = -\\frac{1}{r^2} \\left[ \\frac{R - ru}{\\sqrt{r^2 + R^2 - 2rRu}} \\right]_{u=-1}^{u=1} $$\n",
        "\n",
        "步驟 4：計算積分值\n",
        "\n",
        "將積分的上下限代入，得到：\n",
        "\n",
        "$$ -\\frac{1}{r^2} \\left( \\frac{R - r}{|R - r|} - \\frac{R + r}{|R + r|} \\right) $$\n",
        "\n",
        "$$ = -\\frac{1}{r^2} \\left( \\frac{R - r}{|R - r|} - 1 \\right) $$\n",
        "\n",
        "因此，積分的結果為：\n",
        "\n",
        "$$ -\\frac{1}{r^2} \\times \\begin{cases} -2, & r > R \\\\ 0, & r < R \\end{cases} $$"
      ],
      "metadata": {
        "id": "386YJYRtaMFx"
      }
    }
  ]
}