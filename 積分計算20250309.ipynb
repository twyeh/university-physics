{
  "nbformat": 4,
  "nbformat_minor": 0,
  "metadata": {
    "colab": {
      "provenance": [],
      "authorship_tag": "ABX9TyM7LG+CDH1XP5+u1VI6xqvx",
      "include_colab_link": true
    },
    "kernelspec": {
      "name": "python3",
      "display_name": "Python 3"
    },
    "language_info": {
      "name": "python"
    }
  },
  "cells": [
    {
      "cell_type": "markdown",
      "metadata": {
        "id": "view-in-github",
        "colab_type": "text"
      },
      "source": [
        "<a href=\"https://colab.research.google.com/github/twyeh/university-physics/blob/main/%E7%A9%8D%E5%88%86%E8%A8%88%E7%AE%9720250309.ipynb\" target=\"_parent\"><img src=\"https://colab.research.google.com/assets/colab-badge.svg\" alt=\"Open In Colab\"/></a>"
      ]
    },
    {
      "cell_type": "markdown",
      "source": [
        "計算\n",
        "$$\n",
        "\\int_{-1}^{1}\\frac{r-Ru}{(r^2+R^2-2rRu)^{3/2}}du\n",
        "$$\n",
        "令\n",
        "$$X=r^2+R^2-2rR u, $$\n",
        "$$dX=-2rR du,$$\n",
        "則原積分變成: $X_{\\pm}=(r\\pm R)^2$\n",
        "\\begin{eqnarray}\n",
        "&&\\int_{X_{+}}^{X_-}\\frac{r-(X-r^2-R^2)/(-2r)}{X^{3/2}}\\frac{dX}{(-2rR)}\\\\\n",
        "&=& \\frac{1}{4r^2R}\\int_{X_{+}}^{X_{-}}\\frac{-2r^2-(X-r^2-R^2)}{X^{3/2}}dX \\\\\n",
        "&=& -\\frac{1}{4r^2R}\\int_{X_{+}}^{X_-}(\\frac{XdX}{X^{3/2}}+\\frac{(r^2-R^2)dX}{X^{3/2}})\\\\\n",
        "&=& -\\frac{1}{4r^2R}\n",
        "  \\{\n",
        "  \\frac{X^{(-1/2+1)}}{-1/2+1}\n",
        "   +(r^2-R^2)\\frac{X^{-3/2+1}}{-3/2+1}\n",
        "  \\}_{X_{+}}^{X^{-}}\\\\\n",
        "&=& -\\frac{2}{4r^2R}\n",
        "  \\{\n",
        "  \\sqrt{X}\n",
        "   -(r^2-R^2)\\frac{1}{\\sqrt{X}}\n",
        "  \\}_{X_{+}}^{X^{-}}\\\\\n",
        "&=& - \\frac{2}{4r^2R}\n",
        "  \\{\n",
        "  \\frac{X-(r^2-R^2)}{\\sqrt{X}}\n",
        "  \\}_{X_{+}}^{X^{-}}\\\\    \n",
        "\\end{eqnarray}\n",
        "再將變數 $X$ 換成 $X=r^2+R^2-2rRu$:\n",
        "\\begin{eqnarray}\n",
        "&& -\\frac{2}{4r^2R}\n",
        "  \\{\n",
        "  \\frac{r^2+R^2-2rRu-(r^2-R^2)}{\\sqrt{r^2+R^2-2rRu}}\n",
        "  \\}_{u=-1}^{u=1}\\\\\n",
        "&=& -\\frac{2}{4r^2R}\n",
        "  \\{\n",
        "  \\frac{2R^2-2rRu}{\\sqrt{r^2+R^2-2rRu}}\n",
        "  \\}_{u=-1}^{u=1}\\\\\n",
        "&=& -\\frac{2\\times 2R}{4r^2R}\n",
        "  \\{\n",
        "  \\frac{R-ru}{\\sqrt{r^2+R^2-2rRu}}\n",
        "  \\}_{u=-1}^{u=1}\\\\\n",
        "&=& -\\frac{1}{r^2}\n",
        "  \\{\n",
        "  \\frac{R-r}{\\sqrt{r^2+R^2-2rR}}-\\frac{R+r}{\\sqrt{r^2+R^2+2rR}}\n",
        "  \\}\\\\\n",
        "&=& -\\frac{1}{r^2}\n",
        "  (\n",
        "  \\frac{R-r}{|R-r|}-1\n",
        "  )\n",
        "\\end{eqnarray}\n",
        "結果等於\n",
        "$$\n",
        " -\\frac{1}{r^2}\n",
        "\\times\n",
        "\\left\\{\n",
        "   \\begin{align*}\n",
        "  -2&  &r>R \\\\  \n",
        "  0&   &r<R\n",
        "   \\end{align*}\n",
        "\\right.\n",
        "$$\n"
      ],
      "metadata": {
        "id": "Olujyteq7l0P"
      }
    },
    {
      "cell_type": "code",
      "execution_count": null,
      "metadata": {
        "id": "aHwh-guE7iWm"
      },
      "outputs": [],
      "source": []
    }
  ]
}