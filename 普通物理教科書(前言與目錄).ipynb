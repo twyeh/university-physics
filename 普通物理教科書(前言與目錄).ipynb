{
  "nbformat": 4,
  "nbformat_minor": 0,
  "metadata": {
    "colab": {
      "private_outputs": true,
      "provenance": [],
      "authorship_tag": "ABX9TyPyst/qHlMVVeBFuJby35Nw",
      "include_colab_link": true
    },
    "kernelspec": {
      "name": "python3",
      "display_name": "Python 3"
    },
    "language_info": {
      "name": "python"
    }
  },
  "cells": [
    {
      "cell_type": "markdown",
      "metadata": {
        "id": "view-in-github",
        "colab_type": "text"
      },
      "source": [
        "<a href=\"https://colab.research.google.com/github/twyeh/university-physics/blob/main/%E6%99%AE%E9%80%9A%E7%89%A9%E7%90%86%E6%95%99%E7%A7%91%E6%9B%B8(%E5%89%8D%E8%A8%80%E8%88%87%E7%9B%AE%E9%8C%84).ipynb\" target=\"_parent\"><img src=\"https://colab.research.google.com/assets/colab-badge.svg\" alt=\"Open In Colab\"/></a>"
      ]
    },
    {
      "cell_type": "markdown",
      "source": [
        "# 前言\n",
        "\n",
        "\n",
        "---\n",
        "\n",
        "\n",
        "## 緣起\n",
        "物理學為重要基礎科學，內容涉及複雜且多元的表象。數學作為物理學主要表述方式，在表達物理學內容與意義時，利用許多數學的概念、形式與結果。\n",
        "\n",
        "由於數學對於學習物理學是重要的，因此掌握數學表達方式與方法成為一成為學習物理的重要依據，但另一方面卻也是學生在學習物理時遭遇的主要困擾。\n",
        "\n",
        "\n",
        "---\n",
        "\n",
        "\n",
        "## 目標\n",
        "利用 python 豐富的運算程式庫協助學生解決學習普通物理時遭遇的數學困擾。\n",
        "\n",
        "\n",
        "---\n",
        "\n",
        "\n",
        "## 程式模組\n",
        "\n",
        "### 基本模組\n",
        "\n",
        "\n",
        "\n",
        "*   python 基本 [介紹文件](https://wiki.python.org/moin/BeginnersGuide)\n",
        "*   markup 語法 [參考文件](https://medium.com/analytics-vidhya/the-ultimate-markdown-guide-for-jupyter-notebook-d5e5abf728fd)\n",
        "*   sympy: 符號計算 [基本介紹](https://docs.sympy.org/latest/tutorials/intro-tutorial/index.html)\n",
        "*   numpy: 矩陣數值運算 [參考範例](https://numpy.org/devdocs/user/quickstart.html)\n",
        "*   matplotlib: 繪圖 [基本介紹](https://matplotlib.org/stable/users/explain/quick_start.html)\n",
        "*   tikz: 文字+函數繪圖 [參考範本](https://colab.research.google.com/drive/1mXsjJorkgui7mDVQTBgMbVOypVcRGrTX?usp=sharing)\n",
        "\n",
        "\n",
        "\n",
        "\n",
        "\n"
      ],
      "metadata": {
        "id": "WiiHHs8IHBSC"
      }
    },
    {
      "cell_type": "markdown",
      "source": [
        "## 學習方式\n",
        "本書採用融入世學習,以物理學內容為主幹,隨著物理學習主題的需要,引入必要的數學方法及對應的python程式工具,採用的實用學習法:只有在需要時才學習必要的能力或方法，以專注於物理學概念的發展。學習者在課程進行當中,利用 python 解決數學計算或發展表象時遭遇的困擾，進而提升其對於物理概念的掌握與應用所需的數學方法。\n",
        "\n",
        "方法的學習皆須經過模仿、發展、熟練等歷程。\n",
        "\n",
        "對於一般學習者而言，學習物理學的目的是希望學到如何應用物理學來解決實務上的問題"
      ],
      "metadata": {
        "id": "ZZuNz-v8bzce"
      }
    },
    {
      "cell_type": "markdown",
      "source": [
        "## 編撰方式\n",
        "本書採用問題向方式進行編排。\n",
        "根據主題發展各式重要問題作為學習內容。"
      ],
      "metadata": {
        "id": "BM0q1mDRd15S"
      }
    },
    {
      "cell_type": "code",
      "execution_count": null,
      "metadata": {
        "id": "VqR7Mi0eG4a4"
      },
      "outputs": [],
      "source": []
    }
  ]
}