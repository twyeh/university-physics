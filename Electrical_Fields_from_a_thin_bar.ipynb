{
  "nbformat": 4,
  "nbformat_minor": 0,
  "metadata": {
    "colab": {
      "private_outputs": true,
      "provenance": [],
      "authorship_tag": "ABX9TyP6nhMGwVmjdN/m4eFx26/X",
      "include_colab_link": true
    },
    "kernelspec": {
      "name": "python3",
      "display_name": "Python 3"
    },
    "language_info": {
      "name": "python"
    }
  },
  "cells": [
    {
      "cell_type": "markdown",
      "metadata": {
        "id": "view-in-github",
        "colab_type": "text"
      },
      "source": [
        "<a href=\"https://colab.research.google.com/github/twyeh/university-physics/blob/main/Electrical_Fields_from_a_thin_bar.ipynb\" target=\"_parent\"><img src=\"https://colab.research.google.com/assets/colab-badge.svg\" alt=\"Open In Colab\"/></a>"
      ]
    },
    {
      "cell_type": "code",
      "execution_count": null,
      "metadata": {
        "id": "g6wTRqKuXBJB"
      },
      "outputs": [],
      "source": []
    },
    {
      "cell_type": "markdown",
      "source": [
        "use python and sympy to write a code to calculate the electrical fileds from one thin bar with length of L and charge uniform distribution. The electrical fields are in three dimensions"
      ],
      "metadata": {
        "id": "2WaAgJlVYGw6"
      }
    },
    {
      "source": [
        "import sympy as sp\n",
        "\n",
        "# Define symbols\n",
        "x, y, z, xp, yp, zp, k, Q, L = sp.symbols('x y z xp yp zp k Q L', positive=True)\n",
        "\n",
        "# Define the charge density\n",
        "lambda_ = Q / L\n",
        "\n",
        "# Define the position vector of a point on the bar\n",
        "r_prime = sp.Matrix([0, 0, zp]) # Assuming the bar is along the y-axis with the center at origin.\n",
        "\n",
        "# Define the position vector of the observation point\n",
        "r = sp.Matrix([x, y, z])\n",
        "\n",
        "# Calculate the distance vector\n",
        "R = r - r_prime\n",
        "\n",
        "# Calculate the magnitude of the distance vector\n",
        "R_mag = sp.sqrt(R.dot(R))\n",
        "\n",
        "# Define the electric field integrand\n",
        "dE = k * lambda_ * R / sp.Pow(R_mag,3)\n",
        "\n",
        "# Integrate the electric field over the length of the bar\n",
        "E = sp.integrate(dE, (zp, -L/2, L/2))\n",
        "\n",
        "# Print the electric field\n",
        "print(\"The electric field is:\")\n",
        "display(E)"
      ],
      "cell_type": "code",
      "metadata": {
        "id": "roY1vmskYNBk"
      },
      "execution_count": null,
      "outputs": []
    },
    {
      "cell_type": "markdown",
      "source": [
        "## Reasoning:\n",
        "\n",
        "* Import SymPy: We begin by importing the SymPy library for symbolic calculations.\n",
        "* Define Symbols: We define the symbols for coordinates (x, y, z), Coulomb's constant (k), total charge (Q), and length of the bar (L).\n",
        "* Charge Density: We calculate the charge density (λ) as the total charge divided by the length of the bar.\n",
        "* Position Vectors: We define the position vectors for a point on the bar (r_prime) and the observation point (r). Here, we assume the bar is oriented along the y-axis and centered at the origin. You can adjust this if your bar has a different orientation.\n",
        "* Distance Vector: We calculate the distance vector (R) between the observation point and the point on the bar.\n",
        "* Electric Field Integrand: We define the integrand for the electric field (dE) using Coulomb's law.\n",
        "Integration: We use sp.integrate to integrate the electric field integrand over the length of the bar. This gives us the total electric field at the observation point.\n",
        "* Output: We print the calculated electric field using sp.pprint for a nicely formatted output.\n",
        "## Note:\n",
        "\n",
        "* Make sure to install SymPy if you haven't already using !pip install sympy in a code cell.\n",
        "* Remember to substitute numerical values for the variables (k, Q, L) if you want to obtain a numerical result.\n",
        "* To see the output, run the code.\n",
        "* This code assumes a thin bar with a uniform charge distribution. For more complex charge distributions or geometries, the integration may be more involved."
      ],
      "metadata": {
        "id": "8wSwuoo6YR51"
      }
    }
  ]
}