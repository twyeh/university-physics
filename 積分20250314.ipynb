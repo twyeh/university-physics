{
  "nbformat": 4,
  "nbformat_minor": 0,
  "metadata": {
    "colab": {
      "provenance": [],
      "authorship_tag": "ABX9TyM4UBgTS5lXrriZqr3nNRX0",
      "include_colab_link": true
    },
    "kernelspec": {
      "name": "python3",
      "display_name": "Python 3"
    },
    "language_info": {
      "name": "python"
    }
  },
  "cells": [
    {
      "cell_type": "markdown",
      "metadata": {
        "id": "view-in-github",
        "colab_type": "text"
      },
      "source": [
        "<a href=\"https://colab.research.google.com/github/twyeh/university-physics/blob/main/%E7%A9%8D%E5%88%8620250314.ipynb\" target=\"_parent\"><img src=\"https://colab.research.google.com/assets/colab-badge.svg\" alt=\"Open In Colab\"/></a>"
      ]
    },
    {
      "cell_type": "markdown",
      "source": [
        "$$\n",
        "\\int \\frac{\\log_3(x^2)}{x}dx=?\n",
        "$$\n",
        "令 $x=e^u$, $dx=d(e^u)=e^u du= x du$, $\\log_3(x^2)=\\log_3(e^{2u})=2u\\log_3(e)$\n",
        "\\begin{eqnarray}\n",
        "&&\\int \\frac{\\log_3(x^2)}{x}dx \\\\\n",
        "&=&\\int \\frac{2u\\log_3(e)}{x}x du \\\\\n",
        "&=&2\\log_3(e)\\int u du \\\\\n",
        "&=&2\\log_3(e)\\frac{u^2}{2} \\\\\n",
        "&=&\\log_3(e)(\\ln(x))^2\n",
        "\\end{eqnarray}"
      ],
      "metadata": {
        "id": "nnxwq-CiRijK"
      }
    },
    {
      "cell_type": "code",
      "source": [
        "import sympy as sp\n",
        "x =sp.Symbol('x')\n",
        "sp.integrate(sp.log(x**2,3)/x)\n"
      ],
      "metadata": {
        "colab": {
          "base_uri": "https://localhost:8080/",
          "height": 63
        },
        "id": "ynV41VvNRZ1V",
        "outputId": "9b1719ab-24aa-4a3c-daa7-4dfffb246e30"
      },
      "execution_count": 2,
      "outputs": [
        {
          "output_type": "execute_result",
          "data": {
            "text/plain": [
              "log(x**2)**2/(4*log(3))"
            ],
            "text/latex": "$\\displaystyle \\frac{\\log{\\left(x^{2} \\right)}^{2}}{4 \\log{\\left(3 \\right)}}$"
          },
          "metadata": {},
          "execution_count": 2
        }
      ]
    }
  ]
}