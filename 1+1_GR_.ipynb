{
  "nbformat": 4,
  "nbformat_minor": 0,
  "metadata": {
    "colab": {
      "provenance": [],
      "authorship_tag": "ABX9TyNVtuPgCJNXfyHHXHSEA4fq",
      "include_colab_link": true
    },
    "kernelspec": {
      "name": "python3",
      "display_name": "Python 3"
    },
    "language_info": {
      "name": "python"
    },
    "widgets": {
      "application/vnd.jupyter.widget-state+json": {
        "e2104b0ca4a24171a8666c8c9aa0395d": {
          "model_module": "@jupyter-widgets/controls",
          "model_name": "VBoxModel",
          "model_module_version": "1.5.0",
          "state": {
            "_dom_classes": [
              "widget-interact"
            ],
            "_model_module": "@jupyter-widgets/controls",
            "_model_module_version": "1.5.0",
            "_model_name": "VBoxModel",
            "_view_count": null,
            "_view_module": "@jupyter-widgets/controls",
            "_view_module_version": "1.5.0",
            "_view_name": "VBoxView",
            "box_style": "",
            "children": [
              "IPY_MODEL_bba6ea06047c4eea9bb00cce678d0940",
              "IPY_MODEL_f3319211a2354b6895bb85844df35cf8",
              "IPY_MODEL_e9d5a62d8a1b4b32a557f58966b55329",
              "IPY_MODEL_a4115933104e402092aa4d56998296f9",
              "IPY_MODEL_19b3ca7b9b094a21949290c10c636f98"
            ],
            "layout": "IPY_MODEL_5f27c17ee4f94b7caecd1d7adf163113"
          }
        },
        "bba6ea06047c4eea9bb00cce678d0940": {
          "model_module": "@jupyter-widgets/controls",
          "model_name": "FloatSliderModel",
          "model_module_version": "1.5.0",
          "state": {
            "_dom_classes": [],
            "_model_module": "@jupyter-widgets/controls",
            "_model_module_version": "1.5.0",
            "_model_name": "FloatSliderModel",
            "_view_count": null,
            "_view_module": "@jupyter-widgets/controls",
            "_view_module_version": "1.5.0",
            "_view_name": "FloatSliderView",
            "continuous_update": true,
            "description": "Initial X:",
            "description_tooltip": null,
            "disabled": false,
            "layout": "IPY_MODEL_665969e4f51d4030a9cd30d87374a0fa",
            "max": 10,
            "min": -10,
            "orientation": "horizontal",
            "readout": true,
            "readout_format": ".2f",
            "step": 0.1,
            "style": "IPY_MODEL_426c6dcc00fd4d6bbaf494936e448b98",
            "value": 3.9
          }
        },
        "f3319211a2354b6895bb85844df35cf8": {
          "model_module": "@jupyter-widgets/controls",
          "model_name": "FloatSliderModel",
          "model_module_version": "1.5.0",
          "state": {
            "_dom_classes": [],
            "_model_module": "@jupyter-widgets/controls",
            "_model_module_version": "1.5.0",
            "_model_name": "FloatSliderModel",
            "_view_count": null,
            "_view_module": "@jupyter-widgets/controls",
            "_view_module_version": "1.5.0",
            "_view_name": "FloatSliderView",
            "continuous_update": true,
            "description": "Initial V:",
            "description_tooltip": null,
            "disabled": false,
            "layout": "IPY_MODEL_03bed337784a44528fc2977780c98ba8",
            "max": 10,
            "min": -10,
            "orientation": "horizontal",
            "readout": true,
            "readout_format": ".2f",
            "step": 0.1,
            "style": "IPY_MODEL_04fc08c37f16410eb4a3a02fd523f61c",
            "value": 1
          }
        },
        "e9d5a62d8a1b4b32a557f58966b55329": {
          "model_module": "@jupyter-widgets/controls",
          "model_name": "FloatSliderModel",
          "model_module_version": "1.5.0",
          "state": {
            "_dom_classes": [],
            "_model_module": "@jupyter-widgets/controls",
            "_model_module_version": "1.5.0",
            "_model_name": "FloatSliderModel",
            "_view_count": null,
            "_view_module": "@jupyter-widgets/controls",
            "_view_module_version": "1.5.0",
            "_view_name": "FloatSliderView",
            "continuous_update": true,
            "description": "dlambda:",
            "description_tooltip": null,
            "disabled": false,
            "layout": "IPY_MODEL_1b6b4870ad6b4edaacc1651b6ec75bbf",
            "max": 1,
            "min": 0.01,
            "orientation": "horizontal",
            "readout": true,
            "readout_format": ".2f",
            "step": 0.01,
            "style": "IPY_MODEL_9e18a4b0962b49dab793b9bc52e75b15",
            "value": 0.1
          }
        },
        "a4115933104e402092aa4d56998296f9": {
          "model_module": "@jupyter-widgets/controls",
          "model_name": "IntSliderModel",
          "model_module_version": "1.5.0",
          "state": {
            "_dom_classes": [],
            "_model_module": "@jupyter-widgets/controls",
            "_model_module_version": "1.5.0",
            "_model_name": "IntSliderModel",
            "_view_count": null,
            "_view_module": "@jupyter-widgets/controls",
            "_view_module_version": "1.5.0",
            "_view_name": "IntSliderView",
            "continuous_update": true,
            "description": "Num Steps:",
            "description_tooltip": null,
            "disabled": false,
            "layout": "IPY_MODEL_1820b4b90e28476e83eeec685ebfaccc",
            "max": 500,
            "min": 10,
            "orientation": "horizontal",
            "readout": true,
            "readout_format": "d",
            "step": 10,
            "style": "IPY_MODEL_c666b18263204ac089ba252f15465b17",
            "value": 100
          }
        },
        "19b3ca7b9b094a21949290c10c636f98": {
          "model_module": "@jupyter-widgets/output",
          "model_name": "OutputModel",
          "model_module_version": "1.0.0",
          "state": {
            "_dom_classes": [],
            "_model_module": "@jupyter-widgets/output",
            "_model_module_version": "1.0.0",
            "_model_name": "OutputModel",
            "_view_count": null,
            "_view_module": "@jupyter-widgets/output",
            "_view_module_version": "1.0.0",
            "_view_name": "OutputView",
            "layout": "IPY_MODEL_291ea7e65a674fa79e3372d7ded3fc82",
            "msg_id": "",
            "outputs": [
              {
                "output_type": "display_data",
                "data": {
                  "text/plain": "<Figure size 1000x600 with 1 Axes>",
                  "image/png": "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\n"
                },
                "metadata": {}
              }
            ]
          }
        },
        "5f27c17ee4f94b7caecd1d7adf163113": {
          "model_module": "@jupyter-widgets/base",
          "model_name": "LayoutModel",
          "model_module_version": "1.2.0",
          "state": {
            "_model_module": "@jupyter-widgets/base",
            "_model_module_version": "1.2.0",
            "_model_name": "LayoutModel",
            "_view_count": null,
            "_view_module": "@jupyter-widgets/base",
            "_view_module_version": "1.2.0",
            "_view_name": "LayoutView",
            "align_content": null,
            "align_items": null,
            "align_self": null,
            "border": null,
            "bottom": null,
            "display": null,
            "flex": null,
            "flex_flow": null,
            "grid_area": null,
            "grid_auto_columns": null,
            "grid_auto_flow": null,
            "grid_auto_rows": null,
            "grid_column": null,
            "grid_gap": null,
            "grid_row": null,
            "grid_template_areas": null,
            "grid_template_columns": null,
            "grid_template_rows": null,
            "height": null,
            "justify_content": null,
            "justify_items": null,
            "left": null,
            "margin": null,
            "max_height": null,
            "max_width": null,
            "min_height": null,
            "min_width": null,
            "object_fit": null,
            "object_position": null,
            "order": null,
            "overflow": null,
            "overflow_x": null,
            "overflow_y": null,
            "padding": null,
            "right": null,
            "top": null,
            "visibility": null,
            "width": null
          }
        },
        "665969e4f51d4030a9cd30d87374a0fa": {
          "model_module": "@jupyter-widgets/base",
          "model_name": "LayoutModel",
          "model_module_version": "1.2.0",
          "state": {
            "_model_module": "@jupyter-widgets/base",
            "_model_module_version": "1.2.0",
            "_model_name": "LayoutModel",
            "_view_count": null,
            "_view_module": "@jupyter-widgets/base",
            "_view_module_version": "1.2.0",
            "_view_name": "LayoutView",
            "align_content": null,
            "align_items": null,
            "align_self": null,
            "border": null,
            "bottom": null,
            "display": null,
            "flex": null,
            "flex_flow": null,
            "grid_area": null,
            "grid_auto_columns": null,
            "grid_auto_flow": null,
            "grid_auto_rows": null,
            "grid_column": null,
            "grid_gap": null,
            "grid_row": null,
            "grid_template_areas": null,
            "grid_template_columns": null,
            "grid_template_rows": null,
            "height": null,
            "justify_content": null,
            "justify_items": null,
            "left": null,
            "margin": null,
            "max_height": null,
            "max_width": null,
            "min_height": null,
            "min_width": null,
            "object_fit": null,
            "object_position": null,
            "order": null,
            "overflow": null,
            "overflow_x": null,
            "overflow_y": null,
            "padding": null,
            "right": null,
            "top": null,
            "visibility": null,
            "width": null
          }
        },
        "426c6dcc00fd4d6bbaf494936e448b98": {
          "model_module": "@jupyter-widgets/controls",
          "model_name": "SliderStyleModel",
          "model_module_version": "1.5.0",
          "state": {
            "_model_module": "@jupyter-widgets/controls",
            "_model_module_version": "1.5.0",
            "_model_name": "SliderStyleModel",
            "_view_count": null,
            "_view_module": "@jupyter-widgets/base",
            "_view_module_version": "1.2.0",
            "_view_name": "StyleView",
            "description_width": "",
            "handle_color": null
          }
        },
        "03bed337784a44528fc2977780c98ba8": {
          "model_module": "@jupyter-widgets/base",
          "model_name": "LayoutModel",
          "model_module_version": "1.2.0",
          "state": {
            "_model_module": "@jupyter-widgets/base",
            "_model_module_version": "1.2.0",
            "_model_name": "LayoutModel",
            "_view_count": null,
            "_view_module": "@jupyter-widgets/base",
            "_view_module_version": "1.2.0",
            "_view_name": "LayoutView",
            "align_content": null,
            "align_items": null,
            "align_self": null,
            "border": null,
            "bottom": null,
            "display": null,
            "flex": null,
            "flex_flow": null,
            "grid_area": null,
            "grid_auto_columns": null,
            "grid_auto_flow": null,
            "grid_auto_rows": null,
            "grid_column": null,
            "grid_gap": null,
            "grid_row": null,
            "grid_template_areas": null,
            "grid_template_columns": null,
            "grid_template_rows": null,
            "height": null,
            "justify_content": null,
            "justify_items": null,
            "left": null,
            "margin": null,
            "max_height": null,
            "max_width": null,
            "min_height": null,
            "min_width": null,
            "object_fit": null,
            "object_position": null,
            "order": null,
            "overflow": null,
            "overflow_x": null,
            "overflow_y": null,
            "padding": null,
            "right": null,
            "top": null,
            "visibility": null,
            "width": null
          }
        },
        "04fc08c37f16410eb4a3a02fd523f61c": {
          "model_module": "@jupyter-widgets/controls",
          "model_name": "SliderStyleModel",
          "model_module_version": "1.5.0",
          "state": {
            "_model_module": "@jupyter-widgets/controls",
            "_model_module_version": "1.5.0",
            "_model_name": "SliderStyleModel",
            "_view_count": null,
            "_view_module": "@jupyter-widgets/base",
            "_view_module_version": "1.2.0",
            "_view_name": "StyleView",
            "description_width": "",
            "handle_color": null
          }
        },
        "1b6b4870ad6b4edaacc1651b6ec75bbf": {
          "model_module": "@jupyter-widgets/base",
          "model_name": "LayoutModel",
          "model_module_version": "1.2.0",
          "state": {
            "_model_module": "@jupyter-widgets/base",
            "_model_module_version": "1.2.0",
            "_model_name": "LayoutModel",
            "_view_count": null,
            "_view_module": "@jupyter-widgets/base",
            "_view_module_version": "1.2.0",
            "_view_name": "LayoutView",
            "align_content": null,
            "align_items": null,
            "align_self": null,
            "border": null,
            "bottom": null,
            "display": null,
            "flex": null,
            "flex_flow": null,
            "grid_area": null,
            "grid_auto_columns": null,
            "grid_auto_flow": null,
            "grid_auto_rows": null,
            "grid_column": null,
            "grid_gap": null,
            "grid_row": null,
            "grid_template_areas": null,
            "grid_template_columns": null,
            "grid_template_rows": null,
            "height": null,
            "justify_content": null,
            "justify_items": null,
            "left": null,
            "margin": null,
            "max_height": null,
            "max_width": null,
            "min_height": null,
            "min_width": null,
            "object_fit": null,
            "object_position": null,
            "order": null,
            "overflow": null,
            "overflow_x": null,
            "overflow_y": null,
            "padding": null,
            "right": null,
            "top": null,
            "visibility": null,
            "width": null
          }
        },
        "9e18a4b0962b49dab793b9bc52e75b15": {
          "model_module": "@jupyter-widgets/controls",
          "model_name": "SliderStyleModel",
          "model_module_version": "1.5.0",
          "state": {
            "_model_module": "@jupyter-widgets/controls",
            "_model_module_version": "1.5.0",
            "_model_name": "SliderStyleModel",
            "_view_count": null,
            "_view_module": "@jupyter-widgets/base",
            "_view_module_version": "1.2.0",
            "_view_name": "StyleView",
            "description_width": "",
            "handle_color": null
          }
        },
        "1820b4b90e28476e83eeec685ebfaccc": {
          "model_module": "@jupyter-widgets/base",
          "model_name": "LayoutModel",
          "model_module_version": "1.2.0",
          "state": {
            "_model_module": "@jupyter-widgets/base",
            "_model_module_version": "1.2.0",
            "_model_name": "LayoutModel",
            "_view_count": null,
            "_view_module": "@jupyter-widgets/base",
            "_view_module_version": "1.2.0",
            "_view_name": "LayoutView",
            "align_content": null,
            "align_items": null,
            "align_self": null,
            "border": null,
            "bottom": null,
            "display": null,
            "flex": null,
            "flex_flow": null,
            "grid_area": null,
            "grid_auto_columns": null,
            "grid_auto_flow": null,
            "grid_auto_rows": null,
            "grid_column": null,
            "grid_gap": null,
            "grid_row": null,
            "grid_template_areas": null,
            "grid_template_columns": null,
            "grid_template_rows": null,
            "height": null,
            "justify_content": null,
            "justify_items": null,
            "left": null,
            "margin": null,
            "max_height": null,
            "max_width": null,
            "min_height": null,
            "min_width": null,
            "object_fit": null,
            "object_position": null,
            "order": null,
            "overflow": null,
            "overflow_x": null,
            "overflow_y": null,
            "padding": null,
            "right": null,
            "top": null,
            "visibility": null,
            "width": null
          }
        },
        "c666b18263204ac089ba252f15465b17": {
          "model_module": "@jupyter-widgets/controls",
          "model_name": "SliderStyleModel",
          "model_module_version": "1.5.0",
          "state": {
            "_model_module": "@jupyter-widgets/controls",
            "_model_module_version": "1.5.0",
            "_model_name": "SliderStyleModel",
            "_view_count": null,
            "_view_module": "@jupyter-widgets/base",
            "_view_module_version": "1.2.0",
            "_view_name": "StyleView",
            "description_width": "",
            "handle_color": null
          }
        },
        "291ea7e65a674fa79e3372d7ded3fc82": {
          "model_module": "@jupyter-widgets/base",
          "model_name": "LayoutModel",
          "model_module_version": "1.2.0",
          "state": {
            "_model_module": "@jupyter-widgets/base",
            "_model_module_version": "1.2.0",
            "_model_name": "LayoutModel",
            "_view_count": null,
            "_view_module": "@jupyter-widgets/base",
            "_view_module_version": "1.2.0",
            "_view_name": "LayoutView",
            "align_content": null,
            "align_items": null,
            "align_self": null,
            "border": null,
            "bottom": null,
            "display": null,
            "flex": null,
            "flex_flow": null,
            "grid_area": null,
            "grid_auto_columns": null,
            "grid_auto_flow": null,
            "grid_auto_rows": null,
            "grid_column": null,
            "grid_gap": null,
            "grid_row": null,
            "grid_template_areas": null,
            "grid_template_columns": null,
            "grid_template_rows": null,
            "height": null,
            "justify_content": null,
            "justify_items": null,
            "left": null,
            "margin": null,
            "max_height": null,
            "max_width": null,
            "min_height": null,
            "min_width": null,
            "object_fit": null,
            "object_position": null,
            "order": null,
            "overflow": null,
            "overflow_x": null,
            "overflow_y": null,
            "padding": null,
            "right": null,
            "top": null,
            "visibility": null,
            "width": null
          }
        }
      }
    }
  },
  "cells": [
    {
      "cell_type": "markdown",
      "metadata": {
        "id": "view-in-github",
        "colab_type": "text"
      },
      "source": [
        "<a href=\"https://colab.research.google.com/github/twyeh/university-physics/blob/%E5%8A%9B%E5%AD%B8/1%2B1_GR_.ipynb\" target=\"_parent\"><img src=\"https://colab.research.google.com/assets/colab-badge.svg\" alt=\"Open In Colab\"/></a>"
      ]
    },
    {
      "cell_type": "code",
      "execution_count": null,
      "metadata": {
        "id": "KOZlIlTWk0_V"
      },
      "outputs": [],
      "source": []
    },
    {
      "cell_type": "code",
      "metadata": {
        "colab": {
          "base_uri": "https://localhost:8080/"
        },
        "id": "a88ee5e2",
        "outputId": "6a67c4c7-fa65-412b-ef8c-72a74d9d26bf"
      },
      "source": [
        "print(\"First 10 calculated positions:\", positions[:10])\n",
        "print(\"First 10 affine parameter values:\", affine_parameters[:10])"
      ],
      "execution_count": 10,
      "outputs": [
        {
          "output_type": "stream",
          "name": "stdout",
          "text": [
            "First 10 calculated positions: [0.0, 0.09999999999999999, 0.19999999999999998, 0.3, 0.39999999999999997, 0.49999999999999994, 0.6, 0.7, 0.7999999999999999, 0.8999999999999999]\n",
            "First 10 affine parameter values: [0.0, 0.1, 0.2, 0.30000000000000004, 0.4, 0.5, 0.6000000000000001, 0.7000000000000001, 0.8, 0.9]\n"
          ]
        }
      ]
    },
    {
      "cell_type": "markdown",
      "metadata": {
        "id": "d19560ae"
      },
      "source": [
        "# Task\n",
        "Design a program to draw a geodesic path of a free fall object in 1+1 general relativity theory."
      ]
    },
    {
      "cell_type": "markdown",
      "metadata": {
        "id": "462addc7"
      },
      "source": [
        "## Understand the physics\n",
        "\n",
        "### Subtask:\n",
        "Briefly explain the concept of geodesics in general relativity and the relevant equations for 1+1 dimensions.\n"
      ]
    },
    {
      "cell_type": "markdown",
      "metadata": {
        "id": "fad95167"
      },
      "source": [
        "**Reasoning**:\n",
        "Provide a brief explanation of geodesics in general relativity and the relevant concepts for 1+1 dimensions as requested in the instructions.\n",
        "\n"
      ]
    },
    {
      "cell_type": "code",
      "metadata": {
        "colab": {
          "base_uri": "https://localhost:8080/"
        },
        "id": "5ee05e78",
        "outputId": "b02995d4-522a-4caf-cad9-2f3cf8688161"
      },
      "source": [
        "print(\"In general relativity, a geodesic represents the path followed by a free-falling object in spacetime. These paths are the 'straightest possible' lines in the curved spacetime, which is how general relativity describes gravity. For this problem, we are considering a simplified 1+1 dimensional spacetime, meaning we have one spatial dimension and one time dimension.\")"
      ],
      "execution_count": 1,
      "outputs": [
        {
          "output_type": "stream",
          "name": "stdout",
          "text": [
            "In general relativity, a geodesic represents the path followed by a free-falling object in spacetime. These paths are the 'straightest possible' lines in the curved spacetime, which is how general relativity describes gravity. For this problem, we are considering a simplified 1+1 dimensional spacetime, meaning we have one spatial dimension and one time dimension.\n"
          ]
        }
      ]
    },
    {
      "cell_type": "markdown",
      "metadata": {
        "id": "a18cf347"
      },
      "source": [
        "## Choose a spacetime metric\n",
        "\n",
        "### Subtask:\n",
        "Select a specific 1+1 dimensional spacetime metric to work with (e.g., flat spacetime, or a simplified curved spacetime).\n"
      ]
    },
    {
      "cell_type": "markdown",
      "metadata": {
        "id": "0a6b2f0e"
      },
      "source": [
        "**Reasoning**:\n",
        "State the chosen metric and its mathematical form, and explain the reason for choosing it.\n",
        "\n"
      ]
    },
    {
      "cell_type": "code",
      "metadata": {
        "colab": {
          "base_uri": "https://localhost:8080/"
        },
        "id": "e7785dc6",
        "outputId": "6b7f374f-2313-436b-b3c2-f326e713c41c"
      },
      "source": [
        "print(\"For this task, we will use the flat 1+1 dimensional Minkowski spacetime metric.\")\n",
        "print(\"This metric is chosen for its simplicity, making it an ideal starting point to demonstrate the concept of geodesics without the complexities of a curved spacetime. In flat spacetime, geodesics are simply straight lines.\")\n",
        "print(\"The metric tensor for 1+1 dimensional Minkowski spacetime is given by:\")\n",
        "print(\"g_μν = [[-1, 0], [0, 1]]\")"
      ],
      "execution_count": 2,
      "outputs": [
        {
          "output_type": "stream",
          "name": "stdout",
          "text": [
            "For this task, we will use the flat 1+1 dimensional Minkowski spacetime metric.\n",
            "This metric is chosen for its simplicity, making it an ideal starting point to demonstrate the concept of geodesics without the complexities of a curved spacetime. In flat spacetime, geodesics are simply straight lines.\n",
            "The metric tensor for 1+1 dimensional Minkowski spacetime is given by:\n",
            "g_μν = [[-1, 0], [0, 1]]\n"
          ]
        }
      ]
    },
    {
      "cell_type": "markdown",
      "metadata": {
        "id": "917ed4fd"
      },
      "source": [
        "## Derive geodesic equations\n",
        "\n",
        "### Subtask:\n",
        "Derive the geodesic equations for the chosen metric. These are a set of second-order differential equations.\n"
      ]
    },
    {
      "cell_type": "markdown",
      "metadata": {
        "id": "21bfb8fe"
      },
      "source": [
        "**Reasoning**:\n",
        "Explain why the Christoffel symbols are zero for the chosen metric and write down the geodesic equation for flat spacetime.\n",
        "\n"
      ]
    },
    {
      "cell_type": "code",
      "metadata": {
        "colab": {
          "base_uri": "https://localhost:8080/"
        },
        "id": "c2d30fd1",
        "outputId": "9e0b908d-a57e-460e-f76c-25c83f7b23a7"
      },
      "source": [
        "print(\"For the flat 1+1 dimensional Minkowski spacetime, the metric tensor is constant.\")\n",
        "print(\"The Christoffel symbols are calculated from derivatives of the metric tensor. Since the metric tensor is constant, all its derivatives are zero. Therefore, all Christoffel symbols (Γᵂ_αβ) for flat spacetime are zero.\")\n",
        "print(\"\\nThe general form of the geodesic equation is:\")\n",
        "print(\"d²xᵂ/dλ² + Γᵂ_αβ (dxᵃ/dλ)(dxᵇ/dλ) = 0\")\n",
        "print(\"\\nSubstituting the zero Christoffel symbols into the geodesic equation for flat spacetime, we get:\")\n",
        "print(\"d²xᵂ/dλ² + 0 * (dxᵃ/dλ)(dxᵇ/dλ) = 0\")\n",
        "print(\"Which simplifies to:\")\n",
        "print(\"d²xᵂ/dλ² = 0\")\n",
        "print(\"\\nThis simplified geodesic equation for flat 1+1 spacetime implies that the second derivative of the spacetime coordinates (time and spatial position) with respect to the affine parameter is zero. This means the velocity (first derivative) of the free-falling object with respect to the affine parameter is constant, and therefore the free-falling object moves along a straight line in spacetime.\")"
      ],
      "execution_count": 3,
      "outputs": [
        {
          "output_type": "stream",
          "name": "stdout",
          "text": [
            "For the flat 1+1 dimensional Minkowski spacetime, the metric tensor is constant.\n",
            "The Christoffel symbols are calculated from derivatives of the metric tensor. Since the metric tensor is constant, all its derivatives are zero. Therefore, all Christoffel symbols (Γᵂ_αβ) for flat spacetime are zero.\n",
            "\n",
            "The general form of the geodesic equation is:\n",
            "d²xᵂ/dλ² + Γᵂ_αβ (dxᵃ/dλ)(dxᵇ/dλ) = 0\n",
            "\n",
            "Substituting the zero Christoffel symbols into the geodesic equation for flat spacetime, we get:\n",
            "d²xᵂ/dλ² + 0 * (dxᵃ/dλ)(dxᵇ/dλ) = 0\n",
            "Which simplifies to:\n",
            "d²xᵂ/dλ² = 0\n",
            "\n",
            "This simplified geodesic equation for flat 1+1 spacetime implies that the second derivative of the spacetime coordinates (time and spatial position) with respect to the affine parameter is zero. This means the velocity (first derivative) of the free-falling object with respect to the affine parameter is constant, and therefore the free-falling object moves along a straight line in spacetime.\n"
          ]
        }
      ]
    },
    {
      "cell_type": "markdown",
      "metadata": {
        "id": "f9eec93b"
      },
      "source": [
        "## Choose a numerical solver\n",
        "\n",
        "### Subtask:\n",
        "Select an appropriate numerical method to solve the geodesic equations (e.g., Runge-Kutta method).\n"
      ]
    },
    {
      "cell_type": "markdown",
      "metadata": {
        "id": "abb6859b"
      },
      "source": [
        "**Reasoning**:\n",
        "State the chosen numerical solver and briefly explain why it is suitable for solving the derived geodesic equations.\n",
        "\n"
      ]
    },
    {
      "cell_type": "code",
      "metadata": {
        "colab": {
          "base_uri": "https://localhost:8080/"
        },
        "id": "9f24209a",
        "outputId": "817be037-0a45-436a-f70b-91293de8384b"
      },
      "source": [
        "print(\"To solve the derived geodesic equation d²xᵂ/dλ² = 0, we can use numerical methods. For this task, we will use the Runge-Kutta method, specifically the fourth-order Runge-Kutta method (RK4).\")\n",
        "print(\"\\nRK4 is a widely used and robust numerical method for solving ordinary differential equations (ODEs). Although the derived geodesic equation for flat spacetime is simple and can be solved analytically, RK4 is a suitable choice for demonstrating the process of numerically solving geodesic equations. This method is general enough to be applied to more complex geodesic equations that arise from curved spacetimes, where analytical solutions are often not available. RK4 provides a good balance between accuracy and computational cost.\")"
      ],
      "execution_count": 4,
      "outputs": [
        {
          "output_type": "stream",
          "name": "stdout",
          "text": [
            "To solve the derived geodesic equation d²xᵂ/dλ² = 0, we can use numerical methods. For this task, we will use the Runge-Kutta method, specifically the fourth-order Runge-Kutta method (RK4).\n",
            "\n",
            "RK4 is a widely used and robust numerical method for solving ordinary differential equations (ODEs). Although the derived geodesic equation for flat spacetime is simple and can be solved analytically, RK4 is a suitable choice for demonstrating the process of numerically solving geodesic equations. This method is general enough to be applied to more complex geodesic equations that arise from curved spacetimes, where analytical solutions are often not available. RK4 provides a good balance between accuracy and computational cost.\n"
          ]
        }
      ]
    },
    {
      "cell_type": "markdown",
      "metadata": {
        "id": "3ce3b327"
      },
      "source": [
        "## Implement the solver\n",
        "\n",
        "### Subtask:\n",
        "Write code to implement the chosen numerical solver (RK4).\n"
      ]
    },
    {
      "cell_type": "markdown",
      "metadata": {
        "id": "7c55d597"
      },
      "source": [
        "**Reasoning**:\n",
        "Define the ODE system and implement the RK4 method as specified in the instructions.\n",
        "\n"
      ]
    },
    {
      "cell_type": "code",
      "metadata": {
        "colab": {
          "base_uri": "https://localhost:8080/"
        },
        "id": "cf550f73",
        "outputId": "97489949-7abe-4bd5-f6ba-f06253f61d6b"
      },
      "source": [
        "def ode_system(state, lambda_param):\n",
        "  \"\"\"\n",
        "  Represents the system of first-order ODEs for the geodesic equation in 1+1 flat spacetime.\n",
        "\n",
        "  Args:\n",
        "    state: A list or array containing the current values of the dependent variables\n",
        "           [x, v], where x is the position and v is the velocity dx/dλ.\n",
        "    lambda_param: The current value of the affine parameter λ (not used in this\n",
        "                  flat spacetime case, but included for generality).\n",
        "\n",
        "  Returns:\n",
        "    A list or array containing the derivatives of the dependent variables\n",
        "    [dx/dλ, dv/dλ].\n",
        "  \"\"\"\n",
        "  x, v = state\n",
        "  dxdlambda = v\n",
        "  dvdlambda = 0  # From the geodesic equation d²x/dλ² = 0\n",
        "  return [dxdlambda, dvdlambda]\n",
        "\n",
        "def rk4_step(current_state, dlambda, ode_func):\n",
        "  \"\"\"\n",
        "  Performs one step of the RK4 method to solve the ODE system.\n",
        "\n",
        "  Args:\n",
        "    current_state: The current state [x, v].\n",
        "    dlambda: The step size for the affine parameter.\n",
        "    ode_func: The function representing the ODE system.\n",
        "\n",
        "  Returns:\n",
        "    The updated state [x_new, v_new] after one RK4 step.\n",
        "  \"\"\"\n",
        "  k1 = [dlambda * val for val in ode_func(current_state, None)]\n",
        "  k2_state = [current_state[i] + 0.5 * k1[i] for i in range(len(current_state))]\n",
        "  k2 = [dlambda * val for val in ode_func(k2_state, None)]\n",
        "  k3_state = [current_state[i] + 0.5 * k2[i] for i in range(len(current_state))]\n",
        "  k3 = [dlambda * val for val in ode_func(k3_state, None)]\n",
        "  k4_state = [current_state[i] + k3[i] for i in range(len(current_state))]\n",
        "  k4 = [dlambda * val for val in ode_func(k4_state, None)]\n",
        "\n",
        "  next_state = [current_state[i] + (k1[i] + 2*k2[i] + 2*k3[i] + k4[i]) / 6.0 for i in range(len(current_state))]\n",
        "  return next_state\n",
        "\n",
        "print(\"ODE system function 'ode_system' and RK4 step function 'rk4_step' have been defined.\")"
      ],
      "execution_count": 5,
      "outputs": [
        {
          "output_type": "stream",
          "name": "stdout",
          "text": [
            "ODE system function 'ode_system' and RK4 step function 'rk4_step' have been defined.\n"
          ]
        }
      ]
    },
    {
      "cell_type": "markdown",
      "metadata": {
        "id": "d131c09d"
      },
      "source": [
        "## Define initial conditions\n",
        "\n",
        "### Subtask:\n",
        "Specify the initial position and velocity of the free-falling object.\n"
      ]
    },
    {
      "cell_type": "markdown",
      "metadata": {
        "id": "dcfb2b59"
      },
      "source": [
        "**Reasoning**:\n",
        "Define the initial state (position and velocity) of the free-falling object and print it.\n",
        "\n"
      ]
    },
    {
      "cell_type": "code",
      "metadata": {
        "colab": {
          "base_uri": "https://localhost:8080/"
        },
        "id": "8b2e777f",
        "outputId": "e42a7257-b788-4f92-edf8-52d663fd9776"
      },
      "source": [
        "# 1. Define a list or array named initial_state containing the initial values\n",
        "#    for the dependent variables [x, v].\n",
        "# 2. Choose appropriate numerical values for the initial position and initial velocity.\n",
        "initial_x = 0.0  # Starting position at x = 0\n",
        "initial_v = 1.0  # Initial velocity in the positive x direction\n",
        "initial_state = [initial_x, initial_v]\n",
        "\n",
        "# 3. Print the defined initial_state to confirm the values.\n",
        "print(f\"Initial state [position, velocity]: {initial_state}\")"
      ],
      "execution_count": 6,
      "outputs": [
        {
          "output_type": "stream",
          "name": "stdout",
          "text": [
            "Initial state [position, velocity]: [0.0, 1.0]\n"
          ]
        }
      ]
    },
    {
      "cell_type": "markdown",
      "metadata": {
        "id": "da24f826"
      },
      "source": [
        "## Solve the equations\n",
        "\n",
        "### Subtask:\n",
        "Use the solver to find the position of the object at different times.\n"
      ]
    },
    {
      "cell_type": "markdown",
      "metadata": {
        "id": "bb0e70b0"
      },
      "source": [
        "**Reasoning**:\n",
        "Implement the simulation loop to calculate the position and velocity at different times using the defined `rk4_step` function and store the results.\n",
        "\n"
      ]
    },
    {
      "cell_type": "code",
      "metadata": {
        "colab": {
          "base_uri": "https://localhost:8080/"
        },
        "id": "078748c1",
        "outputId": "e633d0ed-c8de-4505-a48d-b14b18d3943c"
      },
      "source": [
        "# 1. Initialize an empty list or array to store the calculated states (position and velocity) at each step.\n",
        "states = []\n",
        "# Add the initial_state to this list.\n",
        "states.append(initial_state)\n",
        "\n",
        "# 2. Choose a step size for the affine parameter (dlambda) and a total number of steps.\n",
        "dlambda = 0.1  # Step size\n",
        "num_steps = 100  # Total number of steps\n",
        "\n",
        "# 3. Loop for the specified number of steps.\n",
        "current_state = initial_state\n",
        "for i in range(num_steps):\n",
        "  # Use the rk4_step function to calculate the next state.\n",
        "  next_state = rk4_step(current_state, dlambda, ode_system)\n",
        "  # Append the calculated next state to the list storing the states.\n",
        "  states.append(next_state)\n",
        "  # Update the current state to the newly calculated next state for the next iteration.\n",
        "  current_state = next_state\n",
        "\n",
        "# 4. After the loop, extract the position values and the corresponding affine parameter values.\n",
        "positions = [state[0] for state in states]\n",
        "# The affine parameter values are simply the step number multiplied by the step size.\n",
        "affine_parameters = [i * dlambda for i in range(num_steps + 1)]\n",
        "\n",
        "# 5. Store the extracted position values and affine parameter values in separate lists or arrays (already done in step 4).\n",
        "# Print the first few calculated positions and affine parameters to verify.\n",
        "print(\"First 5 calculated positions:\", positions[:5])\n",
        "print(\"First 5 affine parameter values:\", affine_parameters[:5])"
      ],
      "execution_count": 7,
      "outputs": [
        {
          "output_type": "stream",
          "name": "stdout",
          "text": [
            "First 5 calculated positions: [0.0, 0.09999999999999999, 0.19999999999999998, 0.3, 0.39999999999999997]\n",
            "First 5 affine parameter values: [0.0, 0.1, 0.2, 0.30000000000000004, 0.4]\n"
          ]
        }
      ]
    },
    {
      "cell_type": "markdown",
      "metadata": {
        "id": "3c316fdd"
      },
      "source": [
        "## Visualize the path\n",
        "\n",
        "### Subtask:\n",
        "Plot the calculated path of the object in spacetime.\n"
      ]
    },
    {
      "cell_type": "markdown",
      "metadata": {
        "id": "05625bfd"
      },
      "source": [
        "**Reasoning**:\n",
        "Plot the calculated position values against the affine parameter values using matplotlib, adding labels, a title, and a grid as requested.\n",
        "\n"
      ]
    },
    {
      "cell_type": "code",
      "metadata": {
        "colab": {
          "base_uri": "https://localhost:8080/",
          "height": 500
        },
        "id": "19be88ca",
        "outputId": "55997d75-732d-4d77-ded9-5e3291fa2d47"
      },
      "source": [
        "import matplotlib.pyplot as plt\n",
        "\n",
        "# Create the plot\n",
        "plt.figure(figsize=(10, 6)) # Optional: Adjust figure size\n",
        "plt.plot(affine_parameters, positions)\n",
        "\n",
        "# Add labels and title\n",
        "plt.xlabel(\"Affine Parameter (λ)\")\n",
        "plt.ylabel(\"Position (x)\")\n",
        "plt.title(\"Geodesic Path in 1+1 Flat Spacetime\")\n",
        "\n",
        "# Add a grid\n",
        "plt.grid(True)\n",
        "\n",
        "# Display the plot\n",
        "plt.show()"
      ],
      "execution_count": 8,
      "outputs": [
        {
          "output_type": "display_data",
          "data": {
            "text/plain": [
              "<Figure size 1000x600 with 1 Axes>"
            ],
            "image/png": "[encoded data removed]"
          },
          "metadata": {}
        }
      ]
    },
    {
      "cell_type": "markdown",
      "metadata": {
        "id": "ec41459b"
      },
      "source": [
        "## Add interactivity (optional)\n",
        "\n",
        "### Subtask:\n",
        "Allow users to change initial conditions or spacetime parameters and see how the path changes.\n"
      ]
    },
    {
      "cell_type": "markdown",
      "metadata": {
        "id": "8f1e6966"
      },
      "source": [
        "**Reasoning**:\n",
        "Define a function to encapsulate the geodesic calculation and plotting, and then use ipywidgets to create interactive controls and link them to the function using `interact`.\n",
        "\n"
      ]
    },
    {
      "cell_type": "code",
      "metadata": {
        "colab": {
          "base_uri": "https://localhost:8080/",
          "height": 628,
          "referenced_widgets": [
            "e2104b0ca4a24171a8666c8c9aa0395d",
            "bba6ea06047c4eea9bb00cce678d0940",
            "f3319211a2354b6895bb85844df35cf8",
            "e9d5a62d8a1b4b32a557f58966b55329",
            "a4115933104e402092aa4d56998296f9",
            "19b3ca7b9b094a21949290c10c636f98",
            "5f27c17ee4f94b7caecd1d7adf163113",
            "665969e4f51d4030a9cd30d87374a0fa",
            "426c6dcc00fd4d6bbaf494936e448b98",
            "03bed337784a44528fc2977780c98ba8",
            "04fc08c37f16410eb4a3a02fd523f61c",
            "1b6b4870ad6b4edaacc1651b6ec75bbf",
            "9e18a4b0962b49dab793b9bc52e75b15",
            "1820b4b90e28476e83eeec685ebfaccc",
            "c666b18263204ac089ba252f15465b17",
            "291ea7e65a674fa79e3372d7ded3fc82"
          ]
        },
        "id": "d2f05082",
        "outputId": "44025b8e-4782-4a7b-b7c3-79aa24f15998"
      },
      "source": [
        "import matplotlib.pyplot as plt\n",
        "import ipywidgets as widgets\n",
        "from ipywidgets import interact, FloatSlider, IntSlider\n",
        "\n",
        "def plot_geodesic(initial_x, initial_v, dlambda, num_steps):\n",
        "    \"\"\"\n",
        "    Calculates and plots the geodesic path for given initial conditions and parameters.\n",
        "\n",
        "    Args:\n",
        "        initial_x: Initial position.\n",
        "        initial_v: Initial velocity.\n",
        "        dlambda: Step size for the affine parameter.\n",
        "        num_steps: Total number of steps.\n",
        "    \"\"\"\n",
        "    initial_state = [initial_x, initial_v]\n",
        "    states = [initial_state]\n",
        "\n",
        "    current_state = initial_state\n",
        "    for i in range(num_steps):\n",
        "        next_state = rk4_step(current_state, dlambda, ode_system)\n",
        "        states.append(next_state)\n",
        "        current_state = next_state\n",
        "\n",
        "    positions = [state[0] for state in states]\n",
        "    affine_parameters = [i * dlambda for i in range(num_steps + 1)]\n",
        "\n",
        "    plt.figure(figsize=(10, 6))\n",
        "    plt.plot(affine_parameters, positions)\n",
        "    plt.xlabel(\"Affine Parameter (λ)\")\n",
        "    plt.ylabel(\"Position (x)\")\n",
        "    plt.title(\"Geodesic Path in 1+1 Flat Spacetime\")\n",
        "    plt.grid(True)\n",
        "    plt.show()\n",
        "\n",
        "# Create interactive widgets\n",
        "initial_x_slider = FloatSlider(min=-10.0, max=10.0, step=0.1, value=0.0, description='Initial X:')\n",
        "initial_v_slider = FloatSlider(min=-10.0, max=10.0, step=0.1, value=1.0, description='Initial V:')\n",
        "dlambda_slider = FloatSlider(min=0.01, max=1.0, step=0.01, value=0.1, description='dlambda:')\n",
        "num_steps_slider = IntSlider(min=10, max=500, step=10, value=100, description='Num Steps:')\n",
        "\n",
        "# Use interact to link the function to the widgets\n",
        "interact(plot_geodesic,\n",
        "         initial_x=initial_x_slider,\n",
        "         initial_v=initial_v_slider,\n",
        "         dlambda=dlambda_slider,\n",
        "         num_steps=num_steps_slider);"
      ],
      "execution_count": 9,
      "outputs": [
        {
          "output_type": "display_data",
          "data": {
            "text/plain": [
              "interactive(children=(FloatSlider(value=0.0, description='Initial X:', max=10.0, min=-10.0), FloatSlider(value…"
            ],
            "application/vnd.jupyter.widget-view+json": {
              "version_major": 2,
              "version_minor": 0,
              "model_id": "e2104b0ca4a24171a8666c8c9aa0395d"
            }
          },
          "metadata": {}
        }
      ]
    },
    {
      "cell_type": "markdown",
      "metadata": {
        "id": "22b912a7"
      },
      "source": [
        "## Summary:\n",
        "\n",
        "### Data Analysis Key Findings\n",
        "\n",
        "*   The concept of geodesics in 1+1 general relativity was explained as the path of free-falling objects in spacetime.\n",
        "*   The flat 1+1 dimensional Minkowski spacetime metric ($\\text{g}_{\\mu\\nu} = [[-1, 0], [0, 1]]$) was chosen for its simplicity.\n",
        "*   The geodesic equation for the chosen flat spacetime was derived as $\\text{d}^2\\text{x}^\\text{W}/\\text{d}\\lambda^2 = 0$, indicating straight lines in spacetime.\n",
        "*   The fourth-order Runge-Kutta (RK4) method was selected as the numerical solver for the geodesic equations, noted for its balance of accuracy and computational cost.\n",
        "*   An ODE system function and an RK4 step function were successfully implemented to numerically solve the geodesic equations.\n",
        "*   Initial conditions for the object's position (0.0) and velocity (1.0) were defined.\n",
        "*   The RK4 solver was used to calculate the object's position at different steps of the affine parameter, showing a linear increase in position as expected for flat spacetime.\n",
        "*   The calculated geodesic path (position vs. affine parameter) was successfully plotted using Matplotlib.\n",
        "*   Interactive widgets were implemented using `ipywidgets` to allow users to dynamically change initial conditions and simulation parameters and visualize the resulting changes in the geodesic path plot.\n",
        "\n",
        "### Insights or Next Steps\n",
        "\n",
        "*   While the current implementation focuses on flat spacetime, the chosen RK4 method and the structure of the code are general enough to be extended to solve geodesic equations in curved 1+1 spacetimes by modifying the `ode_system` function to include non-zero Christoffel symbols.\n",
        "*   The visualization could be enhanced by adding the time dimension to the plot (if the affine parameter is related to proper time) or by animating the object's movement along the geodesic path.\n"
      ]
    }
  ]
}