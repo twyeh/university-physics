{
  "nbformat": 4,
  "nbformat_minor": 0,
  "metadata": {
    "colab": {
      "provenance": [],
      "authorship_tag": "ABX9TyNSTPzJuGmpGBDOGkwN4z1+",
      "include_colab_link": true
    },
    "kernelspec": {
      "name": "python3",
      "display_name": "Python 3"
    },
    "language_info": {
      "name": "python"
    },
    "widgets": {
      "application/vnd.jupyter.widget-state+json": {
        "e2104b0ca4a24171a8666c8c9aa0395d": {
          "model_module": "@jupyter-widgets/controls",
          "model_name": "VBoxModel",
          "model_module_version": "1.5.0",
          "state": {
            "_dom_classes": [
              "widget-interact"
            ],
            "_model_module": "@jupyter-widgets/controls",
            "_model_module_version": "1.5.0",
            "_model_name": "VBoxModel",
            "_view_count": null,
            "_view_module": "@jupyter-widgets/controls",
            "_view_module_version": "1.5.0",
            "_view_name": "VBoxView",
            "box_style": "",
            "children": [
              "IPY_MODEL_bba6ea06047c4eea9bb00cce678d0940",
              "IPY_MODEL_f3319211a2354b6895bb85844df35cf8",
              "IPY_MODEL_e9d5a62d8a1b4b32a557f58966b55329",
              "IPY_MODEL_a4115933104e402092aa4d56998296f9",
              "IPY_MODEL_19b3ca7b9b094a21949290c10c636f98"
            ],
            "layout": "IPY_MODEL_5f27c17ee4f94b7caecd1d7adf163113"
          }
        },
        "bba6ea06047c4eea9bb00cce678d0940": {
          "model_module": "@jupyter-widgets/controls",
          "model_name": "FloatSliderModel",
          "model_module_version": "1.5.0",
          "state": {
            "_dom_classes": [],
            "_model_module": "@jupyter-widgets/controls",
            "_model_module_version": "1.5.0",
            "_model_name": "FloatSliderModel",
            "_view_count": null,
            "_view_module": "@jupyter-widgets/controls",
            "_view_module_version": "1.5.0",
            "_view_name": "FloatSliderView",
            "continuous_update": true,
            "description": "Initial X:",
            "description_tooltip": null,
            "disabled": false,
            "layout": "IPY_MODEL_665969e4f51d4030a9cd30d87374a0fa",
            "max": 10,
            "min": -10,
            "orientation": "horizontal",
            "readout": true,
            "readout_format": ".2f",
            "step": 0.1,
            "style": "IPY_MODEL_426c6dcc00fd4d6bbaf494936e448b98",
            "value": 3.9
          }
        },
        "f3319211a2354b6895bb85844df35cf8": {
          "model_module": "@jupyter-widgets/controls",
          "model_name": "FloatSliderModel",
          "model_module_version": "1.5.0",
          "state": {
            "_dom_classes": [],
            "_model_module": "@jupyter-widgets/controls",
            "_model_module_version": "1.5.0",
            "_model_name": "FloatSliderModel",
            "_view_count": null,
            "_view_module": "@jupyter-widgets/controls",
            "_view_module_version": "1.5.0",
            "_view_name": "FloatSliderView",
            "continuous_update": true,
            "description": "Initial V:",
            "description_tooltip": null,
            "disabled": false,
            "layout": "IPY_MODEL_03bed337784a44528fc2977780c98ba8",
            "max": 10,
            "min": -10,
            "orientation": "horizontal",
            "readout": true,
            "readout_format": ".2f",
            "step": 0.1,
            "style": "IPY_MODEL_04fc08c37f16410eb4a3a02fd523f61c",
            "value": 1
          }
        },
        "e9d5a62d8a1b4b32a557f58966b55329": {
          "model_module": "@jupyter-widgets/controls",
          "model_name": "FloatSliderModel",
          "model_module_version": "1.5.0",
          "state": {
            "_dom_classes": [],
            "_model_module": "@jupyter-widgets/controls",
            "_model_module_version": "1.5.0",
            "_model_name": "FloatSliderModel",
            "_view_count": null,
            "_view_module": "@jupyter-widgets/controls",
            "_view_module_version": "1.5.0",
            "_view_name": "FloatSliderView",
            "continuous_update": true,
            "description": "dlambda:",
            "description_tooltip": null,
            "disabled": false,
            "layout": "IPY_MODEL_1b6b4870ad6b4edaacc1651b6ec75bbf",
            "max": 1,
            "min": 0.01,
            "orientation": "horizontal",
            "readout": true,
            "readout_format": ".2f",
            "step": 0.01,
            "style": "IPY_MODEL_9e18a4b0962b49dab793b9bc52e75b15",
            "value": 0.1
          }
        },
        "a4115933104e402092aa4d56998296f9": {
          "model_module": "@jupyter-widgets/controls",
          "model_name": "IntSliderModel",
          "model_module_version": "1.5.0",
          "state": {
            "_dom_classes": [],
            "_model_module": "@jupyter-widgets/controls",
            "_model_module_version": "1.5.0",
            "_model_name": "IntSliderModel",
            "_view_count": null,
            "_view_module": "@jupyter-widgets/controls",
            "_view_module_version": "1.5.0",
            "_view_name": "IntSliderView",
            "continuous_update": true,
            "description": "Num Steps:",
            "description_tooltip": null,
            "disabled": false,
            "layout": "IPY_MODEL_1820b4b90e28476e83eeec685ebfaccc",
            "max": 500,
            "min": 10,
            "orientation": "horizontal",
            "readout": true,
            "readout_format": "d",
            "step": 10,
            "style": "IPY_MODEL_c666b18263204ac089ba252f15465b17",
            "value": 100
          }
        },
        "19b3ca7b9b094a21949290c10c636f98": {
          "model_module": "@jupyter-widgets/output",
          "model_name": "OutputModel",
          "model_module_version": "1.0.0",
          "state": {
            "_dom_classes": [],
            "_model_module": "@jupyter-widgets/output",
            "_model_module_version": "1.0.0",
            "_model_name": "OutputModel",
            "_view_count": null,
            "_view_module": "@jupyter-widgets/output",
            "_view_module_version": "1.0.0",
            "_view_name": "OutputView",
            "layout": "IPY_MODEL_291ea7e65a674fa79e3372d7ded3fc82",
            "msg_id": "",
            "outputs": [
              {
                "output_type": "display_data",
                "data": {
                  "text/plain": "<Figure size 1000x600 with 1 Axes>",
                  "image/png": "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\n"
                },
                "metadata": {}
              }
            ]
          }
        },
        "5f27c17ee4f94b7caecd1d7adf163113": {
          "model_module": "@jupyter-widgets/base",
          "model_name": "LayoutModel",
          "model_module_version": "1.2.0",
          "state": {
            "_model_module": "@jupyter-widgets/base",
            "_model_module_version": "1.2.0",
            "_model_name": "LayoutModel",
            "_view_count": null,
            "_view_module": "@jupyter-widgets/base",
            "_view_module_version": "1.2.0",
            "_view_name": "LayoutView",
            "align_content": null,
            "align_items": null,
            "align_self": null,
            "border": null,
            "bottom": null,
            "display": null,
            "flex": null,
            "flex_flow": null,
            "grid_area": null,
            "grid_auto_columns": null,
            "grid_auto_flow": null,
            "grid_auto_rows": null,
            "grid_column": null,
            "grid_gap": null,
            "grid_row": null,
            "grid_template_areas": null,
            "grid_template_columns": null,
            "grid_template_rows": null,
            "height": null,
            "justify_content": null,
            "justify_items": null,
            "left": null,
            "margin": null,
            "max_height": null,
            "max_width": null,
            "min_height": null,
            "min_width": null,
            "object_fit": null,
            "object_position": null,
            "order": null,
            "overflow": null,
            "overflow_x": null,
            "overflow_y": null,
            "padding": null,
            "right": null,
            "top": null,
            "visibility": null,
            "width": null
          }
        },
        "665969e4f51d4030a9cd30d87374a0fa": {
          "model_module": "@jupyter-widgets/base",
          "model_name": "LayoutModel",
          "model_module_version": "1.2.0",
          "state": {
            "_model_module": "@jupyter-widgets/base",
            "_model_module_version": "1.2.0",
            "_model_name": "LayoutModel",
            "_view_count": null,
            "_view_module": "@jupyter-widgets/base",
            "_view_module_version": "1.2.0",
            "_view_name": "LayoutView",
            "align_content": null,
            "align_items": null,
            "align_self": null,
            "border": null,
            "bottom": null,
            "display": null,
            "flex": null,
            "flex_flow": null,
            "grid_area": null,
            "grid_auto_columns": null,
            "grid_auto_flow": null,
            "grid_auto_rows": null,
            "grid_column": null,
            "grid_gap": null,
            "grid_row": null,
            "grid_template_areas": null,
            "grid_template_columns": null,
            "grid_template_rows": null,
            "height": null,
            "justify_content": null,
            "justify_items": null,
            "left": null,
            "margin": null,
            "max_height": null,
            "max_width": null,
            "min_height": null,
            "min_width": null,
            "object_fit": null,
            "object_position": null,
            "order": null,
            "overflow": null,
            "overflow_x": null,
            "overflow_y": null,
            "padding": null,
            "right": null,
            "top": null,
            "visibility": null,
            "width": null
          }
        },
        "426c6dcc00fd4d6bbaf494936e448b98": {
          "model_module": "@jupyter-widgets/controls",
          "model_name": "SliderStyleModel",
          "model_module_version": "1.5.0",
          "state": {
            "_model_module": "@jupyter-widgets/controls",
            "_model_module_version": "1.5.0",
            "_model_name": "SliderStyleModel",
            "_view_count": null,
            "_view_module": "@jupyter-widgets/base",
            "_view_module_version": "1.2.0",
            "_view_name": "StyleView",
            "description_width": "",
            "handle_color": null
          }
        },
        "03bed337784a44528fc2977780c98ba8": {
          "model_module": "@jupyter-widgets/base",
          "model_name": "LayoutModel",
          "model_module_version": "1.2.0",
          "state": {
            "_model_module": "@jupyter-widgets/base",
            "_model_module_version": "1.2.0",
            "_model_name": "LayoutModel",
            "_view_count": null,
            "_view_module": "@jupyter-widgets/base",
            "_view_module_version": "1.2.0",
            "_view_name": "LayoutView",
            "align_content": null,
            "align_items": null,
            "align_self": null,
            "border": null,
            "bottom": null,
            "display": null,
            "flex": null,
            "flex_flow": null,
            "grid_area": null,
            "grid_auto_columns": null,
            "grid_auto_flow": null,
            "grid_auto_rows": null,
            "grid_column": null,
            "grid_gap": null,
            "grid_row": null,
            "grid_template_areas": null,
            "grid_template_columns": null,
            "grid_template_rows": null,
            "height": null,
            "justify_content": null,
            "justify_items": null,
            "left": null,
            "margin": null,
            "max_height": null,
            "max_width": null,
            "min_height": null,
            "min_width": null,
            "object_fit": null,
            "object_position": null,
            "order": null,
            "overflow": null,
            "overflow_x": null,
            "overflow_y": null,
            "padding": null,
            "right": null,
            "top": null,
            "visibility": null,
            "width": null
          }
        },
        "04fc08c37f16410eb4a3a02fd523f61c": {
          "model_module": "@jupyter-widgets/controls",
          "model_name": "SliderStyleModel",
          "model_module_version": "1.5.0",
          "state": {
            "_model_module": "@jupyter-widgets/controls",
            "_model_module_version": "1.5.0",
            "_model_name": "SliderStyleModel",
            "_view_count": null,
            "_view_module": "@jupyter-widgets/base",
            "_view_module_version": "1.2.0",
            "_view_name": "StyleView",
            "description_width": "",
            "handle_color": null
          }
        },
        "1b6b4870ad6b4edaacc1651b6ec75bbf": {
          "model_module": "@jupyter-widgets/base",
          "model_name": "LayoutModel",
          "model_module_version": "1.2.0",
          "state": {
            "_model_module": "@jupyter-widgets/base",
            "_model_module_version": "1.2.0",
            "_model_name": "LayoutModel",
            "_view_count": null,
            "_view_module": "@jupyter-widgets/base",
            "_view_module_version": "1.2.0",
            "_view_name": "LayoutView",
            "align_content": null,
            "align_items": null,
            "align_self": null,
            "border": null,
            "bottom": null,
            "display": null,
            "flex": null,
            "flex_flow": null,
            "grid_area": null,
            "grid_auto_columns": null,
            "grid_auto_flow": null,
            "grid_auto_rows": null,
            "grid_column": null,
            "grid_gap": null,
            "grid_row": null,
            "grid_template_areas": null,
            "grid_template_columns": null,
            "grid_template_rows": null,
            "height": null,
            "justify_content": null,
            "justify_items": null,
            "left": null,
            "margin": null,
            "max_height": null,
            "max_width": null,
            "min_height": null,
            "min_width": null,
            "object_fit": null,
            "object_position": null,
            "order": null,
            "overflow": null,
            "overflow_x": null,
            "overflow_y": null,
            "padding": null,
            "right": null,
            "top": null,
            "visibility": null,
            "width": null
          }
        },
        "9e18a4b0962b49dab793b9bc52e75b15": {
          "model_module": "@jupyter-widgets/controls",
          "model_name": "SliderStyleModel",
          "model_module_version": "1.5.0",
          "state": {
            "_model_module": "@jupyter-widgets/controls",
            "_model_module_version": "1.5.0",
            "_model_name": "SliderStyleModel",
            "_view_count": null,
            "_view_module": "@jupyter-widgets/base",
            "_view_module_version": "1.2.0",
            "_view_name": "StyleView",
            "description_width": "",
            "handle_color": null
          }
        },
        "1820b4b90e28476e83eeec685ebfaccc": {
          "model_module": "@jupyter-widgets/base",
          "model_name": "LayoutModel",
          "model_module_version": "1.2.0",
          "state": {
            "_model_module": "@jupyter-widgets/base",
            "_model_module_version": "1.2.0",
            "_model_name": "LayoutModel",
            "_view_count": null,
            "_view_module": "@jupyter-widgets/base",
            "_view_module_version": "1.2.0",
            "_view_name": "LayoutView",
            "align_content": null,
            "align_items": null,
            "align_self": null,
            "border": null,
            "bottom": null,
            "display": null,
            "flex": null,
            "flex_flow": null,
            "grid_area": null,
            "grid_auto_columns": null,
            "grid_auto_flow": null,
            "grid_auto_rows": null,
            "grid_column": null,
            "grid_gap": null,
            "grid_row": null,
            "grid_template_areas": null,
            "grid_template_columns": null,
            "grid_template_rows": null,
            "height": null,
            "justify_content": null,
            "justify_items": null,
            "left": null,
            "margin": null,
            "max_height": null,
            "max_width": null,
            "min_height": null,
            "min_width": null,
            "object_fit": null,
            "object_position": null,
            "order": null,
            "overflow": null,
            "overflow_x": null,
            "overflow_y": null,
            "padding": null,
            "right": null,
            "top": null,
            "visibility": null,
            "width": null
          }
        },
        "c666b18263204ac089ba252f15465b17": {
          "model_module": "@jupyter-widgets/controls",
          "model_name": "SliderStyleModel",
          "model_module_version": "1.5.0",
          "state": {
            "_model_module": "@jupyter-widgets/controls",
            "_model_module_version": "1.5.0",
            "_model_name": "SliderStyleModel",
            "_view_count": null,
            "_view_module": "@jupyter-widgets/base",
            "_view_module_version": "1.2.0",
            "_view_name": "StyleView",
            "description_width": "",
            "handle_color": null
          }
        },
        "291ea7e65a674fa79e3372d7ded3fc82": {
          "model_module": "@jupyter-widgets/base",
          "model_name": "LayoutModel",
          "model_module_version": "1.2.0",
          "state": {
            "_model_module": "@jupyter-widgets/base",
            "_model_module_version": "1.2.0",
            "_model_name": "LayoutModel",
            "_view_count": null,
            "_view_module": "@jupyter-widgets/base",
            "_view_module_version": "1.2.0",
            "_view_name": "LayoutView",
            "align_content": null,
            "align_items": null,
            "align_self": null,
            "border": null,
            "bottom": null,
            "display": null,
            "flex": null,
            "flex_flow": null,
            "grid_area": null,
            "grid_auto_columns": null,
            "grid_auto_flow": null,
            "grid_auto_rows": null,
            "grid_column": null,
            "grid_gap": null,
            "grid_row": null,
            "grid_template_areas": null,
            "grid_template_columns": null,
            "grid_template_rows": null,
            "height": null,
            "justify_content": null,
            "justify_items": null,
            "left": null,
            "margin": null,
            "max_height": null,
            "max_width": null,
            "min_height": null,
            "min_width": null,
            "object_fit": null,
            "object_position": null,
            "order": null,
            "overflow": null,
            "overflow_x": null,
            "overflow_y": null,
            "padding": null,
            "right": null,
            "top": null,
            "visibility": null,
            "width": null
          }
        },
        "3ad257d34fce4e7c8e0168135a0f06f7": {
          "model_module": "@jupyter-widgets/controls",
          "model_name": "VBoxModel",
          "model_module_version": "1.5.0",
          "state": {
            "_dom_classes": [
              "widget-interact"
            ],
            "_model_module": "@jupyter-widgets/controls",
            "_model_module_version": "1.5.0",
            "_model_name": "VBoxModel",
            "_view_count": null,
            "_view_module": "@jupyter-widgets/controls",
            "_view_module_version": "1.5.0",
            "_view_name": "VBoxView",
            "box_style": "",
            "children": [
              "IPY_MODEL_ea3777c4f0ef4f7cbbcf88ebb779150d",
              "IPY_MODEL_07fd6009bc4b4ee49237d052a246fe6e",
              "IPY_MODEL_66e3f1a3db074225a1cd6e444121c8f6",
              "IPY_MODEL_4dd7e48a11b94b1a993a660921a854bf",
              "IPY_MODEL_5255de101dae4bcdb71897349aa2eb2a"
            ],
            "layout": "IPY_MODEL_752f835cc14b491ab756de566782e34b"
          }
        },
        "ea3777c4f0ef4f7cbbcf88ebb779150d": {
          "model_module": "@jupyter-widgets/controls",
          "model_name": "FloatSliderModel",
          "model_module_version": "1.5.0",
          "state": {
            "_dom_classes": [],
            "_model_module": "@jupyter-widgets/controls",
            "_model_module_version": "1.5.0",
            "_model_name": "FloatSliderModel",
            "_view_count": null,
            "_view_module": "@jupyter-widgets/controls",
            "_view_module_version": "1.5.0",
            "_view_name": "FloatSliderView",
            "continuous_update": true,
            "description": "Initial X:",
            "description_tooltip": null,
            "disabled": false,
            "layout": "IPY_MODEL_dca2f7e26e2f423dafde3fd8e0b60a80",
            "max": 10,
            "min": -10,
            "orientation": "horizontal",
            "readout": true,
            "readout_format": ".2f",
            "step": 0.1,
            "style": "IPY_MODEL_e21aaaedc1aa4d9591f593c2535896ef",
            "value": 5
          }
        },
        "07fd6009bc4b4ee49237d052a246fe6e": {
          "model_module": "@jupyter-widgets/controls",
          "model_name": "FloatSliderModel",
          "model_module_version": "1.5.0",
          "state": {
            "_dom_classes": [],
            "_model_module": "@jupyter-widgets/controls",
            "_model_module_version": "1.5.0",
            "_model_name": "FloatSliderModel",
            "_view_count": null,
            "_view_module": "@jupyter-widgets/controls",
            "_view_module_version": "1.5.0",
            "_view_name": "FloatSliderView",
            "continuous_update": true,
            "description": "Initial V:",
            "description_tooltip": null,
            "disabled": false,
            "layout": "IPY_MODEL_15d73d2ff5374a159af0023cc171458e",
            "max": 10,
            "min": -10,
            "orientation": "horizontal",
            "readout": true,
            "readout_format": ".2f",
            "step": 0.1,
            "style": "IPY_MODEL_f520df8c425c4b15a0276223e6d11c54",
            "value": 0
          }
        },
        "66e3f1a3db074225a1cd6e444121c8f6": {
          "model_module": "@jupyter-widgets/controls",
          "model_name": "FloatSliderModel",
          "model_module_version": "1.5.0",
          "state": {
            "_dom_classes": [],
            "_model_module": "@jupyter-widgets/controls",
            "_model_module_version": "1.5.0",
            "_model_name": "FloatSliderModel",
            "_view_count": null,
            "_view_module": "@jupyter-widgets/controls",
            "_view_module_version": "1.5.0",
            "_view_name": "FloatSliderView",
            "continuous_update": true,
            "description": "dlambda:",
            "description_tooltip": null,
            "disabled": false,
            "layout": "IPY_MODEL_f93385c02e014357935a6a25ca7153bb",
            "max": 1,
            "min": 0.01,
            "orientation": "horizontal",
            "readout": true,
            "readout_format": ".2f",
            "step": 0.01,
            "style": "IPY_MODEL_be23e92f511241778a3d366450de064f",
            "value": 0.1
          }
        },
        "4dd7e48a11b94b1a993a660921a854bf": {
          "model_module": "@jupyter-widgets/controls",
          "model_name": "IntSliderModel",
          "model_module_version": "1.5.0",
          "state": {
            "_dom_classes": [],
            "_model_module": "@jupyter-widgets/controls",
            "_model_module_version": "1.5.0",
            "_model_name": "IntSliderModel",
            "_view_count": null,
            "_view_module": "@jupyter-widgets/controls",
            "_view_module_version": "1.5.0",
            "_view_name": "IntSliderView",
            "continuous_update": true,
            "description": "Num Steps:",
            "description_tooltip": null,
            "disabled": false,
            "layout": "IPY_MODEL_5d83f5e3183a4278b24ece1e4d0af9a5",
            "max": 500,
            "min": 10,
            "orientation": "horizontal",
            "readout": true,
            "readout_format": "d",
            "step": 10,
            "style": "IPY_MODEL_27bfa2c626884b0cbe997236c52843d5",
            "value": 100
          }
        },
        "5255de101dae4bcdb71897349aa2eb2a": {
          "model_module": "@jupyter-widgets/output",
          "model_name": "OutputModel",
          "model_module_version": "1.0.0",
          "state": {
            "_dom_classes": [],
            "_model_module": "@jupyter-widgets/output",
            "_model_module_version": "1.0.0",
            "_model_name": "OutputModel",
            "_view_count": null,
            "_view_module": "@jupyter-widgets/output",
            "_view_module_version": "1.0.0",
            "_view_name": "OutputView",
            "layout": "IPY_MODEL_8524391565da4c60b1b8a16c867afb8c",
            "msg_id": "",
            "outputs": [
              {
                "output_type": "display_data",
                "data": {
                  "text/plain": "<Figure size 1000x600 with 1 Axes>",
                  "image/png": "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\n"
                },
                "metadata": {}
              }
            ]
          }
        },
        "752f835cc14b491ab756de566782e34b": {
          "model_module": "@jupyter-widgets/base",
          "model_name": "LayoutModel",
          "model_module_version": "1.2.0",
          "state": {
            "_model_module": "@jupyter-widgets/base",
            "_model_module_version": "1.2.0",
            "_model_name": "LayoutModel",
            "_view_count": null,
            "_view_module": "@jupyter-widgets/base",
            "_view_module_version": "1.2.0",
            "_view_name": "LayoutView",
            "align_content": null,
            "align_items": null,
            "align_self": null,
            "border": null,
            "bottom": null,
            "display": null,
            "flex": null,
            "flex_flow": null,
            "grid_area": null,
            "grid_auto_columns": null,
            "grid_auto_flow": null,
            "grid_auto_rows": null,
            "grid_column": null,
            "grid_gap": null,
            "grid_row": null,
            "grid_template_areas": null,
            "grid_template_columns": null,
            "grid_template_rows": null,
            "height": null,
            "justify_content": null,
            "justify_items": null,
            "left": null,
            "margin": null,
            "max_height": null,
            "max_width": null,
            "min_height": null,
            "min_width": null,
            "object_fit": null,
            "object_position": null,
            "order": null,
            "overflow": null,
            "overflow_x": null,
            "overflow_y": null,
            "padding": null,
            "right": null,
            "top": null,
            "visibility": null,
            "width": null
          }
        },
        "dca2f7e26e2f423dafde3fd8e0b60a80": {
          "model_module": "@jupyter-widgets/base",
          "model_name": "LayoutModel",
          "model_module_version": "1.2.0",
          "state": {
            "_model_module": "@jupyter-widgets/base",
            "_model_module_version": "1.2.0",
            "_model_name": "LayoutModel",
            "_view_count": null,
            "_view_module": "@jupyter-widgets/base",
            "_view_module_version": "1.2.0",
            "_view_name": "LayoutView",
            "align_content": null,
            "align_items": null,
            "align_self": null,
            "border": null,
            "bottom": null,
            "display": null,
            "flex": null,
            "flex_flow": null,
            "grid_area": null,
            "grid_auto_columns": null,
            "grid_auto_flow": null,
            "grid_auto_rows": null,
            "grid_column": null,
            "grid_gap": null,
            "grid_row": null,
            "grid_template_areas": null,
            "grid_template_columns": null,
            "grid_template_rows": null,
            "height": null,
            "justify_content": null,
            "justify_items": null,
            "left": null,
            "margin": null,
            "max_height": null,
            "max_width": null,
            "min_height": null,
            "min_width": null,
            "object_fit": null,
            "object_position": null,
            "order": null,
            "overflow": null,
            "overflow_x": null,
            "overflow_y": null,
            "padding": null,
            "right": null,
            "top": null,
            "visibility": null,
            "width": null
          }
        },
        "e21aaaedc1aa4d9591f593c2535896ef": {
          "model_module": "@jupyter-widgets/controls",
          "model_name": "SliderStyleModel",
          "model_module_version": "1.5.0",
          "state": {
            "_model_module": "@jupyter-widgets/controls",
            "_model_module_version": "1.5.0",
            "_model_name": "SliderStyleModel",
            "_view_count": null,
            "_view_module": "@jupyter-widgets/base",
            "_view_module_version": "1.2.0",
            "_view_name": "StyleView",
            "description_width": "",
            "handle_color": null
          }
        },
        "15d73d2ff5374a159af0023cc171458e": {
          "model_module": "@jupyter-widgets/base",
          "model_name": "LayoutModel",
          "model_module_version": "1.2.0",
          "state": {
            "_model_module": "@jupyter-widgets/base",
            "_model_module_version": "1.2.0",
            "_model_name": "LayoutModel",
            "_view_count": null,
            "_view_module": "@jupyter-widgets/base",
            "_view_module_version": "1.2.0",
            "_view_name": "LayoutView",
            "align_content": null,
            "align_items": null,
            "align_self": null,
            "border": null,
            "bottom": null,
            "display": null,
            "flex": null,
            "flex_flow": null,
            "grid_area": null,
            "grid_auto_columns": null,
            "grid_auto_flow": null,
            "grid_auto_rows": null,
            "grid_column": null,
            "grid_gap": null,
            "grid_row": null,
            "grid_template_areas": null,
            "grid_template_columns": null,
            "grid_template_rows": null,
            "height": null,
            "justify_content": null,
            "justify_items": null,
            "left": null,
            "margin": null,
            "max_height": null,
            "max_width": null,
            "min_height": null,
            "min_width": null,
            "object_fit": null,
            "object_position": null,
            "order": null,
            "overflow": null,
            "overflow_x": null,
            "overflow_y": null,
            "padding": null,
            "right": null,
            "top": null,
            "visibility": null,
            "width": null
          }
        },
        "f520df8c425c4b15a0276223e6d11c54": {
          "model_module": "@jupyter-widgets/controls",
          "model_name": "SliderStyleModel",
          "model_module_version": "1.5.0",
          "state": {
            "_model_module": "@jupyter-widgets/controls",
            "_model_module_version": "1.5.0",
            "_model_name": "SliderStyleModel",
            "_view_count": null,
            "_view_module": "@jupyter-widgets/base",
            "_view_module_version": "1.2.0",
            "_view_name": "StyleView",
            "description_width": "",
            "handle_color": null
          }
        },
        "f93385c02e014357935a6a25ca7153bb": {
          "model_module": "@jupyter-widgets/base",
          "model_name": "LayoutModel",
          "model_module_version": "1.2.0",
          "state": {
            "_model_module": "@jupyter-widgets/base",
            "_model_module_version": "1.2.0",
            "_model_name": "LayoutModel",
            "_view_count": null,
            "_view_module": "@jupyter-widgets/base",
            "_view_module_version": "1.2.0",
            "_view_name": "LayoutView",
            "align_content": null,
            "align_items": null,
            "align_self": null,
            "border": null,
            "bottom": null,
            "display": null,
            "flex": null,
            "flex_flow": null,
            "grid_area": null,
            "grid_auto_columns": null,
            "grid_auto_flow": null,
            "grid_auto_rows": null,
            "grid_column": null,
            "grid_gap": null,
            "grid_row": null,
            "grid_template_areas": null,
            "grid_template_columns": null,
            "grid_template_rows": null,
            "height": null,
            "justify_content": null,
            "justify_items": null,
            "left": null,
            "margin": null,
            "max_height": null,
            "max_width": null,
            "min_height": null,
            "min_width": null,
            "object_fit": null,
            "object_position": null,
            "order": null,
            "overflow": null,
            "overflow_x": null,
            "overflow_y": null,
            "padding": null,
            "right": null,
            "top": null,
            "visibility": null,
            "width": null
          }
        },
        "be23e92f511241778a3d366450de064f": {
          "model_module": "@jupyter-widgets/controls",
          "model_name": "SliderStyleModel",
          "model_module_version": "1.5.0",
          "state": {
            "_model_module": "@jupyter-widgets/controls",
            "_model_module_version": "1.5.0",
            "_model_name": "SliderStyleModel",
            "_view_count": null,
            "_view_module": "@jupyter-widgets/base",
            "_view_module_version": "1.2.0",
            "_view_name": "StyleView",
            "description_width": "",
            "handle_color": null
          }
        },
        "5d83f5e3183a4278b24ece1e4d0af9a5": {
          "model_module": "@jupyter-widgets/base",
          "model_name": "LayoutModel",
          "model_module_version": "1.2.0",
          "state": {
            "_model_module": "@jupyter-widgets/base",
            "_model_module_version": "1.2.0",
            "_model_name": "LayoutModel",
            "_view_count": null,
            "_view_module": "@jupyter-widgets/base",
            "_view_module_version": "1.2.0",
            "_view_name": "LayoutView",
            "align_content": null,
            "align_items": null,
            "align_self": null,
            "border": null,
            "bottom": null,
            "display": null,
            "flex": null,
            "flex_flow": null,
            "grid_area": null,
            "grid_auto_columns": null,
            "grid_auto_flow": null,
            "grid_auto_rows": null,
            "grid_column": null,
            "grid_gap": null,
            "grid_row": null,
            "grid_template_areas": null,
            "grid_template_columns": null,
            "grid_template_rows": null,
            "height": null,
            "justify_content": null,
            "justify_items": null,
            "left": null,
            "margin": null,
            "max_height": null,
            "max_width": null,
            "min_height": null,
            "min_width": null,
            "object_fit": null,
            "object_position": null,
            "order": null,
            "overflow": null,
            "overflow_x": null,
            "overflow_y": null,
            "padding": null,
            "right": null,
            "top": null,
            "visibility": null,
            "width": null
          }
        },
        "27bfa2c626884b0cbe997236c52843d5": {
          "model_module": "@jupyter-widgets/controls",
          "model_name": "SliderStyleModel",
          "model_module_version": "1.5.0",
          "state": {
            "_model_module": "@jupyter-widgets/controls",
            "_model_module_version": "1.5.0",
            "_model_name": "SliderStyleModel",
            "_view_count": null,
            "_view_module": "@jupyter-widgets/base",
            "_view_module_version": "1.2.0",
            "_view_name": "StyleView",
            "description_width": "",
            "handle_color": null
          }
        },
        "8524391565da4c60b1b8a16c867afb8c": {
          "model_module": "@jupyter-widgets/base",
          "model_name": "LayoutModel",
          "model_module_version": "1.2.0",
          "state": {
            "_model_module": "@jupyter-widgets/base",
            "_model_module_version": "1.2.0",
            "_model_name": "LayoutModel",
            "_view_count": null,
            "_view_module": "@jupyter-widgets/base",
            "_view_module_version": "1.2.0",
            "_view_name": "LayoutView",
            "align_content": null,
            "align_items": null,
            "align_self": null,
            "border": null,
            "bottom": null,
            "display": null,
            "flex": null,
            "flex_flow": null,
            "grid_area": null,
            "grid_auto_columns": null,
            "grid_auto_flow": null,
            "grid_auto_rows": null,
            "grid_column": null,
            "grid_gap": null,
            "grid_row": null,
            "grid_template_areas": null,
            "grid_template_columns": null,
            "grid_template_rows": null,
            "height": null,
            "justify_content": null,
            "justify_items": null,
            "left": null,
            "margin": null,
            "max_height": null,
            "max_width": null,
            "min_height": null,
            "min_width": null,
            "object_fit": null,
            "object_position": null,
            "order": null,
            "overflow": null,
            "overflow_x": null,
            "overflow_y": null,
            "padding": null,
            "right": null,
            "top": null,
            "visibility": null,
            "width": null
          }
        },
        "3fec0ffe8b8b47a3b5398c8bb84fd303": {
          "model_module": "@jupyter-widgets/controls",
          "model_name": "VBoxModel",
          "model_module_version": "1.5.0",
          "state": {
            "_dom_classes": [
              "widget-interact"
            ],
            "_model_module": "@jupyter-widgets/controls",
            "_model_module_version": "1.5.0",
            "_model_name": "VBoxModel",
            "_view_count": null,
            "_view_module": "@jupyter-widgets/controls",
            "_view_module_version": "1.5.0",
            "_view_name": "VBoxView",
            "box_style": "",
            "children": [
              "IPY_MODEL_94a097b75fa64e46a5da9bcf72182cdd",
              "IPY_MODEL_b31a6a42d1b54480bd7e75a9fa7a2a89",
              "IPY_MODEL_5f148e1cd9684c70b27486e7f7533e2b",
              "IPY_MODEL_0543308390f04f6eb47c3e14567fe915",
              "IPY_MODEL_da18912334984d08b2552318326803a0",
              "IPY_MODEL_1c2f2875041b4369a1511f735524d01e",
              "IPY_MODEL_20880d9f9362425eb24e6be029c0cf37",
              "IPY_MODEL_0cdff35d48164001be8c3228bf3662ce"
            ],
            "layout": "IPY_MODEL_261ae4252190497d9c65a59070f2a732"
          }
        },
        "94a097b75fa64e46a5da9bcf72182cdd": {
          "model_module": "@jupyter-widgets/controls",
          "model_name": "FloatSliderModel",
          "model_module_version": "1.5.0",
          "state": {
            "_dom_classes": [],
            "_model_module": "@jupyter-widgets/controls",
            "_model_module_version": "1.5.0",
            "_model_name": "FloatSliderModel",
            "_view_count": null,
            "_view_module": "@jupyter-widgets/controls",
            "_view_module_version": "1.5.0",
            "_view_name": "FloatSliderView",
            "continuous_update": true,
            "description": "Initial t:",
            "description_tooltip": null,
            "disabled": false,
            "layout": "IPY_MODEL_a8d4c2888184422c8a6f1ed20af89ad5",
            "max": 10,
            "min": -10,
            "orientation": "horizontal",
            "readout": true,
            "readout_format": ".2f",
            "step": 0.1,
            "style": "IPY_MODEL_70bcdbd010f945dc845933102576e472",
            "value": 0
          }
        },
        "b31a6a42d1b54480bd7e75a9fa7a2a89": {
          "model_module": "@jupyter-widgets/controls",
          "model_name": "FloatSliderModel",
          "model_module_version": "1.5.0",
          "state": {
            "_dom_classes": [],
            "_model_module": "@jupyter-widgets/controls",
            "_model_module_version": "1.5.0",
            "_model_name": "FloatSliderModel",
            "_view_count": null,
            "_view_module": "@jupyter-widgets/controls",
            "_view_module_version": "1.5.0",
            "_view_name": "FloatSliderView",
            "continuous_update": true,
            "description": "Initial r (r > 2M):",
            "description_tooltip": null,
            "disabled": false,
            "layout": "IPY_MODEL_3c193e471b9e4d41bc4f3f3f3c9c63a1",
            "max": 20,
            "min": 2.1,
            "orientation": "horizontal",
            "readout": true,
            "readout_format": ".2f",
            "step": 0.1,
            "style": "IPY_MODEL_a11b387d3e0c48c790dbe8b10701e40d",
            "value": 5
          }
        },
        "5f148e1cd9684c70b27486e7f7533e2b": {
          "model_module": "@jupyter-widgets/controls",
          "model_name": "FloatSliderModel",
          "model_module_version": "1.5.0",
          "state": {
            "_dom_classes": [],
            "_model_module": "@jupyter-widgets/controls",
            "_model_module_version": "1.5.0",
            "_model_name": "FloatSliderModel",
            "_view_count": null,
            "_view_module": "@jupyter-widgets/controls",
            "_view_module_version": "1.5.0",
            "_view_name": "FloatSliderView",
            "continuous_update": true,
            "description": "Initial vt (dt/dλ):",
            "description_tooltip": null,
            "disabled": false,
            "layout": "IPY_MODEL_75e07364805945cea83418d314f62000",
            "max": 5,
            "min": -5,
            "orientation": "horizontal",
            "readout": true,
            "readout_format": ".2f",
            "step": 0.1,
            "style": "IPY_MODEL_4eaa88604fe6484e9fe66cb98022529e",
            "value": 1
          }
        },
        "0543308390f04f6eb47c3e14567fe915": {
          "model_module": "@jupyter-widgets/controls",
          "model_name": "FloatSliderModel",
          "model_module_version": "1.5.0",
          "state": {
            "_dom_classes": [],
            "_model_module": "@jupyter-widgets/controls",
            "_model_module_version": "1.5.0",
            "_model_name": "FloatSliderModel",
            "_view_count": null,
            "_view_module": "@jupyter-widgets/controls",
            "_view_module_version": "1.5.0",
            "_view_name": "FloatSliderView",
            "continuous_update": true,
            "description": "Initial vr (dr/dλ):",
            "description_tooltip": null,
            "disabled": false,
            "layout": "IPY_MODEL_6ac6f9a5a7b0420fbbd28f48f5557358",
            "max": 5,
            "min": -5,
            "orientation": "horizontal",
            "readout": true,
            "readout_format": ".2f",
            "step": 0.1,
            "style": "IPY_MODEL_9fecb07e4ac2420f9e87bdcb893eb01b",
            "value": 0
          }
        },
        "da18912334984d08b2552318326803a0": {
          "model_module": "@jupyter-widgets/controls",
          "model_name": "FloatSliderModel",
          "model_module_version": "1.5.0",
          "state": {
            "_dom_classes": [],
            "_model_module": "@jupyter-widgets/controls",
            "_model_module_version": "1.5.0",
            "_model_name": "FloatSliderModel",
            "_view_count": null,
            "_view_module": "@jupyter-widgets/controls",
            "_view_module_version": "1.5.0",
            "_view_name": "FloatSliderView",
            "continuous_update": true,
            "description": "dlambda:",
            "description_tooltip": null,
            "disabled": false,
            "layout": "IPY_MODEL_44b44d229e7d48a4a947b19f56bdb4e1",
            "max": 0.5,
            "min": 0.001,
            "orientation": "horizontal",
            "readout": true,
            "readout_format": ".2f",
            "step": 0.001,
            "style": "IPY_MODEL_1be458a8ea4c4b60bd7d02fd745c70e9",
            "value": 0.01
          }
        },
        "1c2f2875041b4369a1511f735524d01e": {
          "model_module": "@jupyter-widgets/controls",
          "model_name": "IntSliderModel",
          "model_module_version": "1.5.0",
          "state": {
            "_dom_classes": [],
            "_model_module": "@jupyter-widgets/controls",
            "_model_module_version": "1.5.0",
            "_model_name": "IntSliderModel",
            "_view_count": null,
            "_view_module": "@jupyter-widgets/controls",
            "_view_module_version": "1.5.0",
            "_view_name": "IntSliderView",
            "continuous_update": true,
            "description": "Num Steps:",
            "description_tooltip": null,
            "disabled": false,
            "layout": "IPY_MODEL_080dc22fb4734788b8e521ebfca86222",
            "max": 1000,
            "min": 10,
            "orientation": "horizontal",
            "readout": true,
            "readout_format": "d",
            "step": 10,
            "style": "IPY_MODEL_969d451f2066454b90e627bacb851e95",
            "value": 200
          }
        },
        "20880d9f9362425eb24e6be029c0cf37": {
          "model_module": "@jupyter-widgets/controls",
          "model_name": "FloatSliderModel",
          "model_module_version": "1.5.0",
          "state": {
            "_dom_classes": [],
            "_model_module": "@jupyter-widgets/controls",
            "_model_module_version": "1.5.0",
            "_model_name": "FloatSliderModel",
            "_view_count": null,
            "_view_module": "@jupyter-widgets/controls",
            "_view_module_version": "1.5.0",
            "_view_name": "FloatSliderView",
            "continuous_update": true,
            "description": "Mass (M):",
            "description_tooltip": null,
            "disabled": false,
            "layout": "IPY_MODEL_dff534f09a3a4a0994aa4c6c3255c404",
            "max": 5,
            "min": 0.1,
            "orientation": "horizontal",
            "readout": true,
            "readout_format": ".2f",
            "step": 0.1,
            "style": "IPY_MODEL_874dc36d11414878b86f0f42ec6a4c25",
            "value": 1
          }
        },
        "0cdff35d48164001be8c3228bf3662ce": {
          "model_module": "@jupyter-widgets/output",
          "model_name": "OutputModel",
          "model_module_version": "1.0.0",
          "state": {
            "_dom_classes": [],
            "_model_module": "@jupyter-widgets/output",
            "_model_module_version": "1.0.0",
            "_model_name": "OutputModel",
            "_view_count": null,
            "_view_module": "@jupyter-widgets/output",
            "_view_module_version": "1.0.0",
            "_view_name": "OutputView",
            "layout": "IPY_MODEL_f4ac312e53dd48e8b14ab365a64a2086",
            "msg_id": "",
            "outputs": [
              {
                "output_type": "display_data",
                "data": {
                  "text/plain": "<Figure size 1000x600 with 1 Axes>",
                  "image/png": "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\n"
                },
                "metadata": {}
              }
            ]
          }
        },
        "261ae4252190497d9c65a59070f2a732": {
          "model_module": "@jupyter-widgets/base",
          "model_name": "LayoutModel",
          "model_module_version": "1.2.0",
          "state": {
            "_model_module": "@jupyter-widgets/base",
            "_model_module_version": "1.2.0",
            "_model_name": "LayoutModel",
            "_view_count": null,
            "_view_module": "@jupyter-widgets/base",
            "_view_module_version": "1.2.0",
            "_view_name": "LayoutView",
            "align_content": null,
            "align_items": null,
            "align_self": null,
            "border": null,
            "bottom": null,
            "display": null,
            "flex": null,
            "flex_flow": null,
            "grid_area": null,
            "grid_auto_columns": null,
            "grid_auto_flow": null,
            "grid_auto_rows": null,
            "grid_column": null,
            "grid_gap": null,
            "grid_row": null,
            "grid_template_areas": null,
            "grid_template_columns": null,
            "grid_template_rows": null,
            "height": null,
            "justify_content": null,
            "justify_items": null,
            "left": null,
            "margin": null,
            "max_height": null,
            "max_width": null,
            "min_height": null,
            "min_width": null,
            "object_fit": null,
            "object_position": null,
            "order": null,
            "overflow": null,
            "overflow_x": null,
            "overflow_y": null,
            "padding": null,
            "right": null,
            "top": null,
            "visibility": null,
            "width": null
          }
        },
        "a8d4c2888184422c8a6f1ed20af89ad5": {
          "model_module": "@jupyter-widgets/base",
          "model_name": "LayoutModel",
          "model_module_version": "1.2.0",
          "state": {
            "_model_module": "@jupyter-widgets/base",
            "_model_module_version": "1.2.0",
            "_model_name": "LayoutModel",
            "_view_count": null,
            "_view_module": "@jupyter-widgets/base",
            "_view_module_version": "1.2.0",
            "_view_name": "LayoutView",
            "align_content": null,
            "align_items": null,
            "align_self": null,
            "border": null,
            "bottom": null,
            "display": null,
            "flex": null,
            "flex_flow": null,
            "grid_area": null,
            "grid_auto_columns": null,
            "grid_auto_flow": null,
            "grid_auto_rows": null,
            "grid_column": null,
            "grid_gap": null,
            "grid_row": null,
            "grid_template_areas": null,
            "grid_template_columns": null,
            "grid_template_rows": null,
            "height": null,
            "justify_content": null,
            "justify_items": null,
            "left": null,
            "margin": null,
            "max_height": null,
            "max_width": null,
            "min_height": null,
            "min_width": null,
            "object_fit": null,
            "object_position": null,
            "order": null,
            "overflow": null,
            "overflow_x": null,
            "overflow_y": null,
            "padding": null,
            "right": null,
            "top": null,
            "visibility": null,
            "width": null
          }
        },
        "70bcdbd010f945dc845933102576e472": {
          "model_module": "@jupyter-widgets/controls",
          "model_name": "SliderStyleModel",
          "model_module_version": "1.5.0",
          "state": {
            "_model_module": "@jupyter-widgets/controls",
            "_model_module_version": "1.5.0",
            "_model_name": "SliderStyleModel",
            "_view_count": null,
            "_view_module": "@jupyter-widgets/base",
            "_view_module_version": "1.2.0",
            "_view_name": "StyleView",
            "description_width": "",
            "handle_color": null
          }
        },
        "3c193e471b9e4d41bc4f3f3f3c9c63a1": {
          "model_module": "@jupyter-widgets/base",
          "model_name": "LayoutModel",
          "model_module_version": "1.2.0",
          "state": {
            "_model_module": "@jupyter-widgets/base",
            "_model_module_version": "1.2.0",
            "_model_name": "LayoutModel",
            "_view_count": null,
            "_view_module": "@jupyter-widgets/base",
            "_view_module_version": "1.2.0",
            "_view_name": "LayoutView",
            "align_content": null,
            "align_items": null,
            "align_self": null,
            "border": null,
            "bottom": null,
            "display": null,
            "flex": null,
            "flex_flow": null,
            "grid_area": null,
            "grid_auto_columns": null,
            "grid_auto_flow": null,
            "grid_auto_rows": null,
            "grid_column": null,
            "grid_gap": null,
            "grid_row": null,
            "grid_template_areas": null,
            "grid_template_columns": null,
            "grid_template_rows": null,
            "height": null,
            "justify_content": null,
            "justify_items": null,
            "left": null,
            "margin": null,
            "max_height": null,
            "max_width": null,
            "min_height": null,
            "min_width": null,
            "object_fit": null,
            "object_position": null,
            "order": null,
            "overflow": null,
            "overflow_x": null,
            "overflow_y": null,
            "padding": null,
            "right": null,
            "top": null,
            "visibility": null,
            "width": null
          }
        },
        "a11b387d3e0c48c790dbe8b10701e40d": {
          "model_module": "@jupyter-widgets/controls",
          "model_name": "SliderStyleModel",
          "model_module_version": "1.5.0",
          "state": {
            "_model_module": "@jupyter-widgets/controls",
            "_model_module_version": "1.5.0",
            "_model_name": "SliderStyleModel",
            "_view_count": null,
            "_view_module": "@jupyter-widgets/base",
            "_view_module_version": "1.2.0",
            "_view_name": "StyleView",
            "description_width": "",
            "handle_color": null
          }
        },
        "75e07364805945cea83418d314f62000": {
          "model_module": "@jupyter-widgets/base",
          "model_name": "LayoutModel",
          "model_module_version": "1.2.0",
          "state": {
            "_model_module": "@jupyter-widgets/base",
            "_model_module_version": "1.2.0",
            "_model_name": "LayoutModel",
            "_view_count": null,
            "_view_module": "@jupyter-widgets/base",
            "_view_module_version": "1.2.0",
            "_view_name": "LayoutView",
            "align_content": null,
            "align_items": null,
            "align_self": null,
            "border": null,
            "bottom": null,
            "display": null,
            "flex": null,
            "flex_flow": null,
            "grid_area": null,
            "grid_auto_columns": null,
            "grid_auto_flow": null,
            "grid_auto_rows": null,
            "grid_column": null,
            "grid_gap": null,
            "grid_row": null,
            "grid_template_areas": null,
            "grid_template_columns": null,
            "grid_template_rows": null,
            "height": null,
            "justify_content": null,
            "justify_items": null,
            "left": null,
            "margin": null,
            "max_height": null,
            "max_width": null,
            "min_height": null,
            "min_width": null,
            "object_fit": null,
            "object_position": null,
            "order": null,
            "overflow": null,
            "overflow_x": null,
            "overflow_y": null,
            "padding": null,
            "right": null,
            "top": null,
            "visibility": null,
            "width": null
          }
        },
        "4eaa88604fe6484e9fe66cb98022529e": {
          "model_module": "@jupyter-widgets/controls",
          "model_name": "SliderStyleModel",
          "model_module_version": "1.5.0",
          "state": {
            "_model_module": "@jupyter-widgets/controls",
            "_model_module_version": "1.5.0",
            "_model_name": "SliderStyleModel",
            "_view_count": null,
            "_view_module": "@jupyter-widgets/base",
            "_view_module_version": "1.2.0",
            "_view_name": "StyleView",
            "description_width": "",
            "handle_color": null
          }
        },
        "6ac6f9a5a7b0420fbbd28f48f5557358": {
          "model_module": "@jupyter-widgets/base",
          "model_name": "LayoutModel",
          "model_module_version": "1.2.0",
          "state": {
            "_model_module": "@jupyter-widgets/base",
            "_model_module_version": "1.2.0",
            "_model_name": "LayoutModel",
            "_view_count": null,
            "_view_module": "@jupyter-widgets/base",
            "_view_module_version": "1.2.0",
            "_view_name": "LayoutView",
            "align_content": null,
            "align_items": null,
            "align_self": null,
            "border": null,
            "bottom": null,
            "display": null,
            "flex": null,
            "flex_flow": null,
            "grid_area": null,
            "grid_auto_columns": null,
            "grid_auto_flow": null,
            "grid_auto_rows": null,
            "grid_column": null,
            "grid_gap": null,
            "grid_row": null,
            "grid_template_areas": null,
            "grid_template_columns": null,
            "grid_template_rows": null,
            "height": null,
            "justify_content": null,
            "justify_items": null,
            "left": null,
            "margin": null,
            "max_height": null,
            "max_width": null,
            "min_height": null,
            "min_width": null,
            "object_fit": null,
            "object_position": null,
            "order": null,
            "overflow": null,
            "overflow_x": null,
            "overflow_y": null,
            "padding": null,
            "right": null,
            "top": null,
            "visibility": null,
            "width": null
          }
        },
        "9fecb07e4ac2420f9e87bdcb893eb01b": {
          "model_module": "@jupyter-widgets/controls",
          "model_name": "SliderStyleModel",
          "model_module_version": "1.5.0",
          "state": {
            "_model_module": "@jupyter-widgets/controls",
            "_model_module_version": "1.5.0",
            "_model_name": "SliderStyleModel",
            "_view_count": null,
            "_view_module": "@jupyter-widgets/base",
            "_view_module_version": "1.2.0",
            "_view_name": "StyleView",
            "description_width": "",
            "handle_color": null
          }
        },
        "44b44d229e7d48a4a947b19f56bdb4e1": {
          "model_module": "@jupyter-widgets/base",
          "model_name": "LayoutModel",
          "model_module_version": "1.2.0",
          "state": {
            "_model_module": "@jupyter-widgets/base",
            "_model_module_version": "1.2.0",
            "_model_name": "LayoutModel",
            "_view_count": null,
            "_view_module": "@jupyter-widgets/base",
            "_view_module_version": "1.2.0",
            "_view_name": "LayoutView",
            "align_content": null,
            "align_items": null,
            "align_self": null,
            "border": null,
            "bottom": null,
            "display": null,
            "flex": null,
            "flex_flow": null,
            "grid_area": null,
            "grid_auto_columns": null,
            "grid_auto_flow": null,
            "grid_auto_rows": null,
            "grid_column": null,
            "grid_gap": null,
            "grid_row": null,
            "grid_template_areas": null,
            "grid_template_columns": null,
            "grid_template_rows": null,
            "height": null,
            "justify_content": null,
            "justify_items": null,
            "left": null,
            "margin": null,
            "max_height": null,
            "max_width": null,
            "min_height": null,
            "min_width": null,
            "object_fit": null,
            "object_position": null,
            "order": null,
            "overflow": null,
            "overflow_x": null,
            "overflow_y": null,
            "padding": null,
            "right": null,
            "top": null,
            "visibility": null,
            "width": null
          }
        },
        "1be458a8ea4c4b60bd7d02fd745c70e9": {
          "model_module": "@jupyter-widgets/controls",
          "model_name": "SliderStyleModel",
          "model_module_version": "1.5.0",
          "state": {
            "_model_module": "@jupyter-widgets/controls",
            "_model_module_version": "1.5.0",
            "_model_name": "SliderStyleModel",
            "_view_count": null,
            "_view_module": "@jupyter-widgets/base",
            "_view_module_version": "1.2.0",
            "_view_name": "StyleView",
            "description_width": "",
            "handle_color": null
          }
        },
        "080dc22fb4734788b8e521ebfca86222": {
          "model_module": "@jupyter-widgets/base",
          "model_name": "LayoutModel",
          "model_module_version": "1.2.0",
          "state": {
            "_model_module": "@jupyter-widgets/base",
            "_model_module_version": "1.2.0",
            "_model_name": "LayoutModel",
            "_view_count": null,
            "_view_module": "@jupyter-widgets/base",
            "_view_module_version": "1.2.0",
            "_view_name": "LayoutView",
            "align_content": null,
            "align_items": null,
            "align_self": null,
            "border": null,
            "bottom": null,
            "display": null,
            "flex": null,
            "flex_flow": null,
            "grid_area": null,
            "grid_auto_columns": null,
            "grid_auto_flow": null,
            "grid_auto_rows": null,
            "grid_column": null,
            "grid_gap": null,
            "grid_row": null,
            "grid_template_areas": null,
            "grid_template_columns": null,
            "grid_template_rows": null,
            "height": null,
            "justify_content": null,
            "justify_items": null,
            "left": null,
            "margin": null,
            "max_height": null,
            "max_width": null,
            "min_height": null,
            "min_width": null,
            "object_fit": null,
            "object_position": null,
            "order": null,
            "overflow": null,
            "overflow_x": null,
            "overflow_y": null,
            "padding": null,
            "right": null,
            "top": null,
            "visibility": null,
            "width": null
          }
        },
        "969d451f2066454b90e627bacb851e95": {
          "model_module": "@jupyter-widgets/controls",
          "model_name": "SliderStyleModel",
          "model_module_version": "1.5.0",
          "state": {
            "_model_module": "@jupyter-widgets/controls",
            "_model_module_version": "1.5.0",
            "_model_name": "SliderStyleModel",
            "_view_count": null,
            "_view_module": "@jupyter-widgets/base",
            "_view_module_version": "1.2.0",
            "_view_name": "StyleView",
            "description_width": "",
            "handle_color": null
          }
        },
        "dff534f09a3a4a0994aa4c6c3255c404": {
          "model_module": "@jupyter-widgets/base",
          "model_name": "LayoutModel",
          "model_module_version": "1.2.0",
          "state": {
            "_model_module": "@jupyter-widgets/base",
            "_model_module_version": "1.2.0",
            "_model_name": "LayoutModel",
            "_view_count": null,
            "_view_module": "@jupyter-widgets/base",
            "_view_module_version": "1.2.0",
            "_view_name": "LayoutView",
            "align_content": null,
            "align_items": null,
            "align_self": null,
            "border": null,
            "bottom": null,
            "display": null,
            "flex": null,
            "flex_flow": null,
            "grid_area": null,
            "grid_auto_columns": null,
            "grid_auto_flow": null,
            "grid_auto_rows": null,
            "grid_column": null,
            "grid_gap": null,
            "grid_row": null,
            "grid_template_areas": null,
            "grid_template_columns": null,
            "grid_template_rows": null,
            "height": null,
            "justify_content": null,
            "justify_items": null,
            "left": null,
            "margin": null,
            "max_height": null,
            "max_width": null,
            "min_height": null,
            "min_width": null,
            "object_fit": null,
            "object_position": null,
            "order": null,
            "overflow": null,
            "overflow_x": null,
            "overflow_y": null,
            "padding": null,
            "right": null,
            "top": null,
            "visibility": null,
            "width": null
          }
        },
        "874dc36d11414878b86f0f42ec6a4c25": {
          "model_module": "@jupyter-widgets/controls",
          "model_name": "SliderStyleModel",
          "model_module_version": "1.5.0",
          "state": {
            "_model_module": "@jupyter-widgets/controls",
            "_model_module_version": "1.5.0",
            "_model_name": "SliderStyleModel",
            "_view_count": null,
            "_view_module": "@jupyter-widgets/base",
            "_view_module_version": "1.2.0",
            "_view_name": "StyleView",
            "description_width": "",
            "handle_color": null
          }
        },
        "f4ac312e53dd48e8b14ab365a64a2086": {
          "model_module": "@jupyter-widgets/base",
          "model_name": "LayoutModel",
          "model_module_version": "1.2.0",
          "state": {
            "_model_module": "@jupyter-widgets/base",
            "_model_module_version": "1.2.0",
            "_model_name": "LayoutModel",
            "_view_count": null,
            "_view_module": "@jupyter-widgets/base",
            "_view_module_version": "1.2.0",
            "_view_name": "LayoutView",
            "align_content": null,
            "align_items": null,
            "align_self": null,
            "border": null,
            "bottom": null,
            "display": null,
            "flex": null,
            "flex_flow": null,
            "grid_area": null,
            "grid_auto_columns": null,
            "grid_auto_flow": null,
            "grid_auto_rows": null,
            "grid_column": null,
            "grid_gap": null,
            "grid_row": null,
            "grid_template_areas": null,
            "grid_template_columns": null,
            "grid_template_rows": null,
            "height": null,
            "justify_content": null,
            "justify_items": null,
            "left": null,
            "margin": null,
            "max_height": null,
            "max_width": null,
            "min_height": null,
            "min_width": null,
            "object_fit": null,
            "object_position": null,
            "order": null,
            "overflow": null,
            "overflow_x": null,
            "overflow_y": null,
            "padding": null,
            "right": null,
            "top": null,
            "visibility": null,
            "width": null
          }
        }
      }
    }
  },
  "cells": [
    {
      "cell_type": "markdown",
      "metadata": {
        "id": "view-in-github",
        "colab_type": "text"
      },
      "source": [
        "<a href=\"https://colab.research.google.com/github/twyeh/university-physics/blob/%E5%8A%9B%E5%AD%B8/1%2B1_GR_.ipynb\" target=\"_parent\"><img src=\"https://colab.research.google.com/assets/colab-badge.svg\" alt=\"Open In Colab\"/></a>"
      ]
    },
    {
      "cell_type": "markdown",
      "metadata": {
        "id": "d19560ae"
      },
      "source": [
        "# Task\n",
        "Design a program to draw a geodesic path of a free fall object in 1+1 general relativity theory."
      ]
    },
    {
      "cell_type": "markdown",
      "metadata": {
        "id": "462addc7"
      },
      "source": [
        "## Understand the physics\n",
        "\n",
        "### Subtask:\n",
        "Briefly explain the concept of geodesics in general relativity and the relevant equations for 1+1 dimensions.\n"
      ]
    },
    {
      "cell_type": "markdown",
      "metadata": {
        "id": "fad95167"
      },
      "source": [
        "**Reasoning**:\n",
        "Provide a brief explanation of geodesics in general relativity and the relevant concepts for 1+1 dimensions as requested in the instructions.\n",
        "\n"
      ]
    },
    {
      "cell_type": "code",
      "metadata": {
        "colab": {
          "base_uri": "https://localhost:8080/"
        },
        "id": "5ee05e78",
        "outputId": "df2fcad2-0d1c-4998-9e16-3a01bf79090c"
      },
      "source": [
        "print(\"In general relativity, a geodesic represents the path followed by a free-falling object in spacetime.\\n\\n These paths are the 'straightest possible' lines in the curved spacetime, which is how general relativity describes gravity. \\n\\n For this problem, we are considering a simplified 1+1 dimensional spacetime, meaning we have one spatial dimension and one time dimension.\")"
      ],
      "execution_count": 12,
      "outputs": [
        {
          "output_type": "stream",
          "name": "stdout",
          "text": [
            "In general relativity, a geodesic represents the path followed by a free-falling object in spacetime.\n",
            "\n",
            " These paths are the 'straightest possible' lines in the curved spacetime, which is how general relativity describes gravity. \n",
            "\n",
            " For this problem, we are considering a simplified 1+1 dimensional spacetime, meaning we have one spatial dimension and one time dimension.\n"
          ]
        }
      ]
    },
    {
      "cell_type": "markdown",
      "metadata": {
        "id": "a18cf347"
      },
      "source": [
        "## Choose a spacetime metric\n",
        "\n",
        "### Subtask:\n",
        "Select a specific 1+1 dimensional spacetime metric to work with (e.g., flat spacetime, or a simplified curved spacetime).\n"
      ]
    },
    {
      "cell_type": "markdown",
      "metadata": {
        "id": "0a6b2f0e"
      },
      "source": [
        "**Reasoning**:\n",
        "State the chosen metric and its mathematical form, and explain the reason for choosing it.\n",
        "\n"
      ]
    },
    {
      "cell_type": "code",
      "metadata": {
        "colab": {
          "base_uri": "https://localhost:8080/"
        },
        "id": "e7785dc6",
        "outputId": "6b7f374f-2313-436b-b3c2-f326e713c41c"
      },
      "source": [
        "print(\"For this task, we will use the flat 1+1 dimensional Minkowski spacetime metric.\")\n",
        "print(\"This metric is chosen for its simplicity, making it an ideal starting point to demonstrate the concept of geodesics without the complexities of a curved spacetime. In flat spacetime, geodesics are simply straight lines.\")\n",
        "print(\"The metric tensor for 1+1 dimensional Minkowski spacetime is given by:\")\n",
        "print(\"g_μν = [[-1, 0], [0, 1]]\")"
      ],
      "execution_count": 2,
      "outputs": [
        {
          "output_type": "stream",
          "name": "stdout",
          "text": [
            "For this task, we will use the flat 1+1 dimensional Minkowski spacetime metric.\n",
            "This metric is chosen for its simplicity, making it an ideal starting point to demonstrate the concept of geodesics without the complexities of a curved spacetime. In flat spacetime, geodesics are simply straight lines.\n",
            "The metric tensor for 1+1 dimensional Minkowski spacetime is given by:\n",
            "g_μν = [[-1, 0], [0, 1]]\n"
          ]
        }
      ]
    },
    {
      "cell_type": "markdown",
      "metadata": {
        "id": "917ed4fd"
      },
      "source": [
        "## Derive geodesic equations\n",
        "\n",
        "### Subtask:\n",
        "Derive the geodesic equations for the chosen metric. These are a set of second-order differential equations.\n"
      ]
    },
    {
      "cell_type": "markdown",
      "metadata": {
        "id": "21bfb8fe"
      },
      "source": [
        "**Reasoning**:\n",
        "Explain why the Christoffel symbols are zero for the chosen metric and write down the geodesic equation for flat spacetime.\n",
        "\n"
      ]
    },
    {
      "cell_type": "code",
      "metadata": {
        "colab": {
          "base_uri": "https://localhost:8080/"
        },
        "id": "c2d30fd1",
        "outputId": "533ff7d7-2c07-4fb4-cff9-69439ef2685c"
      },
      "source": [
        "print(\"For the flat 1+1 dimensional Minkowski spacetime, the metric tensor is constant.\")\n",
        "print(\"The Christoffel symbols are calculated from derivatives of the metric tensor.\\n\\n Since the metric tensor is constant, all its derivatives are zero. Therefore, all Christoffel symbols (Γᵂ_αβ) for flat spacetime are zero.\")\n",
        "print(\"\\nThe general form of the geodesic equation is:\")\n",
        "print(\"d²xᵂ/dλ² + Γᵂ_αβ (dxᵃ/dλ)(dxᵇ/dλ) = 0\")\n",
        "print(\"\\nSubstituting the zero Christoffel symbols into the geodesic equation for flat spacetime, we get:\")\n",
        "print(\"d²xᵂ/dλ² + 0 * (dxᵃ/dλ)(dxᵇ/dλ) = 0\")\n",
        "print(\"Which simplifies to:\")\n",
        "print(\"d²xᵂ/dλ² = 0\")\n",
        "print(\"\\nThis simplified geodesic equation for flat 1+1 spacetime implies that the second derivative of the spacetime coordinates (time and spatial position) with respect to the affine parameter is zero. This means the velocity (first derivative) of the free-falling object with respect to the affine parameter is constant, and therefore the free-falling object moves along a straight line in spacetime.\")"
      ],
      "execution_count": 13,
      "outputs": [
        {
          "output_type": "stream",
          "name": "stdout",
          "text": [
            "For the flat 1+1 dimensional Minkowski spacetime, the metric tensor is constant.\n",
            "The Christoffel symbols are calculated from derivatives of the metric tensor.\n",
            "\n",
            " Since the metric tensor is constant, all its derivatives are zero. Therefore, all Christoffel symbols (Γᵂ_αβ) for flat spacetime are zero.\n",
            "\n",
            "The general form of the geodesic equation is:\n",
            "d²xᵂ/dλ² + Γᵂ_αβ (dxᵃ/dλ)(dxᵇ/dλ) = 0\n",
            "\n",
            "Substituting the zero Christoffel symbols into the geodesic equation for flat spacetime, we get:\n",
            "d²xᵂ/dλ² + 0 * (dxᵃ/dλ)(dxᵇ/dλ) = 0\n",
            "Which simplifies to:\n",
            "d²xᵂ/dλ² = 0\n",
            "\n",
            "This simplified geodesic equation for flat 1+1 spacetime implies that the second derivative of the spacetime coordinates (time and spatial position) with respect to the affine parameter is zero. This means the velocity (first derivative) of the free-falling object with respect to the affine parameter is constant, and therefore the free-falling object moves along a straight line in spacetime.\n"
          ]
        }
      ]
    },
    {
      "cell_type": "markdown",
      "metadata": {
        "id": "f9eec93b"
      },
      "source": [
        "## Choose a numerical solver\n",
        "\n",
        "### Subtask:\n",
        "Select an appropriate numerical method to solve the geodesic equations (e.g., Runge-Kutta method).\n"
      ]
    },
    {
      "cell_type": "markdown",
      "metadata": {
        "id": "abb6859b"
      },
      "source": [
        "**Reasoning**:\n",
        "State the chosen numerical solver and briefly explain why it is suitable for solving the derived geodesic equations.\n",
        "\n"
      ]
    },
    {
      "cell_type": "code",
      "metadata": {
        "colab": {
          "base_uri": "https://localhost:8080/"
        },
        "id": "9f24209a",
        "outputId": "817be037-0a45-436a-f70b-91293de8384b"
      },
      "source": [
        "print(\"To solve the derived geodesic equation d²xᵂ/dλ² = 0, we can use numerical methods. For this task, we will use the Runge-Kutta method, specifically the fourth-order Runge-Kutta method (RK4).\")\n",
        "print(\"\\nRK4 is a widely used and robust numerical method for solving ordinary differential equations (ODEs). Although the derived geodesic equation for flat spacetime is simple and can be solved analytically, RK4 is a suitable choice for demonstrating the process of numerically solving geodesic equations. This method is general enough to be applied to more complex geodesic equations that arise from curved spacetimes, where analytical solutions are often not available. RK4 provides a good balance between accuracy and computational cost.\")"
      ],
      "execution_count": 4,
      "outputs": [
        {
          "output_type": "stream",
          "name": "stdout",
          "text": [
            "To solve the derived geodesic equation d²xᵂ/dλ² = 0, we can use numerical methods. For this task, we will use the Runge-Kutta method, specifically the fourth-order Runge-Kutta method (RK4).\n",
            "\n",
            "RK4 is a widely used and robust numerical method for solving ordinary differential equations (ODEs). Although the derived geodesic equation for flat spacetime is simple and can be solved analytically, RK4 is a suitable choice for demonstrating the process of numerically solving geodesic equations. This method is general enough to be applied to more complex geodesic equations that arise from curved spacetimes, where analytical solutions are often not available. RK4 provides a good balance between accuracy and computational cost.\n"
          ]
        }
      ]
    },
    {
      "cell_type": "markdown",
      "metadata": {
        "id": "3ce3b327"
      },
      "source": [
        "## Implement the solver\n",
        "\n",
        "### Subtask:\n",
        "Write code to implement the chosen numerical solver (RK4).\n"
      ]
    },
    {
      "cell_type": "markdown",
      "metadata": {
        "id": "7c55d597"
      },
      "source": [
        "**Reasoning**:\n",
        "Define the ODE system and implement the RK4 method as specified in the instructions.\n",
        "\n"
      ]
    },
    {
      "cell_type": "code",
      "metadata": {
        "colab": {
          "base_uri": "https://localhost:8080/"
        },
        "id": "cf550f73",
        "outputId": "97489949-7abe-4bd5-f6ba-f06253f61d6b"
      },
      "source": [
        "def ode_system(state, lambda_param):\n",
        "  \"\"\"\n",
        "  Represents the system of first-order ODEs for the geodesic equation in 1+1 flat spacetime.\n",
        "\n",
        "  Args:\n",
        "    state: A list or array containing the current values of the dependent variables\n",
        "           [x, v], where x is the position and v is the velocity dx/dλ.\n",
        "    lambda_param: The current value of the affine parameter λ (not used in this\n",
        "                  flat spacetime case, but included for generality).\n",
        "\n",
        "  Returns:\n",
        "    A list or array containing the derivatives of the dependent variables\n",
        "    [dx/dλ, dv/dλ].\n",
        "  \"\"\"\n",
        "  x, v = state\n",
        "  dxdlambda = v\n",
        "  dvdlambda = 0  # From the geodesic equation d²x/dλ² = 0\n",
        "  return [dxdlambda, dvdlambda]\n",
        "\n",
        "def rk4_step(current_state, dlambda, ode_func):\n",
        "  \"\"\"\n",
        "  Performs one step of the RK4 method to solve the ODE system.\n",
        "\n",
        "  Args:\n",
        "    current_state: The current state [x, v].\n",
        "    dlambda: The step size for the affine parameter.\n",
        "    ode_func: The function representing the ODE system.\n",
        "\n",
        "  Returns:\n",
        "    The updated state [x_new, v_new] after one RK4 step.\n",
        "  \"\"\"\n",
        "  k1 = [dlambda * val for val in ode_func(current_state, None)]\n",
        "  k2_state = [current_state[i] + 0.5 * k1[i] for i in range(len(current_state))]\n",
        "  k2 = [dlambda * val for val in ode_func(k2_state, None)]\n",
        "  k3_state = [current_state[i] + 0.5 * k2[i] for i in range(len(current_state))]\n",
        "  k3 = [dlambda * val for val in ode_func(k3_state, None)]\n",
        "  k4_state = [current_state[i] + k3[i] for i in range(len(current_state))]\n",
        "  k4 = [dlambda * val for val in ode_func(k4_state, None)]\n",
        "\n",
        "  next_state = [current_state[i] + (k1[i] + 2*k2[i] + 2*k3[i] + k4[i]) / 6.0 for i in range(len(current_state))]\n",
        "  return next_state\n",
        "\n",
        "print(\"ODE system function 'ode_system' and RK4 step function 'rk4_step' have been defined.\")"
      ],
      "execution_count": 5,
      "outputs": [
        {
          "output_type": "stream",
          "name": "stdout",
          "text": [
            "ODE system function 'ode_system' and RK4 step function 'rk4_step' have been defined.\n"
          ]
        }
      ]
    },
    {
      "cell_type": "markdown",
      "metadata": {
        "id": "d131c09d"
      },
      "source": [
        "## Define initial conditions\n",
        "\n",
        "### Subtask:\n",
        "Specify the initial position and velocity of the free-falling object.\n"
      ]
    },
    {
      "cell_type": "markdown",
      "metadata": {
        "id": "dcfb2b59"
      },
      "source": [
        "**Reasoning**:\n",
        "Define the initial state (position and velocity) of the free-falling object and print it.\n",
        "\n"
      ]
    },
    {
      "cell_type": "code",
      "metadata": {
        "colab": {
          "base_uri": "https://localhost:8080/"
        },
        "id": "8b2e777f",
        "outputId": "e42a7257-b788-4f92-edf8-52d663fd9776"
      },
      "source": [
        "# 1. Define a list or array named initial_state containing the initial values\n",
        "#    for the dependent variables [x, v].\n",
        "# 2. Choose appropriate numerical values for the initial position and initial velocity.\n",
        "initial_x = 0.0  # Starting position at x = 0\n",
        "initial_v = 1.0  # Initial velocity in the positive x direction\n",
        "initial_state = [initial_x, initial_v]\n",
        "\n",
        "# 3. Print the defined initial_state to confirm the values.\n",
        "print(f\"Initial state [position, velocity]: {initial_state}\")"
      ],
      "execution_count": 6,
      "outputs": [
        {
          "output_type": "stream",
          "name": "stdout",
          "text": [
            "Initial state [position, velocity]: [0.0, 1.0]\n"
          ]
        }
      ]
    },
    {
      "cell_type": "markdown",
      "metadata": {
        "id": "da24f826"
      },
      "source": [
        "## Solve the equations\n",
        "\n",
        "### Subtask:\n",
        "Use the solver to find the position of the object at different times.\n"
      ]
    },
    {
      "cell_type": "markdown",
      "metadata": {
        "id": "bb0e70b0"
      },
      "source": [
        "**Reasoning**:\n",
        "Implement the simulation loop to calculate the position and velocity at different times using the defined `rk4_step` function and store the results.\n",
        "\n"
      ]
    },
    {
      "cell_type": "code",
      "metadata": {
        "colab": {
          "base_uri": "https://localhost:8080/"
        },
        "id": "078748c1",
        "outputId": "e633d0ed-c8de-4505-a48d-b14b18d3943c"
      },
      "source": [
        "# 1. Initialize an empty list or array to store the calculated states (position and velocity) at each step.\n",
        "states = []\n",
        "# Add the initial_state to this list.\n",
        "states.append(initial_state)\n",
        "\n",
        "# 2. Choose a step size for the affine parameter (dlambda) and a total number of steps.\n",
        "dlambda = 0.1  # Step size\n",
        "num_steps = 100  # Total number of steps\n",
        "\n",
        "# 3. Loop for the specified number of steps.\n",
        "current_state = initial_state\n",
        "for i in range(num_steps):\n",
        "  # Use the rk4_step function to calculate the next state.\n",
        "  next_state = rk4_step(current_state, dlambda, ode_system)\n",
        "  # Append the calculated next state to the list storing the states.\n",
        "  states.append(next_state)\n",
        "  # Update the current state to the newly calculated next state for the next iteration.\n",
        "  current_state = next_state\n",
        "\n",
        "# 4. After the loop, extract the position values and the corresponding affine parameter values.\n",
        "positions = [state[0] for state in states]\n",
        "# The affine parameter values are simply the step number multiplied by the step size.\n",
        "affine_parameters = [i * dlambda for i in range(num_steps + 1)]\n",
        "\n",
        "# 5. Store the extracted position values and affine parameter values in separate lists or arrays (already done in step 4).\n",
        "# Print the first few calculated positions and affine parameters to verify.\n",
        "print(\"First 5 calculated positions:\", positions[:5])\n",
        "print(\"First 5 affine parameter values:\", affine_parameters[:5])"
      ],
      "execution_count": 7,
      "outputs": [
        {
          "output_type": "stream",
          "name": "stdout",
          "text": [
            "First 5 calculated positions: [0.0, 0.09999999999999999, 0.19999999999999998, 0.3, 0.39999999999999997]\n",
            "First 5 affine parameter values: [0.0, 0.1, 0.2, 0.30000000000000004, 0.4]\n"
          ]
        }
      ]
    },
    {
      "cell_type": "markdown",
      "metadata": {
        "id": "3c316fdd"
      },
      "source": [
        "## Visualize the path\n",
        "\n",
        "### Subtask:\n",
        "Plot the calculated path of the object in spacetime.\n"
      ]
    },
    {
      "cell_type": "markdown",
      "metadata": {
        "id": "05625bfd"
      },
      "source": [
        "**Reasoning**:\n",
        "Plot the calculated position values against the affine parameter values using matplotlib, adding labels, a title, and a grid as requested.\n",
        "\n"
      ]
    },
    {
      "cell_type": "code",
      "metadata": {
        "colab": {
          "base_uri": "https://localhost:8080/",
          "height": 411
        },
        "id": "19be88ca",
        "outputId": "55997d75-732d-4d77-ded9-5e3291fa2d47"
      },
      "source": [
        "import matplotlib.pyplot as plt\n",
        "\n",
        "# Create the plot\n",
        "plt.figure(figsize=(10, 6)) # Optional: Adjust figure size\n",
        "plt.plot(affine_parameters, positions)\n",
        "\n",
        "# Add labels and title\n",
        "plt.xlabel(\"Affine Parameter (λ)\")\n",
        "plt.ylabel(\"Position (x)\")\n",
        "plt.title(\"Geodesic Path in 1+1 Flat Spacetime\")\n",
        "\n",
        "# Add a grid\n",
        "plt.grid(True)\n",
        "\n",
        "# Display the plot\n",
        "plt.show()"
      ],
      "execution_count": 8,
      "outputs": [
        {
          "output_type": "display_data",
          "data": {
            "text/plain": [
              "<Figure size 1000x600 with 1 Axes>"
            ],
            "image/png": "[encoded data removed]"
          },
          "metadata": {}
        }
      ]
    },
    {
      "cell_type": "markdown",
      "metadata": {
        "id": "ec41459b"
      },
      "source": [
        "## Add interactivity (optional)\n",
        "\n",
        "### Subtask:\n",
        "Allow users to change initial conditions or spacetime parameters and see how the path changes.\n"
      ]
    },
    {
      "cell_type": "markdown",
      "metadata": {
        "id": "8f1e6966"
      },
      "source": [
        "**Reasoning**:\n",
        "Define a function to encapsulate the geodesic calculation and plotting, and then use ipywidgets to create interactive controls and link them to the function using `interact`.\n",
        "\n"
      ]
    },
    {
      "cell_type": "code",
      "metadata": {
        "colab": {
          "base_uri": "https://localhost:8080/",
          "height": 539,
          "referenced_widgets": [
            "e2104b0ca4a24171a8666c8c9aa0395d",
            "bba6ea06047c4eea9bb00cce678d0940",
            "f3319211a2354b6895bb85844df35cf8",
            "e9d5a62d8a1b4b32a557f58966b55329",
            "a4115933104e402092aa4d56998296f9",
            "19b3ca7b9b094a21949290c10c636f98",
            "5f27c17ee4f94b7caecd1d7adf163113",
            "665969e4f51d4030a9cd30d87374a0fa",
            "426c6dcc00fd4d6bbaf494936e448b98",
            "03bed337784a44528fc2977780c98ba8",
            "04fc08c37f16410eb4a3a02fd523f61c",
            "1b6b4870ad6b4edaacc1651b6ec75bbf",
            "9e18a4b0962b49dab793b9bc52e75b15",
            "1820b4b90e28476e83eeec685ebfaccc",
            "c666b18263204ac089ba252f15465b17",
            "291ea7e65a674fa79e3372d7ded3fc82"
          ]
        },
        "id": "d2f05082",
        "outputId": "44025b8e-4782-4a7b-b7c3-79aa24f15998"
      },
      "source": [
        "import matplotlib.pyplot as plt\n",
        "import ipywidgets as widgets\n",
        "from ipywidgets import interact, FloatSlider, IntSlider\n",
        "\n",
        "def plot_geodesic(initial_x, initial_v, dlambda, num_steps):\n",
        "    \"\"\"\n",
        "    Calculates and plots the geodesic path for given initial conditions and parameters.\n",
        "\n",
        "    Args:\n",
        "        initial_x: Initial position.\n",
        "        initial_v: Initial velocity.\n",
        "        dlambda: Step size for the affine parameter.\n",
        "        num_steps: Total number of steps.\n",
        "    \"\"\"\n",
        "    initial_state = [initial_x, initial_v]\n",
        "    states = [initial_state]\n",
        "\n",
        "    current_state = initial_state\n",
        "    for i in range(num_steps):\n",
        "        next_state = rk4_step(current_state, dlambda, ode_system)\n",
        "        states.append(next_state)\n",
        "        current_state = next_state\n",
        "\n",
        "    positions = [state[0] for state in states]\n",
        "    affine_parameters = [i * dlambda for i in range(num_steps + 1)]\n",
        "\n",
        "    plt.figure(figsize=(10, 6))\n",
        "    plt.plot(affine_parameters, positions)\n",
        "    plt.xlabel(\"Affine Parameter (λ)\")\n",
        "    plt.ylabel(\"Position (x)\")\n",
        "    plt.title(\"Geodesic Path in 1+1 Flat Spacetime\")\n",
        "    plt.grid(True)\n",
        "    plt.show()\n",
        "\n",
        "# Create interactive widgets\n",
        "initial_x_slider = FloatSlider(min=-10.0, max=10.0, step=0.1, value=0.0, description='Initial X:')\n",
        "initial_v_slider = FloatSlider(min=-10.0, max=10.0, step=0.1, value=1.0, description='Initial V:')\n",
        "dlambda_slider = FloatSlider(min=0.01, max=1.0, step=0.01, value=0.1, description='dlambda:')\n",
        "num_steps_slider = IntSlider(min=10, max=500, step=10, value=100, description='Num Steps:')\n",
        "\n",
        "# Use interact to link the function to the widgets\n",
        "interact(plot_geodesic,\n",
        "         initial_x=initial_x_slider,\n",
        "         initial_v=initial_v_slider,\n",
        "         dlambda=dlambda_slider,\n",
        "         num_steps=num_steps_slider);"
      ],
      "execution_count": 9,
      "outputs": [
        {
          "output_type": "display_data",
          "data": {
            "text/plain": [
              "interactive(children=(FloatSlider(value=0.0, description='Initial X:', max=10.0, min=-10.0), FloatSlider(value…"
            ],
            "application/vnd.jupyter.widget-view+json": {
              "version_major": 2,
              "version_minor": 0,
              "model_id": "e2104b0ca4a24171a8666c8c9aa0395d"
            }
          },
          "metadata": {}
        }
      ]
    },
    {
      "cell_type": "markdown",
      "metadata": {
        "id": "22b912a7"
      },
      "source": [
        "## Summary:\n",
        "\n",
        "### Data Analysis Key Findings\n",
        "\n",
        "*   The concept of geodesics in 1+1 general relativity was explained as the path of free-falling objects in spacetime.\n",
        "*   The flat 1+1 dimensional Minkowski spacetime metric ($\\text{g}_{\\mu\\nu} = [[-1, 0], [0, 1]]$) was chosen for its simplicity.\n",
        "*   The geodesic equation for the chosen flat spacetime was derived as $\\text{d}^2\\text{x}^\\text{W}/\\text{d}\\lambda^2 = 0$, indicating straight lines in spacetime.\n",
        "*   The fourth-order Runge-Kutta (RK4) method was selected as the numerical solver for the geodesic equations, noted for its balance of accuracy and computational cost.\n",
        "*   An ODE system function and an RK4 step function were successfully implemented to numerically solve the geodesic equations.\n",
        "*   Initial conditions for the object's position (0.0) and velocity (1.0) were defined.\n",
        "*   The RK4 solver was used to calculate the object's position at different steps of the affine parameter, showing a linear increase in position as expected for flat spacetime.\n",
        "*   The calculated geodesic path (position vs. affine parameter) was successfully plotted using Matplotlib.\n",
        "*   Interactive widgets were implemented using `ipywidgets` to allow users to dynamically change initial conditions and simulation parameters and visualize the resulting changes in the geodesic path plot.\n",
        "\n",
        "### Insights or Next Steps\n",
        "\n",
        "*   While the current implementation focuses on flat spacetime, the chosen RK4 method and the structure of the code are general enough to be extended to solve geodesic equations in curved 1+1 spacetimes by modifying the `ode_system` function to include non-zero Christoffel symbols.\n",
        "*   The visualization could be enhanced by adding the time dimension to the plot (if the affine parameter is related to proper time) or by animating the object's movement along the geodesic path.\n"
      ]
    },
    {
      "cell_type": "markdown",
      "metadata": {
        "id": "5b69a4b6"
      },
      "source": [
        "# Task\n",
        "Design a program to draw a geodesic path of a static rest object in 1+1 general relativity theory."
      ]
    },
    {
      "cell_type": "markdown",
      "metadata": {
        "id": "41d8dd56"
      },
      "source": [
        "## Understand the physics\n",
        "\n",
        "### Subtask:\n",
        "Briefly explain the concept of geodesics in general relativity and the relevant equations for 1+1 dimensions.\n"
      ]
    },
    {
      "cell_type": "markdown",
      "metadata": {
        "id": "90b81480"
      },
      "source": [
        "**Reasoning**:\n",
        "Provide a brief explanation of geodesics in general relativity and the relevant concepts for 1+1 dimensions as requested in the instructions.\n",
        "\n"
      ]
    },
    {
      "cell_type": "code",
      "metadata": {
        "colab": {
          "base_uri": "https://localhost:8080/"
        },
        "id": "9f11681f",
        "outputId": "f531988b-1b28-47b7-98e0-cbdc8cb1188f"
      },
      "source": [
        "print(\"In general relativity, a geodesic represents the path followed by a free-falling object in spacetime.\\n\\n These paths are the 'straightest possible' lines in the curved spacetime, which is how general relativity describes gravity. \\n\\n For this problem, we are considering a simplified 1+1 dimensional spacetime, meaning we have one spatial dimension and one time dimension.\")"
      ],
      "execution_count": 14,
      "outputs": [
        {
          "output_type": "stream",
          "name": "stdout",
          "text": [
            "In general relativity, a geodesic represents the path followed by a free-falling object in spacetime.\n",
            "\n",
            " These paths are the 'straightest possible' lines in the curved spacetime, which is how general relativity describes gravity. \n",
            "\n",
            " For this problem, we are considering a simplified 1+1 dimensional spacetime, meaning we have one spatial dimension and one time dimension.\n"
          ]
        }
      ]
    },
    {
      "cell_type": "markdown",
      "metadata": {
        "id": "d7eac45f"
      },
      "source": [
        "## Define initial conditions\n",
        "\n",
        "### Subtask:\n",
        "Specify the initial position and velocity of the static rest object.\n"
      ]
    },
    {
      "cell_type": "markdown",
      "metadata": {
        "id": "12ff4b1c"
      },
      "source": [
        "**Reasoning**:\n",
        "Define the initial state with zero initial velocity for a static rest object and print it as requested.\n",
        "\n"
      ]
    },
    {
      "cell_type": "code",
      "metadata": {
        "colab": {
          "base_uri": "https://localhost:8080/"
        },
        "id": "daff03c2",
        "outputId": "67f722ac-e176-4d7f-a986-4f5d34d18866"
      },
      "source": [
        "# 1. Define a list or array named initial_state containing the initial values\n",
        "#    for the dependent variables [x, v].\n",
        "# 2. Choose appropriate numerical values for the initial position and an initial velocity of zero since the object is at rest.\n",
        "initial_x = 5.0  # Starting position at x = 5 (example)\n",
        "initial_v = 0.0  # Initial velocity is zero for a static rest object\n",
        "initial_state = [initial_x, initial_v]\n",
        "\n",
        "# 3. Print the defined initial_state to confirm the values.\n",
        "print(f\"Initial state [position, velocity] for a static rest object: {initial_state}\")"
      ],
      "execution_count": 15,
      "outputs": [
        {
          "output_type": "stream",
          "name": "stdout",
          "text": [
            "Initial state [position, velocity] for a static rest object: [5.0, 0.0]\n"
          ]
        }
      ]
    },
    {
      "cell_type": "markdown",
      "metadata": {
        "id": "23243bcf"
      },
      "source": [
        "## Solve the equations\n",
        "\n",
        "### Subtask:\n",
        "Use the solver to find the position of the object at different times.\n"
      ]
    },
    {
      "cell_type": "markdown",
      "metadata": {
        "id": "48713464"
      },
      "source": [
        "**Reasoning**:\n",
        "Implement the simulation loop to calculate the position and velocity at different times using the defined `rk4_step` function and store the results, then extract and print the position and affine parameter values.\n",
        "\n"
      ]
    },
    {
      "cell_type": "code",
      "metadata": {
        "colab": {
          "base_uri": "https://localhost:8080/"
        },
        "id": "aa1a7148",
        "outputId": "bb144984-398e-43f5-81d2-e54c61103af2"
      },
      "source": [
        "# 1. Initialize an empty list or array named states to store the calculated states (position and velocity) at each step.\n",
        "states = []\n",
        "# 2. Add the initial_state to this list.\n",
        "states.append(initial_state)\n",
        "\n",
        "# 3. Choose a step size for the affine parameter (dlambda) and a total number of steps.\n",
        "dlambda = 0.1  # Step size\n",
        "num_steps = 100  # Total number of steps\n",
        "\n",
        "# 4. Loop for the specified number of steps.\n",
        "current_state = initial_state\n",
        "for i in range(num_steps):\n",
        "  # Use the rk4_step function to calculate the next state.\n",
        "  next_state = rk4_step(current_state, dlambda, ode_system)\n",
        "  # Append the calculated next state to the list storing the states.\n",
        "  states.append(next_state)\n",
        "  # Update the current state to the newly calculated next state for the next iteration.\n",
        "  current_state = next_state\n",
        "\n",
        "# 5. After the loop, extract the position values and the corresponding affine parameter values.\n",
        "positions = [state[0] for state in states]\n",
        "# 6. The affine parameter values are simply the step number multiplied by the step size.\n",
        "affine_parameters = [i * dlambda for i in range(num_steps + 1)]\n",
        "\n",
        "# 7. Print the first few calculated positions and affine parameters to verify.\n",
        "print(\"First 10 calculated positions:\", positions[:10])\n",
        "print(\"First 10 affine parameter values:\", affine_parameters[:10])"
      ],
      "execution_count": 16,
      "outputs": [
        {
          "output_type": "stream",
          "name": "stdout",
          "text": [
            "First 10 calculated positions: [5.0, 5.0, 5.0, 5.0, 5.0, 5.0, 5.0, 5.0, 5.0, 5.0]\n",
            "First 10 affine parameter values: [0.0, 0.1, 0.2, 0.30000000000000004, 0.4, 0.5, 0.6000000000000001, 0.7000000000000001, 0.8, 0.9]\n"
          ]
        }
      ]
    },
    {
      "cell_type": "markdown",
      "metadata": {
        "id": "8e67f371"
      },
      "source": [
        "## Visualize the path\n",
        "\n",
        "### Subtask:\n",
        "Plot the calculated path of the object in spacetime.\n"
      ]
    },
    {
      "cell_type": "markdown",
      "metadata": {
        "id": "1e143c00"
      },
      "source": [
        "**Reasoning**:\n",
        "Plot the calculated position values against the affine parameter values using matplotlib, adding labels, a title, and a grid as requested.\n",
        "\n"
      ]
    },
    {
      "cell_type": "code",
      "metadata": {
        "colab": {
          "base_uri": "https://localhost:8080/",
          "height": 409
        },
        "id": "9fc3074c",
        "outputId": "96d7e474-1f2e-4105-ff1d-52428e22122a"
      },
      "source": [
        "import matplotlib.pyplot as plt\n",
        "\n",
        "plt.figure(figsize=(10, 6))\n",
        "plt.plot(affine_parameters, positions)\n",
        "plt.xlabel(\"Affine Parameter (λ)\")\n",
        "plt.ylabel(\"Position (x)\")\n",
        "plt.title(\"Geodesic Path of a Static Object in 1+1 Flat Spacetime\")\n",
        "plt.grid(True)\n",
        "plt.show()"
      ],
      "execution_count": 17,
      "outputs": [
        {
          "output_type": "display_data",
          "data": {
            "text/plain": [
              "<Figure size 1000x600 with 1 Axes>"
            ],
            "image/png": "[encoded data removed]"
          },
          "metadata": {}
        }
      ]
    },
    {
      "cell_type": "markdown",
      "metadata": {
        "id": "d4d9a702"
      },
      "source": [
        "## Add interactivity (optional)\n",
        "\n",
        "### Subtask:\n",
        "Allow users to change initial conditions or spacetime parameters and see how the path changes.\n"
      ]
    },
    {
      "cell_type": "markdown",
      "metadata": {
        "id": "661356fb"
      },
      "source": [
        "**Reasoning**:\n",
        "Define a function to encapsulate the geodesic calculation and plotting, and then use ipywidgets to create interactive controls and link them to the function using `interact`.\n",
        "\n"
      ]
    },
    {
      "cell_type": "code",
      "metadata": {
        "colab": {
          "base_uri": "https://localhost:8080/",
          "height": 537,
          "referenced_widgets": [
            "3ad257d34fce4e7c8e0168135a0f06f7",
            "ea3777c4f0ef4f7cbbcf88ebb779150d",
            "07fd6009bc4b4ee49237d052a246fe6e",
            "66e3f1a3db074225a1cd6e444121c8f6",
            "4dd7e48a11b94b1a993a660921a854bf",
            "5255de101dae4bcdb71897349aa2eb2a",
            "752f835cc14b491ab756de566782e34b",
            "dca2f7e26e2f423dafde3fd8e0b60a80",
            "e21aaaedc1aa4d9591f593c2535896ef",
            "15d73d2ff5374a159af0023cc171458e",
            "f520df8c425c4b15a0276223e6d11c54",
            "f93385c02e014357935a6a25ca7153bb",
            "be23e92f511241778a3d366450de064f",
            "5d83f5e3183a4278b24ece1e4d0af9a5",
            "27bfa2c626884b0cbe997236c52843d5",
            "8524391565da4c60b1b8a16c867afb8c"
          ]
        },
        "id": "cf05794f",
        "outputId": "1319610f-c0ab-4ba9-faed-d2cb04c5234b"
      },
      "source": [
        "import matplotlib.pyplot as plt\n",
        "import ipywidgets as widgets\n",
        "from ipywidgets import interact, FloatSlider, IntSlider\n",
        "\n",
        "def plot_geodesic(initial_x, initial_v, dlambda, num_steps):\n",
        "    \"\"\"\n",
        "    Calculates and plots the geodesic path for given initial conditions and parameters.\n",
        "\n",
        "    Args:\n",
        "        initial_x: Initial position.\n",
        "        initial_v: Initial velocity.\n",
        "        dlambda: Step size for the affine parameter.\n",
        "        num_steps: Total number of steps.\n",
        "    \"\"\"\n",
        "    initial_state = [initial_x, initial_v]\n",
        "    states = [initial_state]\n",
        "\n",
        "    current_state = initial_state\n",
        "    for i in range(num_steps):\n",
        "        next_state = rk4_step(current_state, dlambda, ode_system)\n",
        "        states.append(next_state)\n",
        "        current_state = next_state\n",
        "\n",
        "    positions = [state[0] for state in states]\n",
        "    affine_parameters = [i * dlambda for i in range(num_steps + 1)]\n",
        "\n",
        "    plt.figure(figsize=(10, 6))\n",
        "    plt.plot(affine_parameters, positions)\n",
        "    plt.xlabel(\"Affine Parameter (λ)\")\n",
        "    plt.ylabel(\"Position (x)\")\n",
        "    plt.title(\"Geodesic Path in 1+1 Flat Spacetime\")\n",
        "    plt.grid(True)\n",
        "    plt.show()\n",
        "\n",
        "initial_x_slider = FloatSlider(min=-10.0, max=10.0, step=0.1, value=5.0, description='Initial X:')\n",
        "initial_v_slider = FloatSlider(min=-10.0, max=10.0, step=0.1, value=0.0, description='Initial V:')\n",
        "dlambda_slider = FloatSlider(min=0.01, max=1.0, step=0.01, value=0.1, description='dlambda:')\n",
        "num_steps_slider = IntSlider(min=10, max=500, step=10, value=100, description='Num Steps:')\n",
        "\n",
        "interact(plot_geodesic,\n",
        "         initial_x=initial_x_slider,\n",
        "         initial_v=initial_v_slider,\n",
        "         dlambda=dlambda_slider,\n",
        "         num_steps=num_steps_slider);"
      ],
      "execution_count": 18,
      "outputs": [
        {
          "output_type": "display_data",
          "data": {
            "text/plain": [
              "interactive(children=(FloatSlider(value=5.0, description='Initial X:', max=10.0, min=-10.0), FloatSlider(value…"
            ],
            "application/vnd.jupyter.widget-view+json": {
              "version_major": 2,
              "version_minor": 0,
              "model_id": "3ad257d34fce4e7c8e0168135a0f06f7"
            }
          },
          "metadata": {}
        }
      ]
    },
    {
      "cell_type": "markdown",
      "metadata": {
        "id": "3c09b6bb"
      },
      "source": [
        "## Summary:\n",
        "\n",
        "### Data Analysis Key Findings\n",
        "\n",
        "*   The simulation of a static rest object's geodesic in 1+1 dimensions showed that its position remains constant over the affine parameter, as expected. The first 10 calculated positions were all 5.0, matching the initial position.\n",
        "*   The affine parameter values increased linearly with a step size of 0.1, as defined in the simulation setup.\n",
        "*   The visualization successfully plotted the object's constant position against the increasing affine parameter, depicting a horizontal line at x=5.0.\n",
        "*   Interactive widgets were successfully integrated, allowing users to dynamically adjust initial position, initial velocity, step size, and number of steps to observe their impact on the geodesic path.\n",
        "\n",
        "### Insights or Next Steps\n",
        "\n",
        "*   The current implementation models a static object in flat spacetime. To explore curved spacetime, the `ode_system` function would need to be modified to include terms from the Christoffel symbols relevant to the specific spacetime metric.\n",
        "*   While the current visualization is effective for 1+1 dimensions, extending this to higher dimensions would require a different plotting approach, potentially using 3D plots for 1+2 dimensions or focusing on specific projections of the path.\n"
      ]
    },
    {
      "cell_type": "markdown",
      "metadata": {
        "id": "07aaa579"
      },
      "source": [
        "# Task\n",
        "Design a program to draw a geodesic path of an object in 1+1 general relativity theory for curved spacetime."
      ]
    },
    {
      "cell_type": "markdown",
      "metadata": {
        "id": "9bbd26a1"
      },
      "source": [
        "## Choose a curved spacetime metric\n",
        "\n",
        "### Subtask:\n",
        "Select a simplified 1+1 dimensional curved spacetime metric that can represent a gravitational field.\n"
      ]
    },
    {
      "cell_type": "markdown",
      "metadata": {
        "id": "22eccade"
      },
      "source": [
        "**Reasoning**:\n",
        "State the chosen curved spacetime metric, explain what it represents, and justify the choice as requested in the instructions.\n",
        "\n"
      ]
    },
    {
      "cell_type": "code",
      "metadata": {
        "colab": {
          "base_uri": "https://localhost:8080/"
        },
        "id": "91d4cbb6",
        "outputId": "78526904-0a5c-483e-8cc8-3324cb24cc63"
      },
      "source": [
        "print(\"For this task, to represent a simplified curved spacetime, we will use a 1+1 dimensional metric inspired by the Schwarzschild metric.\")\n",
        "print(\"A simplified form of this metric can be written as:\")\n",
        "print(\"ds² = -(1 - 2M/r) dt² + (1 - 2M/r)⁻¹ dr²\")\n",
        "print(\"\\nIn this 1+1 dimensional simplification, 'r' can be thought of as the spatial dimension and 't' as the time dimension. 'M' represents a parameter related to the mass creating the gravitational field.\")\n",
        "print(\"This metric represents a simplified gravitational field around a central mass in 1+1 dimensions, where the curvature of spacetime is dependent on the distance from the 'mass'.\")\n",
        "print(\"\\nThis metric is chosen because it is a relatively simple curved spacetime metric that still demonstrates the fundamental concept of how mass warps spacetime and affects geodesics, while remaining in the manageable 1+1 dimensional context.\")"
      ],
      "execution_count": 19,
      "outputs": [
        {
          "output_type": "stream",
          "name": "stdout",
          "text": [
            "For this task, to represent a simplified curved spacetime, we will use a 1+1 dimensional metric inspired by the Schwarzschild metric.\n",
            "A simplified form of this metric can be written as:\n",
            "ds² = -(1 - 2M/r) dt² + (1 - 2M/r)⁻¹ dr²\n",
            "\n",
            "In this 1+1 dimensional simplification, 'r' can be thought of as the spatial dimension and 't' as the time dimension. 'M' represents a parameter related to the mass creating the gravitational field.\n",
            "This metric represents a simplified gravitational field around a central mass in 1+1 dimensions, where the curvature of spacetime is dependent on the distance from the 'mass'.\n",
            "\n",
            "This metric is chosen because it is a relatively simple curved spacetime metric that still demonstrates the fundamental concept of how mass warps spacetime and affects geodesics, while remaining in the manageable 1+1 dimensional context.\n"
          ]
        }
      ]
    },
    {
      "cell_type": "markdown",
      "metadata": {
        "id": "00d65e5d"
      },
      "source": [
        "## Derive the metric tensor\n",
        "\n",
        "### Subtask:\n",
        "Write down the mathematical form of the chosen metric tensor.\n"
      ]
    },
    {
      "cell_type": "markdown",
      "metadata": {
        "id": "dde5e43e"
      },
      "source": [
        "**Reasoning**:\n",
        "Write down the metric tensor components for the chosen 1+1 dimensional curved spacetime metric and print them as requested.\n",
        "\n"
      ]
    },
    {
      "cell_type": "code",
      "metadata": {
        "colab": {
          "base_uri": "https://localhost:8080/"
        },
        "id": "8a6dacfc",
        "outputId": "e3b9e708-f2b4-4561-fabd-5cdf26fb3e0e"
      },
      "source": [
        "print(\"The chosen 1+1 dimensional curved spacetime metric is:\")\n",
        "print(\"ds² = -(1 - 2M/r) dt² + (1 - 2M/r)⁻¹ dr²\")\n",
        "print(\"\\nFor a 1+1 dimensional spacetime with coordinates (t, r), the metric tensor g_μν has components:\")\n",
        "print(\"g_00 corresponds to the coefficient of dt²\")\n",
        "print(\"g_11 corresponds to the coefficient of dr²\")\n",
        "print(\"g_01 and g_10 are the coefficients of dt dr terms, which are zero in this diagonal metric.\")\n",
        "\n",
        "print(\"\\nThe metric tensor in matrix form is:\")\n",
        "print(\"[[- (1 - 2M/r), 0             ],\")\n",
        "print(\" [  0           , (1 - 2M/r)⁻¹]]\")\n",
        "print(\"\\nWhere:\")\n",
        "print(\"- g_00 = -(1 - 2M/r)\")\n",
        "print(\"- g_11 = (1 - 2M/r)⁻¹\")\n",
        "print(\"- g_01 = g_10 = 0\")"
      ],
      "execution_count": 20,
      "outputs": [
        {
          "output_type": "stream",
          "name": "stdout",
          "text": [
            "The chosen 1+1 dimensional curved spacetime metric is:\n",
            "ds² = -(1 - 2M/r) dt² + (1 - 2M/r)⁻¹ dr²\n",
            "\n",
            "For a 1+1 dimensional spacetime with coordinates (t, r), the metric tensor g_μν has components:\n",
            "g_00 corresponds to the coefficient of dt²\n",
            "g_11 corresponds to the coefficient of dr²\n",
            "g_01 and g_10 are the coefficients of dt dr terms, which are zero in this diagonal metric.\n",
            "\n",
            "The metric tensor in matrix form is:\n",
            "[[- (1 - 2M/r), 0             ],\n",
            " [  0           , (1 - 2M/r)⁻¹]]\n",
            "\n",
            "Where:\n",
            "- g_00 = -(1 - 2M/r)\n",
            "- g_11 = (1 - 2M/r)⁻¹\n",
            "- g_01 = g_10 = 0\n"
          ]
        }
      ]
    },
    {
      "cell_type": "markdown",
      "metadata": {
        "id": "9e0cec94"
      },
      "source": [
        "## Calculate christoffel symbols\n",
        "\n",
        "### Subtask:\n",
        "Derive the Christoffel symbols for the chosen curved metric. These will be non-zero and depend on the spacetime coordinates.\n"
      ]
    },
    {
      "cell_type": "markdown",
      "metadata": {
        "id": "ba621924"
      },
      "source": [
        "**Reasoning**:\n",
        "Implement the steps to derive the Christoffel symbols for the chosen curved metric as specified in the instructions, which involves calculating the inverse metric, derivatives of the metric, and substituting them into the Christoffel symbol formula.\n",
        "\n"
      ]
    },
    {
      "cell_type": "code",
      "metadata": {
        "colab": {
          "base_uri": "https://localhost:8080/"
        },
        "id": "13f517c7",
        "outputId": "604a7086-7bd3-4a70-b0e1-7682f8494ac7"
      },
      "source": [
        "import sympy\n",
        "\n",
        "# Define symbolic variables\n",
        "r, M = sympy.symbols('r M')\n",
        "\n",
        "# Define the metric tensor components\n",
        "g_00 = -(1 - 2*M/r)\n",
        "g_11 = 1/(1 - 2*M/r)\n",
        "g = sympy.Matrix([[g_00, 0], [0, g_11]])\n",
        "\n",
        "# 4. Calculate the inverse metric tensor components (g^μν)\n",
        "g_inv = g.inv()\n",
        "g_inv_00 = g_inv[0, 0]\n",
        "g_inv_11 = g_inv[1, 1]\n",
        "\n",
        "print(f\"Inverse metric tensor g^00: {g_inv_00}\")\n",
        "print(f\"Inverse metric tensor g^11: {g_inv_11}\")\n",
        "\n",
        "# 5. Calculate the partial derivatives of g_μν with respect to 'r'\n",
        "dg_00_dr = sympy.diff(g_00, r)\n",
        "dg_11_dr = sympy.diff(g_11, r)\n",
        "\n",
        "print(f\"Partial derivative of g_00 with respect to r: {dg_00_dr}\")\n",
        "print(f\"Partial derivative of g_11 with respect to r: {dg_11_dr}\")\n",
        "\n",
        "# 1. Explain the general formula for Christoffel symbols of the second kind\n",
        "print(\"\\nGeneral formula for Christoffel symbols of the second kind:\")\n",
        "print(\"Γᵂ_αβ = 1/2 * gᵂσ * (∂g_σα/∂xᵇ + ∂g_σβ/∂xᵃ - ∂g_αβ/∂xσ)\")\n",
        "\n",
        "# 2. State that for the chosen diagonal metric (g_01 = g_10 = 0), only certain Christoffel symbols will be non-zero.\n",
        "print(\"\\nFor the diagonal metric with g_01 = g_10 = 0, and the metric components depending only on 'r' (x¹), the potentially non-zero Christoffel symbols are those where the derivatives of the metric components are non-zero (i.e., derivatives with respect to 'r') and the inverse metric components are non-zero.\")\n",
        "print(\"The potentially non-zero Christoffel symbols are:\")\n",
        "print(\"Γ⁰_01 = Γ⁰_10 (due to symmetry)\")\n",
        "print(\"Γ¹_00\")\n",
        "print(\"Γ¹_11\")\n",
        "\n",
        "\n",
        "# 3. Write down the formulas for the non-zero Christoffel symbols\n",
        "# Γ⁰_01 = 1/2 * g⁰⁰ * (∂g_00/∂x¹ + ∂g_01/∂x⁰ - ∂g_01/∂x⁰) = 1/2 * g⁰⁰ * ∂g_00/∂r\n",
        "# Γ¹_00 = 1/2 * g¹¹ * (∂g_10/∂x⁰ + ∂g_10/∂x⁰ - ∂g_00/∂x¹) = 1/2 * g¹¹ * (-∂g_00/∂r)\n",
        "# Γ¹_11 = 1/2 * g¹¹ * (∂g_11/∂x¹ + ∂g_11/∂x¹ - ∂g_11/∂x¹) = 1/2 * g¹¹ * ∂g_11/∂r\n",
        "print(\"\\nFormulas for the non-zero Christoffel symbols:\")\n",
        "print(\"Γ⁰_01 = 1/2 * g⁰⁰ * ∂g_00/∂r\")\n",
        "print(\"Γ¹_00 = -1/2 * g¹¹ * ∂g_00/∂r\")\n",
        "print(\"Γ¹_11 = 1/2 * g¹¹ * ∂g_11/∂r\")\n",
        "\n",
        "# 6. Substitute the calculated inverse metric tensor components and partial derivatives into the Christoffel symbol formulas\n",
        "Gamma_0_01 = sympy.simplify(sympy.Rational(1, 2) * g_inv_00 * dg_00_dr)\n",
        "Gamma_1_00 = sympy.simplify(sympy.Rational(-1, 2) * g_inv_11 * dg_00_dr)\n",
        "Gamma_1_11 = sympy.simplify(sympy.Rational(1, 2) * g_inv_11 * dg_11_dr)\n",
        "\n",
        "# 7. Print the derived expressions for the non-zero Christoffel symbols.\n",
        "print(f\"\\nDerived Christoffel symbols:\")\n",
        "print(f\"Γ⁰_01 = Γ⁰_10 = {Gamma_0_01}\")\n",
        "print(f\"Γ¹_00 = {Gamma_1_00}\")\n",
        "print(f\"Γ¹_11 = {Gamma_1_11}\")"
      ],
      "execution_count": 21,
      "outputs": [
        {
          "output_type": "stream",
          "name": "stdout",
          "text": [
            "Inverse metric tensor g^00: -r/(-2*M + r)\n",
            "Inverse metric tensor g^11: (-2*M + r)/r\n",
            "Partial derivative of g_00 with respect to r: -2*M/r**2\n",
            "Partial derivative of g_11 with respect to r: -2*M/(r**2*(-2*M/r + 1)**2)\n",
            "\n",
            "General formula for Christoffel symbols of the second kind:\n",
            "Γᵂ_αβ = 1/2 * gᵂσ * (∂g_σα/∂xᵇ + ∂g_σβ/∂xᵃ - ∂g_αβ/∂xσ)\n",
            "\n",
            "For the diagonal metric with g_01 = g_10 = 0, and the metric components depending only on 'r' (x¹), the potentially non-zero Christoffel symbols are those where the derivatives of the metric components are non-zero (i.e., derivatives with respect to 'r') and the inverse metric components are non-zero.\n",
            "The potentially non-zero Christoffel symbols are:\n",
            "Γ⁰_01 = Γ⁰_10 (due to symmetry)\n",
            "Γ¹_00\n",
            "Γ¹_11\n",
            "\n",
            "Formulas for the non-zero Christoffel symbols:\n",
            "Γ⁰_01 = 1/2 * g⁰⁰ * ∂g_00/∂r\n",
            "Γ¹_00 = -1/2 * g¹¹ * ∂g_00/∂r\n",
            "Γ¹_11 = 1/2 * g¹¹ * ∂g_11/∂r\n",
            "\n",
            "Derived Christoffel symbols:\n",
            "Γ⁰_01 = Γ⁰_10 = M/(r*(-2*M + r))\n",
            "Γ¹_00 = M*(-2*M + r)/r**3\n",
            "Γ¹_11 = M/(r*(2*M - r))\n"
          ]
        }
      ]
    },
    {
      "cell_type": "markdown",
      "metadata": {
        "id": "d290a9dd"
      },
      "source": [
        "## Write the geodesic equations\n",
        "\n",
        "### Subtask:\n",
        "Write down the geodesic equations using the calculated Christoffel symbols.\n"
      ]
    },
    {
      "cell_type": "markdown",
      "metadata": {
        "id": "b07391b5"
      },
      "source": [
        "**Reasoning**:\n",
        "Explain the general geodesic equation and substitute the calculated Christoffel symbols to write down the specific geodesic equations for time and spatial components in the chosen curved spacetime.\n",
        "\n"
      ]
    },
    {
      "cell_type": "code",
      "metadata": {
        "colab": {
          "base_uri": "https://localhost:8080/"
        },
        "id": "bfb3513c",
        "outputId": "554cc738-4d9d-4ee6-8924-c78934448bc6"
      },
      "source": [
        "# 1. Explain the general form of the geodesic equation in terms of Christoffel symbols.\n",
        "print(\"The general form of the geodesic equation for a path xᵂ(λ) in spacetime, where λ is an affine parameter, is given by:\")\n",
        "print(\"d²xᵂ/dλ² + Γᵂ_αβ (dxᵃ/dλ)(dxᵇ/dλ) = 0\")\n",
        "print(\"\\nHere:\")\n",
        "print(\"- xᵂ represents the spacetime coordinates (t, r) in 1+1 dimensions.\")\n",
        "print(\"- λ is the affine parameter along the geodesic.\")\n",
        "print(\"- d²xᵂ/dλ² is the second derivative of the coordinates with respect to the affine parameter (acceleration).\")\n",
        "print(\"- Γᵂ_αβ are the Christoffel symbols of the second kind, which depend on the metric of spacetime.\")\n",
        "print(\"- dxᵃ/dλ and dxᵇ/dλ are the first derivatives of the coordinates with respect to the affine parameter (velocity).\")\n",
        "print(\"- The indices α and β are summed over the spacetime dimensions (0 and 1 in 1+1 dimensions).\")\n",
        "\n",
        "\n",
        "# 2. Write down the two coupled second-order differential equations that represent the geodesic equations for the time component (t) and the spatial component (r) in 1+1 dimensions, substituting the non-zero Christoffel symbols derived in the previous step.\n",
        "# The geodesic equation for the time component (μ = 0):\n",
        "# d²t/dλ² + Γ⁰_αβ (dxᵃ/dλ)(dxᵇ/dλ) = 0\n",
        "# Non-zero Christoffel symbols with μ=0 are Γ⁰_01 and Γ⁰_10.\n",
        "# The sum over α, β will include terms like Γ⁰_00(dx⁰/dλ)(dx⁰/dλ), Γ⁰_01(dx⁰/dλ)(dx¹/dλ), Γ⁰_10(dx¹/dλ)(dx⁰/dλ), Γ⁰_11(dx¹/dλ)(dx¹/dλ).\n",
        "# Since Γ⁰_00 and Γ⁰_11 are zero, and x⁰ = t, x¹ = r:\n",
        "# d²t/dλ² + Γ⁰_01(dt/dλ)(dr/dλ) + Γ⁰_10(dr/dλ)(dt/dλ) = 0\n",
        "# Since Γ⁰_01 = Γ⁰_10:\n",
        "# d²t/dλ² + 2 * Γ⁰_01 * (dt/dλ)(dr/dλ) = 0\n",
        "\n",
        "# The geodesic equation for the spatial component (μ = 1):\n",
        "# d²r/dλ² + Γ¹_αβ (dxᵃ/dλ)(dxᵇ/dλ) = 0\n",
        "# Non-zero Christoffel symbols with μ=1 are Γ¹_00 and Γ¹_11.\n",
        "# The sum over α, β will include terms like Γ¹_00(dx⁰/dλ)(dx⁰/dλ), Γ¹_01(dx⁰/dλ)(dx¹/dλ), Γ¹_10(dx¹/dλ)(dx⁰/dλ), Γ¹_11(dx¹/dλ)(dx¹/dλ).\n",
        "# Since Γ¹_01 and Γ¹_10 are zero, and x⁰ = t, x¹ = r:\n",
        "# d²r/dλ² + Γ¹_00(dt/dλ)(dt/dλ) + Γ¹_11(dr/dλ)(dr/dλ) = 0\n",
        "# d²r/dλ² + Γ¹_00(dt/dλ)² + Γ¹_11(dr/dλ)² = 0\n",
        "\n",
        "print(\"\\nSubstituting the non-zero Christoffel symbols (Γ⁰_01, Γ¹_00, Γ¹_11) into the general geodesic equation, we get the two coupled second-order differential equations for the time (t) and spatial (r) components:\")\n",
        "\n",
        "# 3. Explicitly show how the terms with the calculated Christoffel symbols fit into the general geodesic equation for both the time and spatial components.\n",
        "print(\"\\nFor the time component (μ = 0):\")\n",
        "print(\"d²t/dλ² + Γ⁰_01 (dt/dλ)(dr/dλ) + Γ⁰_10 (dr/dλ)(dt/dλ) = 0\")\n",
        "print(\"Since Γ⁰_01 = Γ⁰_10 = M / (r * (-2M + r)):\")\n",
        "print(f\"d²t/dλ² + 2 * (M / (r * (-2M + r))) * (dt/dλ)(dr/dλ) = 0\")\n",
        "\n",
        "print(\"\\nFor the spatial component (μ = 1):\")\n",
        "print(\"d²r/dλ² + Γ¹_00 (dt/dλ)(dt/dλ) + Γ¹_11 (dr/dλ)(dr/dλ) = 0\")\n",
        "print(f\"Since Γ¹_00 = M * (-2M + r) / r³ and Γ¹_11 = M / (r * (2M - r)):\")\n",
        "print(f\"d²r/dλ² + (M * (-2M + r) / r³) * (dt/dλ)² + (M / (r * (2M - r))) * (dr/dλ)² = 0\")\n",
        "\n",
        "# 4. Explain that these are the equations that need to be solved numerically to find the path of an object in this curved spacetime.\n",
        "print(\"\\nThese two coupled second-order differential equations are the geodesic equations for an object in the chosen 1+1 dimensional curved spacetime.\")\n",
        "print(\"Since these equations are generally difficult or impossible to solve analytically, they need to be solved numerically to find the path (t(λ), r(λ)) of a free-falling object in this spacetime.\")"
      ],
      "execution_count": 22,
      "outputs": [
        {
          "output_type": "stream",
          "name": "stdout",
          "text": [
            "The general form of the geodesic equation for a path xᵂ(λ) in spacetime, where λ is an affine parameter, is given by:\n",
            "d²xᵂ/dλ² + Γᵂ_αβ (dxᵃ/dλ)(dxᵇ/dλ) = 0\n",
            "\n",
            "Here:\n",
            "- xᵂ represents the spacetime coordinates (t, r) in 1+1 dimensions.\n",
            "- λ is the affine parameter along the geodesic.\n",
            "- d²xᵂ/dλ² is the second derivative of the coordinates with respect to the affine parameter (acceleration).\n",
            "- Γᵂ_αβ are the Christoffel symbols of the second kind, which depend on the metric of spacetime.\n",
            "- dxᵃ/dλ and dxᵇ/dλ are the first derivatives of the coordinates with respect to the affine parameter (velocity).\n",
            "- The indices α and β are summed over the spacetime dimensions (0 and 1 in 1+1 dimensions).\n",
            "\n",
            "Substituting the non-zero Christoffel symbols (Γ⁰_01, Γ¹_00, Γ¹_11) into the general geodesic equation, we get the two coupled second-order differential equations for the time (t) and spatial (r) components:\n",
            "\n",
            "For the time component (μ = 0):\n",
            "d²t/dλ² + Γ⁰_01 (dt/dλ)(dr/dλ) + Γ⁰_10 (dr/dλ)(dt/dλ) = 0\n",
            "Since Γ⁰_01 = Γ⁰_10 = M / (r * (-2M + r)):\n",
            "d²t/dλ² + 2 * (M / (r * (-2M + r))) * (dt/dλ)(dr/dλ) = 0\n",
            "\n",
            "For the spatial component (μ = 1):\n",
            "d²r/dλ² + Γ¹_00 (dt/dλ)(dt/dλ) + Γ¹_11 (dr/dλ)(dr/dλ) = 0\n",
            "Since Γ¹_00 = M * (-2M + r) / r³ and Γ¹_11 = M / (r * (2M - r)):\n",
            "d²r/dλ² + (M * (-2M + r) / r³) * (dt/dλ)² + (M / (r * (2M - r))) * (dr/dλ)² = 0\n",
            "\n",
            "These two coupled second-order differential equations are the geodesic equations for an object in the chosen 1+1 dimensional curved spacetime.\n",
            "Since these equations are generally difficult or impossible to solve analytically, they need to be solved numerically to find the path (t(λ), r(λ)) of a free-falling object in this spacetime.\n"
          ]
        }
      ]
    },
    {
      "cell_type": "markdown",
      "metadata": {
        "id": "36ec333c"
      },
      "source": [
        "## Implement the ode system for curved spacetime\n",
        "\n",
        "### Subtask:\n",
        "Modify the `ode_system` function to include the terms from the non-zero Christoffel symbols.\n"
      ]
    },
    {
      "cell_type": "markdown",
      "metadata": {
        "id": "17ea4065"
      },
      "source": [
        "**Reasoning**:\n",
        "Define the ODE system for the 1+1 curved spacetime geodesic equations, including the Christoffel symbols, and handle potential singularities.\n",
        "\n"
      ]
    },
    {
      "cell_type": "code",
      "metadata": {
        "colab": {
          "base_uri": "https://localhost:8080/",
          "height": 106
        },
        "id": "274534ed",
        "outputId": "6ede57fe-2340-4b0c-a95b-570aa9e6fdc6"
      },
      "source": [
        "def ode_system_curved(state, lambda_param):\n",
        "    \"\"\"\n",
        "    Represents the system of first-order ODEs for the geodesic equation\n",
        "    in 1+1 curved spacetime (simplified Schwarzschild-like metric).\n",
        "\n",
        "    Args:\n",
        "        state: A list or array containing the current values of the dependent variables\n",
        "               [t, r, vt, vr], where t is time, r is position, vt = dt/dλ, and vr = dr/dλ.\n",
        "        lambda_param: The current value of the affine parameter λ (not explicitly used\n",
        "                      in the derivatives for this metric, but required by the solver signature).\n",
        "\n",
        "    Returns:\n",
        "        A list or array containing the derivatives [dt/dλ, dr/dλ, d²t/dλ², d²r/dλ²].\n",
        "        Returns None if a singularity is encountered.\n",
        "    \"\"\"\n",
        "    t, r, vt, vr = state\n",
        "    M = 1.0  # Define the mass parameter M (choose an appropriate numerical value)\n",
        "\n",
        "    # Handle potential singularity at r = 2M and r = 0\n",
        "    if r <= 2 * M or r == 0:\n",
        "        print(f\"Warning: Singularity encountered at r = {r}. Stopping integration.\")\n",
        "        return None\n",
        "\n",
        "    # Calculate non-zero Christoffel symbols\n",
        "    # Γ⁰_01 = M / (r * (r - 2M))\n",
        "    Gamma_0_01 = M / (r * (r - 2M))\n",
        "\n",
        "    # Γ¹_00 = M * (r - 2M) / r³\n",
        "    Gamma_1_00 = M * (r - 2*M) / (r**3)\n",
        "\n",
        "    # Γ¹_11 = M / (r * (2M - r))\n",
        "    Gamma_1_11 = M / (r * (2*M - r))\n",
        "\n",
        "    # Calculate the second derivatives using the geodesic equations:\n",
        "    # d²t/dλ² = -2 * Γ⁰_01 * (dt/dλ) * (dr/dλ)\n",
        "    ddt_dlambda2 = -2 * Gamma_0_01 * vt * vr\n",
        "\n",
        "    # d²r/dλ² = -Γ¹_00 * (dt/dλ)² - Γ¹_11 * (dr/dλ)²\n",
        "    ddr_dlambda2 = -Gamma_1_00 * (vt**2) - Gamma_1_11 * (vr**2)\n",
        "\n",
        "    # The ODE system requires returning the first derivatives (velocities) and the second derivatives (accelerations)\n",
        "    # [dt/dλ, dr/dλ, d²t/dλ², d²r/dλ²]\n",
        "    return [vt, vr, ddt_dlambda2, ddr_dlambda2]\n",
        "\n",
        "print(\"The 'ode_system_curved' function for the 1+1 curved spacetime geodesic equations has been defined.\")"
      ],
      "execution_count": 23,
      "outputs": [
        {
          "output_type": "error",
          "ename": "SyntaxError",
          "evalue": "invalid decimal literal (ipython-input-348426663.py, line 26)",
          "traceback": [
            "\u001b[0;36m  File \u001b[0;32m\"/tmp/ipython-input-348426663.py\"\u001b[0;36m, line \u001b[0;32m26\u001b[0m\n\u001b[0;31m    Gamma_0_01 = M / (r * (r - 2M))\u001b[0m\n\u001b[0m                               ^\u001b[0m\n\u001b[0;31mSyntaxError\u001b[0m\u001b[0;31m:\u001b[0m invalid decimal literal\n"
          ]
        }
      ]
    },
    {
      "cell_type": "markdown",
      "metadata": {
        "id": "7a38e593"
      },
      "source": [
        "**Reasoning**:\n",
        "Correct the syntax error in the `ode_system_curved` function where `2M` is used directly in the calculation, which is not valid Python syntax. Replace it with `2 * M`. Regenerate the full function to ensure all parts are correct.\n",
        "\n"
      ]
    },
    {
      "cell_type": "code",
      "metadata": {
        "colab": {
          "base_uri": "https://localhost:8080/"
        },
        "id": "fuyWcD-cFyeZ",
        "outputId": "942f347e-f00b-4335-e831-6eadaad6e3c7"
      },
      "source": [
        "def ode_system_curved(state, lambda_param):\n",
        "    \"\"\"\n",
        "    Represents the system of first-order ODEs for the geodesic equation\n",
        "    in 1+1 curved spacetime (simplified Schwarzschild-like metric).\n",
        "\n",
        "    Args:\n",
        "        state: A list or array containing the current values of the dependent variables\n",
        "               [t, r, vt, vr], where t is time, r is position, vt = dt/dλ, and vr = dr/dλ.\n",
        "        lambda_param: The current value of the affine parameter λ (not explicitly used\n",
        "                      in the derivatives for this metric, but required by the solver signature).\n",
        "\n",
        "    Returns:\n",
        "        A list or array containing the derivatives [dt/dλ, dr/dλ, d²t/dλ², d²r/dλ²].\n",
        "        Returns None if a singularity is encountered.\n",
        "    \"\"\"\n",
        "    t, r, vt, vr = state\n",
        "    M = 1.0  # Define the mass parameter M (choose an appropriate numerical value)\n",
        "\n",
        "    # Handle potential singularity at r = 2M and r = 0\n",
        "    if r <= 2 * M or r == 0:\n",
        "        print(f\"Warning: Singularity encountered at r = {r}. Stopping integration.\")\n",
        "        return None\n",
        "\n",
        "    # Calculate non-zero Christoffel symbols\n",
        "    # Γ⁰_01 = M / (r * (r - 2M))\n",
        "    Gamma_0_01 = M / (r * (r - 2 * M))\n",
        "\n",
        "    # Γ¹_00 = M * (r - 2M) / r³\n",
        "    Gamma_1_00 = M * (r - 2 * M) / (r**3)\n",
        "\n",
        "    # Γ¹_11 = M / (r * (2M - r))\n",
        "    Gamma_1_11 = M / (r * (2 * M - r))\n",
        "\n",
        "    # Calculate the second derivatives using the geodesic equations:\n",
        "    # d²t/dλ² = -2 * Γ⁰_01 * (dt/dλ) * (dr/dλ)\n",
        "    ddt_dlambda2 = -2 * Gamma_0_01 * vt * vr\n",
        "\n",
        "    # d²r/dλ² = -Γ¹_00 * (dt/dλ)² - Γ¹_11 * (dr/dλ)²\n",
        "    ddr_dlambda2 = -Gamma_1_00 * (vt**2) - Gamma_1_11 * (vr**2)\n",
        "\n",
        "    # The ODE system requires returning the first derivatives (velocities) and the second derivatives (accelerations)\n",
        "    # [dt/dλ, dr/dλ, d²t/dλ², d²r/dλ²]\n",
        "    return [vt, vr, ddt_dlambda2, ddr_dlambda2]\n",
        "\n",
        "print(\"The 'ode_system_curved' function for the 1+1 curved spacetime geodesic equations has been defined.\")"
      ],
      "execution_count": 24,
      "outputs": [
        {
          "output_type": "stream",
          "name": "stdout",
          "text": [
            "The 'ode_system_curved' function for the 1+1 curved spacetime geodesic equations has been defined.\n"
          ]
        }
      ]
    },
    {
      "cell_type": "markdown",
      "metadata": {
        "id": "f597627a"
      },
      "source": [
        "## Define initial conditions\n",
        "\n",
        "### Subtask:\n",
        "Specify the initial position and velocity of the object in the curved spacetime.\n"
      ]
    },
    {
      "cell_type": "markdown",
      "metadata": {
        "id": "9aefe80c"
      },
      "source": [
        "**Reasoning**:\n",
        "Define the initial state with appropriate numerical values for the initial time, spatial position (greater than 2M), and initial velocities, then print the defined initial state.\n",
        "\n"
      ]
    },
    {
      "cell_type": "code",
      "metadata": {
        "colab": {
          "base_uri": "https://localhost:8080/"
        },
        "id": "92b70f94",
        "outputId": "52c3bcca-9ec8-459a-b0eb-40ccfab74268"
      },
      "source": [
        "# 1. Define a list or array named initial_state_curved containing the initial values\n",
        "#    for the dependent variables [t, r, vt, vr].\n",
        "# 2. Choose appropriate numerical values for the initial time, spatial position, and initial velocities.\n",
        "#    Remember that the spatial position r should be greater than 2M to avoid the singularity.\n",
        "#    Let's set M = 1.0 as used in ode_system_curved.\n",
        "M = 1.0\n",
        "initial_t = 0.0  # Starting time at t = 0\n",
        "initial_r = 5.0  # Starting spatial position at r = 5.0 (must be > 2*M = 2.0)\n",
        "initial_vt = 1.0 # Initial velocity in the time direction (dt/dλ) - can be non-zero for massive particles\n",
        "initial_vr = 0.0  # Initial velocity in the spatial direction (dr/dλ) - starting at rest spatially\n",
        "\n",
        "initial_state_curved = [initial_t, initial_r, initial_vt, initial_vr]\n",
        "\n",
        "# 3. Print the defined initial_state_curved to confirm the values.\n",
        "print(f\"Initial state [t, r, vt, vr] for curved spacetime: {initial_state_curved}\")"
      ],
      "execution_count": 25,
      "outputs": [
        {
          "output_type": "stream",
          "name": "stdout",
          "text": [
            "Initial state [t, r, vt, vr] for curved spacetime: [0.0, 5.0, 1.0, 0.0]\n"
          ]
        }
      ]
    },
    {
      "cell_type": "markdown",
      "metadata": {
        "id": "49997760"
      },
      "source": [
        "## Solve the equations\n",
        "\n",
        "### Subtask:\n",
        "Use the existing RK4 solver to find the position of the object in the curved spacetime.\n"
      ]
    },
    {
      "cell_type": "markdown",
      "metadata": {
        "id": "b9a3721b"
      },
      "source": [
        "**Reasoning**:\n",
        "Implement the simulation loop to calculate the position and velocity at different times using the defined `rk4_step` function and the new `ode_system_curved` function, handle potential singularity, store the results, then extract and print the time, position, and affine parameter values.\n",
        "\n"
      ]
    },
    {
      "cell_type": "code",
      "metadata": {
        "colab": {
          "base_uri": "https://localhost:8080/"
        },
        "id": "a1f70339",
        "outputId": "7e047a1e-a65f-4168-f42e-839798497670"
      },
      "source": [
        "# 1. Initialize an empty list or array named states_curved to store the calculated states (t, r, vt, vr) at each step.\n",
        "states_curved = []\n",
        "# 2. Add the initial_state_curved to the states_curved list.\n",
        "states_curved.append(initial_state_curved)\n",
        "\n",
        "# 3. Choose a step size for the affine parameter (dlambda) and a total number of steps (num_steps).\n",
        "# Use values similar to previous steps for consistency, e.g., dlambda = 0.1 and num_steps = 100.\n",
        "dlambda = 0.1  # Step size\n",
        "num_steps = 100  # Total number of steps\n",
        "\n",
        "# 4. Loop for the specified number of steps.\n",
        "current_state = initial_state_curved\n",
        "for i in range(num_steps):\n",
        "  # 5. Inside the loop, use the rk4_step function with the ode_system_curved function to calculate the next_state.\n",
        "  next_state = rk4_step(current_state, dlambda, ode_system_curved)\n",
        "\n",
        "  # 6. Before appending the next_state, check if the result from ode_system_curved is None (indicating a singularity).\n",
        "  # If it is None, print a message and break the loop.\n",
        "  if next_state is None:\n",
        "      print(f\"Simulation stopped at step {i+1} due to singularity.\")\n",
        "      break\n",
        "\n",
        "  # 7. Append the calculated next_state to the states_curved list.\n",
        "  states_curved.append(next_state)\n",
        "  # 8. Update the current_state to the newly calculated next_state for the next iteration.\n",
        "  current_state = next_state\n",
        "\n",
        "# 9. After the loop, extract the time (t) and spatial position (r) values and the corresponding affine parameter values from the states_curved list.\n",
        "# 11. Store the extracted time, position, and affine parameter values in separate lists or arrays.\n",
        "times_curved = [state[0] for state in states_curved]\n",
        "positions_curved = [state[1] for state in states_curved]\n",
        "# 10. The affine parameter values are simply the step number multiplied by the step size.\n",
        "affine_parameters_curved = [i * dlambda for i in range(len(states_curved))]\n",
        "\n",
        "# 12. Print the first few calculated time, position, and affine parameter values to verify the output.\n",
        "print(\"First 5 calculated times:\", times_curved[:5])\n",
        "print(\"First 5 calculated positions:\", positions_curved[:5])\n",
        "print(\"First 5 affine parameter values:\", affine_parameters_curved[:5])"
      ],
      "execution_count": 26,
      "outputs": [
        {
          "output_type": "stream",
          "name": "stdout",
          "text": [
            "First 5 calculated times: [0.0, 0.10000053334293357, 0.2000042671467313, 0.30001440371637167, 0.4000341490478081]\n",
            "First 5 calculated positions: [5.0, 4.999879999039985, 4.999519984638986, 4.998919922227876, 4.998079754171156]\n",
            "First 5 affine parameter values: [0.0, 0.1, 0.2, 0.30000000000000004, 0.4]\n"
          ]
        }
      ]
    },
    {
      "cell_type": "markdown",
      "metadata": {
        "id": "7340fd50"
      },
      "source": [
        "## Visualize the path\n",
        "\n",
        "### Subtask:\n",
        "Plot the calculated path of the object in the curved spacetime.\n"
      ]
    },
    {
      "cell_type": "markdown",
      "metadata": {
        "id": "90ff3a22"
      },
      "source": [
        "**Reasoning**:\n",
        "Plot the calculated spatial position values against the corresponding affine parameter values using matplotlib as requested in the instructions.\n",
        "\n"
      ]
    },
    {
      "cell_type": "code",
      "metadata": {
        "colab": {
          "base_uri": "https://localhost:8080/",
          "height": 409
        },
        "id": "ce8917e9",
        "outputId": "47b8ce56-6d1f-4c43-c105-112501b38150"
      },
      "source": [
        "import matplotlib.pyplot as plt\n",
        "\n",
        "# 2. Create a plot of the calculated spatial position values (`positions_curved`) against the corresponding affine parameter values (`affine_parameters_curved`).\n",
        "plt.figure(figsize=(10, 6)) # Optional: Adjust figure size\n",
        "plt.plot(affine_parameters_curved, positions_curved)\n",
        "\n",
        "# 3. Add an appropriate label to the x-axis (e.g., \"Affine Parameter (λ)\").\n",
        "plt.xlabel(\"Affine Parameter (λ)\")\n",
        "\n",
        "# 4. Add an appropriate label to the y-axis (e.g., \"Spatial Position (r)\").\n",
        "plt.ylabel(\"Spatial Position (r)\")\n",
        "\n",
        "# 5. Add a title to the plot that indicates it's a geodesic path in curved spacetime.\n",
        "plt.title(\"Geodesic Path in 1+1 Curved Spacetime\")\n",
        "\n",
        "# 6. Add a grid to the plot for better readability.\n",
        "plt.grid(True)\n",
        "\n",
        "# 7. Display the plot.\n",
        "plt.show()"
      ],
      "execution_count": 27,
      "outputs": [
        {
          "output_type": "display_data",
          "data": {
            "text/plain": [
              "<Figure size 1000x600 with 1 Axes>"
            ],
            "image/png": "[encoded data removed]"
          },
          "metadata": {}
        }
      ]
    },
    {
      "cell_type": "markdown",
      "metadata": {
        "id": "3628089b"
      },
      "source": [
        "## Add interactivity (optional)\n",
        "\n",
        "### Subtask:\n",
        "Allow users to change initial conditions or spacetime parameters and see how the path changes in the curved spacetime.\n"
      ]
    },
    {
      "cell_type": "markdown",
      "metadata": {
        "id": "8f04d548"
      },
      "source": [
        "**Reasoning**:\n",
        "Implement the interactive plotting function for the curved spacetime geodesic, including all necessary steps from calculation to visualization, and then set up the interactive widgets and the `interact` call.\n",
        "\n"
      ]
    },
    {
      "cell_type": "code",
      "metadata": {
        "colab": {
          "base_uri": "https://localhost:8080/",
          "height": 633,
          "referenced_widgets": [
            "3fec0ffe8b8b47a3b5398c8bb84fd303",
            "94a097b75fa64e46a5da9bcf72182cdd",
            "b31a6a42d1b54480bd7e75a9fa7a2a89",
            "5f148e1cd9684c70b27486e7f7533e2b",
            "0543308390f04f6eb47c3e14567fe915",
            "da18912334984d08b2552318326803a0",
            "1c2f2875041b4369a1511f735524d01e",
            "20880d9f9362425eb24e6be029c0cf37",
            "0cdff35d48164001be8c3228bf3662ce",
            "261ae4252190497d9c65a59070f2a732",
            "a8d4c2888184422c8a6f1ed20af89ad5",
            "70bcdbd010f945dc845933102576e472",
            "3c193e471b9e4d41bc4f3f3f3c9c63a1",
            "a11b387d3e0c48c790dbe8b10701e40d",
            "75e07364805945cea83418d314f62000",
            "4eaa88604fe6484e9fe66cb98022529e",
            "6ac6f9a5a7b0420fbbd28f48f5557358",
            "9fecb07e4ac2420f9e87bdcb893eb01b",
            "44b44d229e7d48a4a947b19f56bdb4e1",
            "1be458a8ea4c4b60bd7d02fd745c70e9",
            "080dc22fb4734788b8e521ebfca86222",
            "969d451f2066454b90e627bacb851e95",
            "dff534f09a3a4a0994aa4c6c3255c404",
            "874dc36d11414878b86f0f42ec6a4c25",
            "f4ac312e53dd48e8b14ab365a64a2086"
          ]
        },
        "id": "b89430e6",
        "outputId": "80815ff5-67df-4e13-e670-b7ff39ef56ab"
      },
      "source": [
        "import matplotlib.pyplot as plt\n",
        "import ipywidgets as widgets\n",
        "from ipywidgets import interact, FloatSlider, IntSlider\n",
        "\n",
        "def plot_geodesic_curved(initial_t, initial_r, initial_vt, initial_vr, dlambda, num_steps, M):\n",
        "    \"\"\"\n",
        "    Calculates and plots the geodesic path in 1+1 curved spacetime for given initial conditions and parameters.\n",
        "\n",
        "    Args:\n",
        "        initial_t: Initial time.\n",
        "        initial_r: Initial spatial position.\n",
        "        initial_vt: Initial velocity in the time direction (dt/dλ).\n",
        "        initial_vr: Initial velocity in the spatial direction (dr/dλ).\n",
        "        dlambda: Step size for the affine parameter.\n",
        "        num_steps: Total number of steps.\n",
        "        M: Mass parameter.\n",
        "    \"\"\"\n",
        "\n",
        "    def ode_system_curved_interactive(state, lambda_param):\n",
        "        \"\"\"\n",
        "        Represents the system of first-order ODEs for the geodesic equation\n",
        "        in 1+1 curved spacetime (simplified Schwarzschild-like metric), using M from the outer scope.\n",
        "\n",
        "        Args:\n",
        "            state: A list or array containing the current values of the dependent variables\n",
        "                   [t, r, vt, vr].\n",
        "            lambda_param: The current value of the affine parameter λ.\n",
        "\n",
        "        Returns:\n",
        "            A list or array containing the derivatives [dt/dλ, dr/dλ, d²t/dλ², d²r/dλ²].\n",
        "            Returns None if a singularity is encountered.\n",
        "        \"\"\"\n",
        "        t, r, vt, vr = state\n",
        "\n",
        "        # Handle potential singularity at r = 2M and r = 0\n",
        "        if r <= 2 * M or r == 0:\n",
        "            # Print the warning here before returning None\n",
        "            # This message will appear in the widget output\n",
        "            print(f\"Warning: Singularity encountered at r = {r:.4f} (2M = {2*M:.4f}). Stopping integration.\")\n",
        "            return None\n",
        "\n",
        "        # Calculate non-zero Christoffel symbols\n",
        "        # Γ⁰_01 = M / (r * (r - 2M))\n",
        "        Gamma_0_01 = M / (r * (r - 2 * M))\n",
        "\n",
        "        # Γ¹_00 = M * (r - 2M) / r³\n",
        "        Gamma_1_00 = M * (r - 2 * M) / (r**3)\n",
        "\n",
        "        # Γ¹_11 = M / (r * (2M - r))\n",
        "        Gamma_1_11 = M / (r * (2 * M - r))\n",
        "\n",
        "        # Calculate the second derivatives using the geodesic equations:\n",
        "        # d²t/dλ² = -2 * Γ⁰_01 * (dt/dλ) * (dr/dλ)\n",
        "        ddt_dlambda2 = -2 * Gamma_0_01 * vt * vr\n",
        "\n",
        "        # d²r/dλ² = -Γ¹_00 * (dt/dλ)² - Γ¹_11 * (dr/dλ)²\n",
        "        ddr_dlambda2 = -Gamma_1_00 * (vt**2) - Gamma_1_11 * (vr**2)\n",
        "\n",
        "        return [vt, vr, ddt_dlambda2, ddr_dlambda2]\n",
        "\n",
        "\n",
        "    initial_state = [initial_t, initial_r, initial_vt, initial_vr]\n",
        "    states_curved = [initial_state]\n",
        "\n",
        "    current_state = initial_state\n",
        "    for i in range(num_steps):\n",
        "        next_state = rk4_step(current_state, dlambda, ode_system_curved_interactive)\n",
        "\n",
        "        if next_state is None:\n",
        "            break\n",
        "\n",
        "        states_curved.append(next_state)\n",
        "        current_state = next_state\n",
        "\n",
        "    times_curved = [state[0] for state in states_curved]\n",
        "    positions_curved = [state[1] for state in states_curved]\n",
        "    affine_parameters_curved = [i * dlambda for i in range(len(states_curved))]\n",
        "\n",
        "\n",
        "    plt.figure(figsize=(10, 6))\n",
        "    plt.plot(affine_parameters_curved, positions_curved)\n",
        "    plt.xlabel(\"Affine Parameter (λ)\")\n",
        "    plt.ylabel(\"Spatial Position (r)\")\n",
        "    plt.title(\"Geodesic Path in 1+1 Curved Spacetime\")\n",
        "    plt.grid(True)\n",
        "\n",
        "    # Add horizontal line for Schwarzschild radius\n",
        "    if M > 0:\n",
        "        plt.axhline(y=2*M, color='r', linestyle='--', label=f'Schwarzschild Radius (2M={2*M:.2f})')\n",
        "        plt.legend()\n",
        "\n",
        "    plt.show()\n",
        "\n",
        "# Create interactive widgets\n",
        "initial_t_slider = FloatSlider(min=-10.0, max=10.0, step=0.1, value=0.0, description='Initial t:')\n",
        "initial_r_slider = FloatSlider(min=2.1, max=20.0, step=0.1, value=5.0, description='Initial r (r > 2M):') # Ensure r > 2M\n",
        "initial_vt_slider = FloatSlider(min=-5.0, max=5.0, step=0.1, value=1.0, description='Initial vt (dt/dλ):')\n",
        "initial_vr_slider = FloatSlider(min=-5.0, max=5.0, step=0.1, value=0.0, description='Initial vr (dr/dλ):')\n",
        "dlambda_slider = FloatSlider(min=0.001, max=0.5, step=0.001, value=0.01, description='dlambda:')\n",
        "num_steps_slider = IntSlider(min=10, max=1000, step=10, value=200, description='Num Steps:')\n",
        "M_slider = FloatSlider(min=0.1, max=5.0, step=0.1, value=1.0, description='Mass (M):')\n",
        "\n",
        "\n",
        "# Use interact to link the function to the widgets\n",
        "interact(plot_geodesic_curved,\n",
        "         initial_t=initial_t_slider,\n",
        "         initial_r=initial_r_slider,\n",
        "         initial_vt=initial_vt_slider,\n",
        "         initial_vr=initial_vr_slider,\n",
        "         dlambda=dlambda_slider,\n",
        "         num_steps=num_steps_slider,\n",
        "         M=M_slider);"
      ],
      "execution_count": 28,
      "outputs": [
        {
          "output_type": "display_data",
          "data": {
            "text/plain": [
              "interactive(children=(FloatSlider(value=0.0, description='Initial t:', max=10.0, min=-10.0), FloatSlider(value…"
            ],
            "application/vnd.jupyter.widget-view+json": {
              "version_major": 2,
              "version_minor": 0,
              "model_id": "3fec0ffe8b8b47a3b5398c8bb84fd303"
            }
          },
          "metadata": {}
        }
      ]
    },
    {
      "cell_type": "markdown",
      "metadata": {
        "id": "13ffb157"
      },
      "source": [
        "## Summary:\n",
        "\n",
        "### Data Analysis Key Findings\n",
        "\n",
        "*   A simplified 1+1 dimensional curved spacetime metric, $ds² = -(1 - 2M/r) dt² + (1 - 2M/r)⁻¹ dr²$, inspired by the Schwarzschild metric, was chosen to represent a gravitational field. In this metric, 'r' is the spatial dimension, 't' is the time dimension, and 'M' is a parameter related to mass.\n",
        "*   The metric tensor for this spacetime was derived as a 2x2 diagonal matrix with components $g_{00} = -(1 - 2M/r)$ and $g_{11} = (1 - 2M/r)⁻¹$.\n",
        "*   The non-zero Christoffel symbols for this metric were calculated using symbolic differentiation:\n",
        "    *   $\\Gamma⁰_{01} = \\Gamma⁰_{10} = M / (r * (r - 2M))$\n",
        "    *   $\\Gamma¹_{00} = M * (r - 2M) / r³$\n",
        "    *   $\\Gamma¹_{11} = M / (r * (2M - r))$\n",
        "*   The geodesic equations, which are coupled second-order differential equations, were written down using the calculated Christoffel symbols:\n",
        "    *   $d²t/dλ² + 2 * (M / (r * (r - 2M))) * (dt/dλ)(dr/dλ) = 0$\n",
        "    *   $d²r/dλ² + (M * (r - 2M) / r³) * (dt/dλ)² + (M / (r * (2M - r))) * (dr/dλ)² = 0$\n",
        "*   An ODE system function (`ode_system_curved`) was implemented to represent these geodesic equations in a format suitable for numerical solvers, including a check for the singularity at $r \\le 2M$ or $r = 0$.\n",
        "*   Initial conditions for the object's time, spatial position, and velocities ([t, r, vt, vr]) were defined, ensuring the initial radial position was outside the Schwarzschild radius ($r > 2M$).\n",
        "*   The RK4 numerical method was used to solve the geodesic equations and calculate the object's path over a specified number of steps, storing the time and spatial position at each step.\n",
        "*   The calculated spatial position ($r$) was plotted against the affine parameter ($\\lambda$) to visualize the geodesic path in the curved spacetime.\n",
        "*   An interactive tool was successfully implemented using `ipywidgets` to allow users to dynamically change the initial conditions and the mass parameter (M) and immediately visualize the resulting change in the geodesic path.\n",
        "\n",
        "### Insights or Next Steps\n",
        "\n",
        "*   The simulation demonstrates how the curvature of spacetime, as defined by the chosen metric and its Christoffel symbols, influences the path of a free-falling object compared to a flat spacetime.\n",
        "*   A next step could be to explore different 1+1 dimensional metrics or extend the simulation to 2+1 or 3+1 dimensions (e.g., the full Schwarzschild metric) to observe more complex relativistic effects like light bending or the behavior near event horizons.\n"
      ]
    }
  ]
}