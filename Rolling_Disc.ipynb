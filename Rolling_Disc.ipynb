{
  "nbformat": 4,
  "nbformat_minor": 0,
  "metadata": {
    "colab": {
      "provenance": [],
      "authorship_tag": "ABX9TyO3oTxFZ8CV5ywfT7VrZvOb",
      "include_colab_link": true
    },
    "kernelspec": {
      "name": "python3",
      "display_name": "Python 3"
    },
    "language_info": {
      "name": "python"
    }
  },
  "cells": [
    {
      "cell_type": "markdown",
      "metadata": {
        "id": "view-in-github",
        "colab_type": "text"
      },
      "source": [
        "<a href=\"https://colab.research.google.com/github/twyeh/university-physics/blob/main/Rolling_Disc.ipynb\" target=\"_parent\"><img src=\"https://colab.research.google.com/assets/colab-badge.svg\" alt=\"Open In Colab\"/></a>"
      ]
    },
    {
      "cell_type": "code",
      "execution_count": null,
      "metadata": {
        "colab": {
          "base_uri": "https://localhost:8080/"
        },
        "id": "qg-CzjHIR9RX",
        "outputId": "a67949f9-9a9c-4c23-b787-f4177b04e3fa"
      },
      "outputs": [
        {
          "output_type": "stream",
          "name": "stdout",
          "text": [
            "Collecting pydy\n",
            "  Downloading pydy-0.7.1.tar.gz (6.6 MB)\n",
            "\u001b[2K     \u001b[90m━━━━━━━━━━━━━━━━━━━━━━━━━━━━━━━━━━━━━━━━\u001b[0m \u001b[32m6.6/6.6 MB\u001b[0m \u001b[31m53.9 MB/s\u001b[0m eta \u001b[36m0:00:00\u001b[0m\n",
            "\u001b[?25h  Preparing metadata (setup.py) ... \u001b[?25l\u001b[?25hdone\n",
            "Requirement already satisfied: numpy>=1.16.5 in /usr/local/lib/python3.10/dist-packages (from pydy) (1.23.5)\n",
            "Requirement already satisfied: setuptools>=44.0.0 in /usr/local/lib/python3.10/dist-packages (from pydy) (67.7.2)\n",
            "Requirement already satisfied: scipy>=1.3.3 in /usr/local/lib/python3.10/dist-packages (from pydy) (1.11.2)\n",
            "Requirement already satisfied: sympy>=1.5.1 in /usr/local/lib/python3.10/dist-packages (from pydy) (1.12)\n",
            "Requirement already satisfied: mpmath>=0.19 in /usr/local/lib/python3.10/dist-packages (from sympy>=1.5.1->pydy) (1.3.0)\n",
            "Building wheels for collected packages: pydy\n",
            "  Building wheel for pydy (setup.py) ... \u001b[?25l\u001b[?25hdone\n",
            "  Created wheel for pydy: filename=pydy-0.7.1-py3-none-any.whl size=5227161 sha256=9097615a116b6ca3905445f098729177d303f514325f5781b36a29fdf54d734d\n",
            "  Stored in directory: /root/.cache/pip/wheels/62/12/5d/1e31d6714ccb545f71b3abc738428c44a6d3b9fcf8efa4794e\n",
            "Successfully built pydy\n",
            "Installing collected packages: pydy\n",
            "Successfully installed pydy-0.7.1\n"
          ]
        }
      ],
      "source": [
        "pip install pydy"
      ]
    },
    {
      "cell_type": "code",
      "source": [
        "from sympy import symbols, sin, cos, tan\n",
        "from sympy.physics.mechanics import *\n",
        "q1, q2, q3, u1, u2, u3  = dynamicsymbols('q1 q2 q3 u1 u2 u3')\n",
        "q1d, q2d, q3d, u1d, u2d, u3d = dynamicsymbols('q1 q2 q3 u1 u2 u3', 1)\n",
        "r, m, g = symbols('r m g')\n",
        "mechanics_printing(pretty_print=False)"
      ],
      "metadata": {
        "id": "hZDLzO7GTGZR"
      },
      "execution_count": null,
      "outputs": []
    },
    {
      "cell_type": "code",
      "source": [
        "N = ReferenceFrame('N')\n",
        "Y = N.orientnew('Y', 'Axis', [q1, N.z])\n",
        "L = Y.orientnew('L', 'Axis', [q2, Y.x])\n",
        "R = L.orientnew('R', 'Axis', [q3, L.y])\n",
        "w_R_N_qd = R.ang_vel_in(N)\n",
        "R.set_ang_vel(N, u1 * L.x + u2 * L.y + u3 * L.z)"
      ],
      "metadata": {
        "id": "US6KDnPUTK3s"
      },
      "execution_count": null,
      "outputs": []
    },
    {
      "cell_type": "code",
      "source": [
        "C = Point('C')\n",
        "C.set_vel(N, 0)\n",
        "Dmc = C.locatenew('Dmc', r * L.z)\n",
        "Dmc.v2pt_theory(C, N, R)"
      ],
      "metadata": {
        "colab": {
          "base_uri": "https://localhost:8080/"
        },
        "id": "qCRcUG4_TOX9",
        "outputId": "55d7aa0b-0e89-4167-c73b-84846869427b"
      },
      "execution_count": null,
      "outputs": [
        {
          "output_type": "execute_result",
          "data": {
            "text/plain": [
              "r*u2*L.x - r*u1*L.y"
            ]
          },
          "metadata": {},
          "execution_count": 5
        }
      ]
    },
    {
      "cell_type": "code",
      "source": [
        "I = inertia(L, m / 4 * r**2, m / 2 * r**2, m / 4 * r**2)\n",
        "mprint(I)"
      ],
      "metadata": {
        "colab": {
          "base_uri": "https://localhost:8080/"
        },
        "id": "Gh_jW-MlTTGh",
        "outputId": "f035bb58-bf25-485a-b613-e10a96b335a9"
      },
      "execution_count": null,
      "outputs": [
        {
          "output_type": "stream",
          "name": "stdout",
          "text": [
            "m*r**2/4*(L.x|L.x) + m*r**2/2*(L.y|L.y) + m*r**2/4*(L.z|L.z)\n"
          ]
        }
      ]
    },
    {
      "cell_type": "code",
      "source": [
        "kd = [dot(R.ang_vel_in(N) - w_R_N_qd, uv) for uv in L]"
      ],
      "metadata": {
        "id": "1Wljtt9-TWxS"
      },
      "execution_count": null,
      "outputs": []
    },
    {
      "cell_type": "code",
      "source": [
        "ForceList = [(Dmc, - m * g * Y.z)]\n",
        "BodyD = RigidBody('BodyD', Dmc, R, m, (I, Dmc))\n",
        "BodyList = [BodyD]"
      ],
      "metadata": {
        "id": "TSDE6O72Taiz"
      },
      "execution_count": null,
      "outputs": []
    },
    {
      "cell_type": "code",
      "source": [
        "KM = KanesMethod(N, q_ind=[q1, q2, q3], u_ind=[u1, u2, u3], kd_eqs=kd)\n",
        "(fr, frstar) = KM.kanes_equations(BodyList, ForceList)\n",
        "MM = KM.mass_matrix\n",
        "forcing = KM.forcing\n",
        "rhs = MM.inv() * forcing\n",
        "kdd = KM.kindiffdict()\n",
        "rhs = rhs.subs(kdd)\n",
        "rhs.simplify()\n",
        "mprint(rhs)"
      ],
      "metadata": {
        "colab": {
          "base_uri": "https://localhost:8080/"
        },
        "id": "wfDw3vfVTed1",
        "outputId": "91196ee8-810c-4f1b-c625-83abef5f129a"
      },
      "execution_count": null,
      "outputs": [
        {
          "output_type": "stream",
          "name": "stdout",
          "text": [
            "Matrix([\n",
            "[(4*g*sin(q2) + 6*r*u2*u3 - r*u3**2*tan(q2))/(5*r)],\n",
            "[                                       -2*u1*u3/3],\n",
            "[                          (-2*u2 + u3*tan(q2))*u1]])\n"
          ]
        }
      ]
    }
  ]
}