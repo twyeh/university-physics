{
  "nbformat": 4,
  "nbformat_minor": 0,
  "metadata": {
    "colab": {
      "private_outputs": true,
      "provenance": [],
      "toc_visible": true,
      "mount_file_id": "1dbHXBrwiURkadV-uhPIrD4uBckuef1du",
      "authorship_tag": "ABX9TyMLj51zMIxMc/vaFd3i/icE",
      "include_colab_link": true
    },
    "kernelspec": {
      "name": "python3",
      "display_name": "Python 3"
    },
    "language_info": {
      "name": "python"
    }
  },
  "cells": [
    {
      "cell_type": "markdown",
      "metadata": {
        "id": "view-in-github",
        "colab_type": "text"
      },
      "source": [
        "<a href=\"https://colab.research.google.com/github/twyeh/university-physics/blob/main/%E7%9E%AC%E6%99%82%E9%80%9F%E5%BA%A6%E5%AF%A6%E9%A9%97.ipynb\" target=\"_parent\"><img src=\"https://colab.research.google.com/assets/colab-badge.svg\" alt=\"Open In Colab\"/></a>"
      ]
    },
    {
      "cell_type": "code",
      "execution_count": null,
      "metadata": {
        "id": "CMoT4k7PfgUk"
      },
      "outputs": [],
      "source": [
        "import matplotlib.pyplot as plt\n",
        "import numpy as np\n",
        "from scipy.optimize import curve_fit"
      ]
    },
    {
      "cell_type": "markdown",
      "source": [
        "# 瞬時速度實驗\n",
        "## 前言\n",
        "瞬時速度\n",
        "## 定義\n",
        "$$\n",
        "v(t)=\\frac{dx}{dt}=\\lim_{\\Delta t\\to 0}\\frac{\\Delta x}{\\Delta t}\n",
        "$$"
      ],
      "metadata": {
        "id": "9fJPC_T3wb7a"
      }
    },
    {
      "cell_type": "code",
      "source": [
        "delx=[1.0,0.9,0.8,0.7,0.6,0.5,0.4,0.3,0.2,0.1]\n",
        "delt=[1.41,0.97,0.78,0.64,0.52,0.41,0.32,0.23,0.15,0.07,]"
      ],
      "metadata": {
        "id": "Bmku-BM6eL0N"
      },
      "execution_count": null,
      "outputs": []
    },
    {
      "cell_type": "code",
      "source": [
        "v_data=[]\n",
        "for i in np.arange(10):\n",
        "    v_data.append(delx[i]/delt[i])\n",
        "    print(i,v_data)"
      ],
      "metadata": {
        "id": "836zf_dIhPRw"
      },
      "execution_count": null,
      "outputs": []
    },
    {
      "cell_type": "code",
      "source": [
        "xdata = np.asarray(delt)\n",
        "ydata = np.asarray(v_data)\n",
        "#xerror = np.asarray(t_noise)\n",
        "#plt.errorbar(xdata, ydata, yerr=0, xerr=xerror, fmt='none')\n",
        "plt.plot(xdata, ydata, 'o')\n",
        "plt.show()"
      ],
      "metadata": {
        "id": "sfv108cehtx2"
      },
      "execution_count": null,
      "outputs": []
    },
    {
      "cell_type": "code",
      "source": [
        "# Define the Model function\n",
        "def Model(x, A, B):\n",
        "    return  A*x+B"
      ],
      "metadata": {
        "id": "uCNgIXh0inrp"
      },
      "execution_count": null,
      "outputs": []
    },
    {
      "cell_type": "markdown",
      "source": [],
      "metadata": {
        "id": "HOJD7QWjn0s2"
      }
    },
    {
      "cell_type": "code",
      "source": [
        "v_param, v_covar = curve_fit(Model, xdata, ydata)\n",
        "print(v_param)\n",
        "print(v_covar)"
      ],
      "metadata": {
        "id": "Wge0JN7oirbr"
      },
      "execution_count": null,
      "outputs": []
    },
    {
      "cell_type": "markdown",
      "source": [
        "$$\n",
        "f(\\Delta t)=-0.52*(\\Delta t) +1.43\n",
        "$$\n",
        "$$\n",
        "v(t=1.41\\,\\text{s})=\\lim_{\\Delta t \\to 0}f(\\Delta t)=1.43\\, \\text{m/s}\n",
        "$$"
      ],
      "metadata": {
        "id": "6oaRB-xwmup-"
      }
    },
    {
      "cell_type": "code",
      "source": [
        "t = np.linspace(0.01, 2, 100)\n",
        "fit_v = Model(t, *v_param)\n",
        "plt.plot(xdata, ydata, 'o', label='data')\n",
        "plt.plot(t, fit_v, '-', label='fit')\n",
        "plt.legend()\n",
        "plt.xlabel('time $t$')\n",
        "plt.ylabel('position $x$')\n",
        "plt.title('inclinde surface motion')\n",
        "plt.show()"
      ],
      "metadata": {
        "id": "1IY953FVixat"
      },
      "execution_count": null,
      "outputs": []
    }
  ]
}