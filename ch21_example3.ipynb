{
  "nbformat": 4,
  "nbformat_minor": 0,
  "metadata": {
    "colab": {
      "private_outputs": true,
      "provenance": [],
      "authorship_tag": "ABX9TyMZa6A/U3lH7fq6pawaN6AB",
      "include_colab_link": true
    },
    "kernelspec": {
      "name": "python3",
      "display_name": "Python 3"
    },
    "language_info": {
      "name": "python"
    }
  },
  "cells": [
    {
      "cell_type": "markdown",
      "metadata": {
        "id": "view-in-github",
        "colab_type": "text"
      },
      "source": [
        "<a href=\"https://colab.research.google.com/github/twyeh/university-physics/blob/main/ch21_example3.ipynb\" target=\"_parent\"><img src=\"https://colab.research.google.com/assets/colab-badge.svg\" alt=\"Open In Colab\"/></a>"
      ]
    },
    {
      "cell_type": "markdown",
      "source": [
        "兩個分別帶有正電及負電的點電荷,且兩者相距的距離為d。計算距離兩個點電荷連心線中心點為r處的電場分布。"
      ],
      "metadata": {
        "id": "X_w5klKeq3bz"
      }
    },
    {
      "source": [
        "import numpy as np\n",
        "import matplotlib.pyplot as plt"
      ],
      "cell_type": "code",
      "metadata": {
        "id": "YYBeBSKDrv26"
      },
      "execution_count": null,
      "outputs": []
    },
    {
      "source": [
        "k = 8.98755e9  # 庫侖常數 (N m^2/C^2)\n",
        "q = 1e-9       # 電荷量 (C)\n",
        "d = 1          # 兩個點電荷之間的距離 (m)"
      ],
      "cell_type": "code",
      "metadata": {
        "id": "JEj4MrJOrwpB"
      },
      "execution_count": null,
      "outputs": []
    },
    {
      "source": [
        "def calculate_electric_field(r, d, q):\n",
        "        \"\"\"\n",
        "        計算兩個點電荷在指定點的電場。\n",
        "\n",
        "        參數：\n",
        "            r (numpy.ndarray): 從中心到計算點的距離向量。\n",
        "            d (float): 兩個點電荷之間的距離。\n",
        "            q (float): 點電荷的電荷量。\n",
        "\n",
        "        返回值：\n",
        "            numpy.ndarray: 計算點的電場向量。\n",
        "        \"\"\"\n",
        "        # 兩個點電荷的位置\n",
        "        pos_charge_pos = np.array([0, d/2])\n",
        "        neg_charge_pos = np.array([0, -d/2])\n",
        "\n",
        "        # 從每個點電荷到計算點的距離向量\n",
        "        r_pos = r - pos_charge_pos\n",
        "        r_neg = r - neg_charge_pos\n",
        "\n",
        "        # 距離的平方\n",
        "        r_pos_sq = np.sum(r_pos**2, axis=-1)\n",
        "        r_neg_sq = np.sum(r_neg**2, axis=-1)\n",
        "\n",
        "        # 單位向量\n",
        "        r_pos_unit = r_pos / np.sqrt(r_pos_sq)[..., None]\n",
        "        r_neg_unit = r_neg / np.sqrt(r_neg_sq)[..., None]\n",
        "\n",
        "        # 電場大小\n",
        "        E_pos_mag = k * q / r_pos_sq\n",
        "        E_neg_mag = k * q / r_neg_sq\n",
        "\n",
        "        # 電場向量\n",
        "        E_pos = E_pos_mag[..., None] * r_pos_unit\n",
        "        E_neg = -E_neg_mag[..., None] * r_neg_unit # 注意：負電荷的電場方向相反\n",
        "\n",
        "        # 總電場\n",
        "        E_total = E_pos + E_neg\n",
        "        return E_total"
      ],
      "cell_type": "code",
      "metadata": {
        "id": "bvsJkdssrxR5"
      },
      "execution_count": null,
      "outputs": []
    },
    {
      "source": [
        "# 建立網格\n",
        "x = np.linspace(-2, 2, 40)\n",
        "y = np.linspace(-2, 2, 40)\n",
        "X, Y = np.meshgrid(x, y)\n",
        "points = np.stack([X, Y], axis=-1)"
      ],
      "cell_type": "code",
      "metadata": {
        "id": "yxzG_cncrysi"
      },
      "execution_count": null,
      "outputs": []
    },
    {
      "source": [
        "E = calculate_electric_field(points, d, q)\n",
        "Ex, Ey = E[..., 0], E[..., 1]"
      ],
      "cell_type": "code",
      "metadata": {
        "id": "BXKeaMZLrzTJ"
      },
      "execution_count": null,
      "outputs": []
    },
    {
      "source": [
        "plt.figure(figsize=(8, 6))\n",
        "plt.quiver(X, Y, Ex, Ey, color='b', label='Electric Field')\n",
        "plt.xlabel('x (m)')\n",
        "plt.ylabel('y (m)')\n",
        "plt.title('Electric Field of Two Point Charges')\n",
        "plt.scatter(0, d/2, color='r', marker='+', s=100, label='Positive Charge')\n",
        "plt.scatter(0, -d/2, color='g', marker='_', s=100, label='Negative Charge')\n",
        "plt.legend()\n",
        "plt.grid(True)\n",
        "plt.gca().set_aspect('equal', adjustable='box')\n",
        "plt.show()"
      ],
      "cell_type": "code",
      "metadata": {
        "id": "B9dCLNvNrz4h"
      },
      "execution_count": null,
      "outputs": []
    }
  ]
}